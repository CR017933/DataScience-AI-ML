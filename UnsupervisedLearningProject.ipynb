{
 "cells": [
  {
   "cell_type": "code",
   "execution_count": 3839,
   "metadata": {},
   "outputs": [],
   "source": [
    "#Importing all required libraries\n",
    "import pandas as pd\n",
    "import seaborn as sns\n",
    "import numpy as np\n",
    "import matplotlib.pyplot as plt\n",
    "from sklearn.decomposition import PCA"
   ]
  },
  {
   "cell_type": "code",
   "execution_count": 3840,
   "metadata": {},
   "outputs": [],
   "source": [
    "#Reading the data file\n",
    "vehicles=pd.read_csv('vehicle.csv')"
   ]
  },
  {
   "cell_type": "code",
   "execution_count": 3841,
   "metadata": {},
   "outputs": [
    {
     "data": {
      "text/html": [
       "<div>\n",
       "<style scoped>\n",
       "    .dataframe tbody tr th:only-of-type {\n",
       "        vertical-align: middle;\n",
       "    }\n",
       "\n",
       "    .dataframe tbody tr th {\n",
       "        vertical-align: top;\n",
       "    }\n",
       "\n",
       "    .dataframe thead th {\n",
       "        text-align: right;\n",
       "    }\n",
       "</style>\n",
       "<table border=\"1\" class=\"dataframe\">\n",
       "  <thead>\n",
       "    <tr style=\"text-align: right;\">\n",
       "      <th></th>\n",
       "      <th>compactness</th>\n",
       "      <th>circularity</th>\n",
       "      <th>distance_circularity</th>\n",
       "      <th>radius_ratio</th>\n",
       "      <th>pr.axis_aspect_ratio</th>\n",
       "      <th>max.length_aspect_ratio</th>\n",
       "      <th>scatter_ratio</th>\n",
       "      <th>elongatedness</th>\n",
       "      <th>pr.axis_rectangularity</th>\n",
       "      <th>max.length_rectangularity</th>\n",
       "      <th>scaled_variance</th>\n",
       "      <th>scaled_variance.1</th>\n",
       "      <th>scaled_radius_of_gyration</th>\n",
       "      <th>scaled_radius_of_gyration.1</th>\n",
       "      <th>skewness_about</th>\n",
       "      <th>skewness_about.1</th>\n",
       "      <th>skewness_about.2</th>\n",
       "      <th>hollows_ratio</th>\n",
       "      <th>class</th>\n",
       "    </tr>\n",
       "  </thead>\n",
       "  <tbody>\n",
       "    <tr>\n",
       "      <td>0</td>\n",
       "      <td>95</td>\n",
       "      <td>48.0</td>\n",
       "      <td>83.0</td>\n",
       "      <td>178.0</td>\n",
       "      <td>72.0</td>\n",
       "      <td>10</td>\n",
       "      <td>162.0</td>\n",
       "      <td>42.0</td>\n",
       "      <td>20.0</td>\n",
       "      <td>159</td>\n",
       "      <td>176.0</td>\n",
       "      <td>379.0</td>\n",
       "      <td>184.0</td>\n",
       "      <td>70.0</td>\n",
       "      <td>6.0</td>\n",
       "      <td>16.0</td>\n",
       "      <td>187.0</td>\n",
       "      <td>197</td>\n",
       "      <td>van</td>\n",
       "    </tr>\n",
       "    <tr>\n",
       "      <td>1</td>\n",
       "      <td>91</td>\n",
       "      <td>41.0</td>\n",
       "      <td>84.0</td>\n",
       "      <td>141.0</td>\n",
       "      <td>57.0</td>\n",
       "      <td>9</td>\n",
       "      <td>149.0</td>\n",
       "      <td>45.0</td>\n",
       "      <td>19.0</td>\n",
       "      <td>143</td>\n",
       "      <td>170.0</td>\n",
       "      <td>330.0</td>\n",
       "      <td>158.0</td>\n",
       "      <td>72.0</td>\n",
       "      <td>9.0</td>\n",
       "      <td>14.0</td>\n",
       "      <td>189.0</td>\n",
       "      <td>199</td>\n",
       "      <td>van</td>\n",
       "    </tr>\n",
       "    <tr>\n",
       "      <td>2</td>\n",
       "      <td>104</td>\n",
       "      <td>50.0</td>\n",
       "      <td>106.0</td>\n",
       "      <td>209.0</td>\n",
       "      <td>66.0</td>\n",
       "      <td>10</td>\n",
       "      <td>207.0</td>\n",
       "      <td>32.0</td>\n",
       "      <td>23.0</td>\n",
       "      <td>158</td>\n",
       "      <td>223.0</td>\n",
       "      <td>635.0</td>\n",
       "      <td>220.0</td>\n",
       "      <td>73.0</td>\n",
       "      <td>14.0</td>\n",
       "      <td>9.0</td>\n",
       "      <td>188.0</td>\n",
       "      <td>196</td>\n",
       "      <td>car</td>\n",
       "    </tr>\n",
       "    <tr>\n",
       "      <td>3</td>\n",
       "      <td>93</td>\n",
       "      <td>41.0</td>\n",
       "      <td>82.0</td>\n",
       "      <td>159.0</td>\n",
       "      <td>63.0</td>\n",
       "      <td>9</td>\n",
       "      <td>144.0</td>\n",
       "      <td>46.0</td>\n",
       "      <td>19.0</td>\n",
       "      <td>143</td>\n",
       "      <td>160.0</td>\n",
       "      <td>309.0</td>\n",
       "      <td>127.0</td>\n",
       "      <td>63.0</td>\n",
       "      <td>6.0</td>\n",
       "      <td>10.0</td>\n",
       "      <td>199.0</td>\n",
       "      <td>207</td>\n",
       "      <td>van</td>\n",
       "    </tr>\n",
       "    <tr>\n",
       "      <td>4</td>\n",
       "      <td>85</td>\n",
       "      <td>44.0</td>\n",
       "      <td>70.0</td>\n",
       "      <td>205.0</td>\n",
       "      <td>103.0</td>\n",
       "      <td>52</td>\n",
       "      <td>149.0</td>\n",
       "      <td>45.0</td>\n",
       "      <td>19.0</td>\n",
       "      <td>144</td>\n",
       "      <td>241.0</td>\n",
       "      <td>325.0</td>\n",
       "      <td>188.0</td>\n",
       "      <td>127.0</td>\n",
       "      <td>9.0</td>\n",
       "      <td>11.0</td>\n",
       "      <td>180.0</td>\n",
       "      <td>183</td>\n",
       "      <td>bus</td>\n",
       "    </tr>\n",
       "    <tr>\n",
       "      <td>5</td>\n",
       "      <td>107</td>\n",
       "      <td>NaN</td>\n",
       "      <td>106.0</td>\n",
       "      <td>172.0</td>\n",
       "      <td>50.0</td>\n",
       "      <td>6</td>\n",
       "      <td>255.0</td>\n",
       "      <td>26.0</td>\n",
       "      <td>28.0</td>\n",
       "      <td>169</td>\n",
       "      <td>280.0</td>\n",
       "      <td>957.0</td>\n",
       "      <td>264.0</td>\n",
       "      <td>85.0</td>\n",
       "      <td>5.0</td>\n",
       "      <td>9.0</td>\n",
       "      <td>181.0</td>\n",
       "      <td>183</td>\n",
       "      <td>bus</td>\n",
       "    </tr>\n",
       "    <tr>\n",
       "      <td>6</td>\n",
       "      <td>97</td>\n",
       "      <td>43.0</td>\n",
       "      <td>73.0</td>\n",
       "      <td>173.0</td>\n",
       "      <td>65.0</td>\n",
       "      <td>6</td>\n",
       "      <td>153.0</td>\n",
       "      <td>42.0</td>\n",
       "      <td>19.0</td>\n",
       "      <td>143</td>\n",
       "      <td>176.0</td>\n",
       "      <td>361.0</td>\n",
       "      <td>172.0</td>\n",
       "      <td>66.0</td>\n",
       "      <td>13.0</td>\n",
       "      <td>1.0</td>\n",
       "      <td>200.0</td>\n",
       "      <td>204</td>\n",
       "      <td>bus</td>\n",
       "    </tr>\n",
       "    <tr>\n",
       "      <td>7</td>\n",
       "      <td>90</td>\n",
       "      <td>43.0</td>\n",
       "      <td>66.0</td>\n",
       "      <td>157.0</td>\n",
       "      <td>65.0</td>\n",
       "      <td>9</td>\n",
       "      <td>137.0</td>\n",
       "      <td>48.0</td>\n",
       "      <td>18.0</td>\n",
       "      <td>146</td>\n",
       "      <td>162.0</td>\n",
       "      <td>281.0</td>\n",
       "      <td>164.0</td>\n",
       "      <td>67.0</td>\n",
       "      <td>3.0</td>\n",
       "      <td>3.0</td>\n",
       "      <td>193.0</td>\n",
       "      <td>202</td>\n",
       "      <td>van</td>\n",
       "    </tr>\n",
       "    <tr>\n",
       "      <td>8</td>\n",
       "      <td>86</td>\n",
       "      <td>34.0</td>\n",
       "      <td>62.0</td>\n",
       "      <td>140.0</td>\n",
       "      <td>61.0</td>\n",
       "      <td>7</td>\n",
       "      <td>122.0</td>\n",
       "      <td>54.0</td>\n",
       "      <td>17.0</td>\n",
       "      <td>127</td>\n",
       "      <td>141.0</td>\n",
       "      <td>223.0</td>\n",
       "      <td>112.0</td>\n",
       "      <td>64.0</td>\n",
       "      <td>2.0</td>\n",
       "      <td>14.0</td>\n",
       "      <td>200.0</td>\n",
       "      <td>208</td>\n",
       "      <td>van</td>\n",
       "    </tr>\n",
       "    <tr>\n",
       "      <td>9</td>\n",
       "      <td>93</td>\n",
       "      <td>44.0</td>\n",
       "      <td>98.0</td>\n",
       "      <td>NaN</td>\n",
       "      <td>62.0</td>\n",
       "      <td>11</td>\n",
       "      <td>183.0</td>\n",
       "      <td>36.0</td>\n",
       "      <td>22.0</td>\n",
       "      <td>146</td>\n",
       "      <td>202.0</td>\n",
       "      <td>505.0</td>\n",
       "      <td>152.0</td>\n",
       "      <td>64.0</td>\n",
       "      <td>4.0</td>\n",
       "      <td>14.0</td>\n",
       "      <td>195.0</td>\n",
       "      <td>204</td>\n",
       "      <td>car</td>\n",
       "    </tr>\n",
       "  </tbody>\n",
       "</table>\n",
       "</div>"
      ],
      "text/plain": [
       "   compactness  circularity  distance_circularity  radius_ratio  \\\n",
       "0           95         48.0                  83.0         178.0   \n",
       "1           91         41.0                  84.0         141.0   \n",
       "2          104         50.0                 106.0         209.0   \n",
       "3           93         41.0                  82.0         159.0   \n",
       "4           85         44.0                  70.0         205.0   \n",
       "5          107          NaN                 106.0         172.0   \n",
       "6           97         43.0                  73.0         173.0   \n",
       "7           90         43.0                  66.0         157.0   \n",
       "8           86         34.0                  62.0         140.0   \n",
       "9           93         44.0                  98.0           NaN   \n",
       "\n",
       "   pr.axis_aspect_ratio  max.length_aspect_ratio  scatter_ratio  \\\n",
       "0                  72.0                       10          162.0   \n",
       "1                  57.0                        9          149.0   \n",
       "2                  66.0                       10          207.0   \n",
       "3                  63.0                        9          144.0   \n",
       "4                 103.0                       52          149.0   \n",
       "5                  50.0                        6          255.0   \n",
       "6                  65.0                        6          153.0   \n",
       "7                  65.0                        9          137.0   \n",
       "8                  61.0                        7          122.0   \n",
       "9                  62.0                       11          183.0   \n",
       "\n",
       "   elongatedness  pr.axis_rectangularity  max.length_rectangularity  \\\n",
       "0           42.0                    20.0                        159   \n",
       "1           45.0                    19.0                        143   \n",
       "2           32.0                    23.0                        158   \n",
       "3           46.0                    19.0                        143   \n",
       "4           45.0                    19.0                        144   \n",
       "5           26.0                    28.0                        169   \n",
       "6           42.0                    19.0                        143   \n",
       "7           48.0                    18.0                        146   \n",
       "8           54.0                    17.0                        127   \n",
       "9           36.0                    22.0                        146   \n",
       "\n",
       "   scaled_variance  scaled_variance.1  scaled_radius_of_gyration  \\\n",
       "0            176.0              379.0                      184.0   \n",
       "1            170.0              330.0                      158.0   \n",
       "2            223.0              635.0                      220.0   \n",
       "3            160.0              309.0                      127.0   \n",
       "4            241.0              325.0                      188.0   \n",
       "5            280.0              957.0                      264.0   \n",
       "6            176.0              361.0                      172.0   \n",
       "7            162.0              281.0                      164.0   \n",
       "8            141.0              223.0                      112.0   \n",
       "9            202.0              505.0                      152.0   \n",
       "\n",
       "   scaled_radius_of_gyration.1  skewness_about  skewness_about.1  \\\n",
       "0                         70.0             6.0              16.0   \n",
       "1                         72.0             9.0              14.0   \n",
       "2                         73.0            14.0               9.0   \n",
       "3                         63.0             6.0              10.0   \n",
       "4                        127.0             9.0              11.0   \n",
       "5                         85.0             5.0               9.0   \n",
       "6                         66.0            13.0               1.0   \n",
       "7                         67.0             3.0               3.0   \n",
       "8                         64.0             2.0              14.0   \n",
       "9                         64.0             4.0              14.0   \n",
       "\n",
       "   skewness_about.2  hollows_ratio class  \n",
       "0             187.0            197   van  \n",
       "1             189.0            199   van  \n",
       "2             188.0            196   car  \n",
       "3             199.0            207   van  \n",
       "4             180.0            183   bus  \n",
       "5             181.0            183   bus  \n",
       "6             200.0            204   bus  \n",
       "7             193.0            202   van  \n",
       "8             200.0            208   van  \n",
       "9             195.0            204   car  "
      ]
     },
     "execution_count": 3841,
     "metadata": {},
     "output_type": "execute_result"
    }
   ],
   "source": [
    "vehicles.head(10)\n",
    "#From below data, we can see that most of the values are numeric. We do have NAN values present in the data set\n",
    "#Let's analyze it further"
   ]
  },
  {
   "cell_type": "code",
   "execution_count": 3842,
   "metadata": {},
   "outputs": [],
   "source": [
    "#Data pre-processing – Perform all the necessary pre-processing on the data ready to be fed to an Unsupervised algorithm "
   ]
  },
  {
   "cell_type": "code",
   "execution_count": 3843,
   "metadata": {},
   "outputs": [
    {
     "name": "stdout",
     "output_type": "stream",
     "text": [
      "<class 'pandas.core.frame.DataFrame'>\n",
      "RangeIndex: 846 entries, 0 to 845\n",
      "Data columns (total 19 columns):\n",
      "compactness                    846 non-null int64\n",
      "circularity                    841 non-null float64\n",
      "distance_circularity           842 non-null float64\n",
      "radius_ratio                   840 non-null float64\n",
      "pr.axis_aspect_ratio           844 non-null float64\n",
      "max.length_aspect_ratio        846 non-null int64\n",
      "scatter_ratio                  845 non-null float64\n",
      "elongatedness                  845 non-null float64\n",
      "pr.axis_rectangularity         843 non-null float64\n",
      "max.length_rectangularity      846 non-null int64\n",
      "scaled_variance                843 non-null float64\n",
      "scaled_variance.1              844 non-null float64\n",
      "scaled_radius_of_gyration      844 non-null float64\n",
      "scaled_radius_of_gyration.1    842 non-null float64\n",
      "skewness_about                 840 non-null float64\n",
      "skewness_about.1               845 non-null float64\n",
      "skewness_about.2               845 non-null float64\n",
      "hollows_ratio                  846 non-null int64\n",
      "class                          846 non-null object\n",
      "dtypes: float64(14), int64(4), object(1)\n",
      "memory usage: 125.7+ KB\n"
     ]
    }
   ],
   "source": [
    "vehicles.info()\n",
    "#The data set has 846 rows and 19 columns, all are numeric except column 'class' which is of type object. \n",
    "#This indicates that there is categorical variable which needs to represented in numeric format.\n",
    "#From below data it is evident that not all 846 rows has values, some cells are empty "
   ]
  },
  {
   "cell_type": "code",
   "execution_count": 3844,
   "metadata": {},
   "outputs": [
    {
     "data": {
      "text/html": [
       "<div>\n",
       "<style scoped>\n",
       "    .dataframe tbody tr th:only-of-type {\n",
       "        vertical-align: middle;\n",
       "    }\n",
       "\n",
       "    .dataframe tbody tr th {\n",
       "        vertical-align: top;\n",
       "    }\n",
       "\n",
       "    .dataframe thead th {\n",
       "        text-align: right;\n",
       "    }\n",
       "</style>\n",
       "<table border=\"1\" class=\"dataframe\">\n",
       "  <thead>\n",
       "    <tr style=\"text-align: right;\">\n",
       "      <th></th>\n",
       "      <th>count</th>\n",
       "      <th>mean</th>\n",
       "      <th>std</th>\n",
       "      <th>min</th>\n",
       "      <th>25%</th>\n",
       "      <th>50%</th>\n",
       "      <th>75%</th>\n",
       "      <th>max</th>\n",
       "    </tr>\n",
       "  </thead>\n",
       "  <tbody>\n",
       "    <tr>\n",
       "      <td>compactness</td>\n",
       "      <td>846.0</td>\n",
       "      <td>93.678487</td>\n",
       "      <td>8.234474</td>\n",
       "      <td>73.0</td>\n",
       "      <td>87.00</td>\n",
       "      <td>93.0</td>\n",
       "      <td>100.0</td>\n",
       "      <td>119.0</td>\n",
       "    </tr>\n",
       "    <tr>\n",
       "      <td>circularity</td>\n",
       "      <td>841.0</td>\n",
       "      <td>44.828775</td>\n",
       "      <td>6.152172</td>\n",
       "      <td>33.0</td>\n",
       "      <td>40.00</td>\n",
       "      <td>44.0</td>\n",
       "      <td>49.0</td>\n",
       "      <td>59.0</td>\n",
       "    </tr>\n",
       "    <tr>\n",
       "      <td>distance_circularity</td>\n",
       "      <td>842.0</td>\n",
       "      <td>82.110451</td>\n",
       "      <td>15.778292</td>\n",
       "      <td>40.0</td>\n",
       "      <td>70.00</td>\n",
       "      <td>80.0</td>\n",
       "      <td>98.0</td>\n",
       "      <td>112.0</td>\n",
       "    </tr>\n",
       "    <tr>\n",
       "      <td>radius_ratio</td>\n",
       "      <td>840.0</td>\n",
       "      <td>168.888095</td>\n",
       "      <td>33.520198</td>\n",
       "      <td>104.0</td>\n",
       "      <td>141.00</td>\n",
       "      <td>167.0</td>\n",
       "      <td>195.0</td>\n",
       "      <td>333.0</td>\n",
       "    </tr>\n",
       "    <tr>\n",
       "      <td>pr.axis_aspect_ratio</td>\n",
       "      <td>844.0</td>\n",
       "      <td>61.678910</td>\n",
       "      <td>7.891463</td>\n",
       "      <td>47.0</td>\n",
       "      <td>57.00</td>\n",
       "      <td>61.0</td>\n",
       "      <td>65.0</td>\n",
       "      <td>138.0</td>\n",
       "    </tr>\n",
       "    <tr>\n",
       "      <td>max.length_aspect_ratio</td>\n",
       "      <td>846.0</td>\n",
       "      <td>8.567376</td>\n",
       "      <td>4.601217</td>\n",
       "      <td>2.0</td>\n",
       "      <td>7.00</td>\n",
       "      <td>8.0</td>\n",
       "      <td>10.0</td>\n",
       "      <td>55.0</td>\n",
       "    </tr>\n",
       "    <tr>\n",
       "      <td>scatter_ratio</td>\n",
       "      <td>845.0</td>\n",
       "      <td>168.901775</td>\n",
       "      <td>33.214848</td>\n",
       "      <td>112.0</td>\n",
       "      <td>147.00</td>\n",
       "      <td>157.0</td>\n",
       "      <td>198.0</td>\n",
       "      <td>265.0</td>\n",
       "    </tr>\n",
       "    <tr>\n",
       "      <td>elongatedness</td>\n",
       "      <td>845.0</td>\n",
       "      <td>40.933728</td>\n",
       "      <td>7.816186</td>\n",
       "      <td>26.0</td>\n",
       "      <td>33.00</td>\n",
       "      <td>43.0</td>\n",
       "      <td>46.0</td>\n",
       "      <td>61.0</td>\n",
       "    </tr>\n",
       "    <tr>\n",
       "      <td>pr.axis_rectangularity</td>\n",
       "      <td>843.0</td>\n",
       "      <td>20.582444</td>\n",
       "      <td>2.592933</td>\n",
       "      <td>17.0</td>\n",
       "      <td>19.00</td>\n",
       "      <td>20.0</td>\n",
       "      <td>23.0</td>\n",
       "      <td>29.0</td>\n",
       "    </tr>\n",
       "    <tr>\n",
       "      <td>max.length_rectangularity</td>\n",
       "      <td>846.0</td>\n",
       "      <td>147.998818</td>\n",
       "      <td>14.515652</td>\n",
       "      <td>118.0</td>\n",
       "      <td>137.00</td>\n",
       "      <td>146.0</td>\n",
       "      <td>159.0</td>\n",
       "      <td>188.0</td>\n",
       "    </tr>\n",
       "    <tr>\n",
       "      <td>scaled_variance</td>\n",
       "      <td>843.0</td>\n",
       "      <td>188.631079</td>\n",
       "      <td>31.411004</td>\n",
       "      <td>130.0</td>\n",
       "      <td>167.00</td>\n",
       "      <td>179.0</td>\n",
       "      <td>217.0</td>\n",
       "      <td>320.0</td>\n",
       "    </tr>\n",
       "    <tr>\n",
       "      <td>scaled_variance.1</td>\n",
       "      <td>844.0</td>\n",
       "      <td>439.494076</td>\n",
       "      <td>176.666903</td>\n",
       "      <td>184.0</td>\n",
       "      <td>318.00</td>\n",
       "      <td>363.5</td>\n",
       "      <td>587.0</td>\n",
       "      <td>1018.0</td>\n",
       "    </tr>\n",
       "    <tr>\n",
       "      <td>scaled_radius_of_gyration</td>\n",
       "      <td>844.0</td>\n",
       "      <td>174.709716</td>\n",
       "      <td>32.584808</td>\n",
       "      <td>109.0</td>\n",
       "      <td>149.00</td>\n",
       "      <td>173.5</td>\n",
       "      <td>198.0</td>\n",
       "      <td>268.0</td>\n",
       "    </tr>\n",
       "    <tr>\n",
       "      <td>scaled_radius_of_gyration.1</td>\n",
       "      <td>842.0</td>\n",
       "      <td>72.447743</td>\n",
       "      <td>7.486190</td>\n",
       "      <td>59.0</td>\n",
       "      <td>67.00</td>\n",
       "      <td>71.5</td>\n",
       "      <td>75.0</td>\n",
       "      <td>135.0</td>\n",
       "    </tr>\n",
       "    <tr>\n",
       "      <td>skewness_about</td>\n",
       "      <td>840.0</td>\n",
       "      <td>6.364286</td>\n",
       "      <td>4.920649</td>\n",
       "      <td>0.0</td>\n",
       "      <td>2.00</td>\n",
       "      <td>6.0</td>\n",
       "      <td>9.0</td>\n",
       "      <td>22.0</td>\n",
       "    </tr>\n",
       "    <tr>\n",
       "      <td>skewness_about.1</td>\n",
       "      <td>845.0</td>\n",
       "      <td>12.602367</td>\n",
       "      <td>8.936081</td>\n",
       "      <td>0.0</td>\n",
       "      <td>5.00</td>\n",
       "      <td>11.0</td>\n",
       "      <td>19.0</td>\n",
       "      <td>41.0</td>\n",
       "    </tr>\n",
       "    <tr>\n",
       "      <td>skewness_about.2</td>\n",
       "      <td>845.0</td>\n",
       "      <td>188.919527</td>\n",
       "      <td>6.155809</td>\n",
       "      <td>176.0</td>\n",
       "      <td>184.00</td>\n",
       "      <td>188.0</td>\n",
       "      <td>193.0</td>\n",
       "      <td>206.0</td>\n",
       "    </tr>\n",
       "    <tr>\n",
       "      <td>hollows_ratio</td>\n",
       "      <td>846.0</td>\n",
       "      <td>195.632388</td>\n",
       "      <td>7.438797</td>\n",
       "      <td>181.0</td>\n",
       "      <td>190.25</td>\n",
       "      <td>197.0</td>\n",
       "      <td>201.0</td>\n",
       "      <td>211.0</td>\n",
       "    </tr>\n",
       "  </tbody>\n",
       "</table>\n",
       "</div>"
      ],
      "text/plain": [
       "                             count        mean         std    min     25%  \\\n",
       "compactness                  846.0   93.678487    8.234474   73.0   87.00   \n",
       "circularity                  841.0   44.828775    6.152172   33.0   40.00   \n",
       "distance_circularity         842.0   82.110451   15.778292   40.0   70.00   \n",
       "radius_ratio                 840.0  168.888095   33.520198  104.0  141.00   \n",
       "pr.axis_aspect_ratio         844.0   61.678910    7.891463   47.0   57.00   \n",
       "max.length_aspect_ratio      846.0    8.567376    4.601217    2.0    7.00   \n",
       "scatter_ratio                845.0  168.901775   33.214848  112.0  147.00   \n",
       "elongatedness                845.0   40.933728    7.816186   26.0   33.00   \n",
       "pr.axis_rectangularity       843.0   20.582444    2.592933   17.0   19.00   \n",
       "max.length_rectangularity    846.0  147.998818   14.515652  118.0  137.00   \n",
       "scaled_variance              843.0  188.631079   31.411004  130.0  167.00   \n",
       "scaled_variance.1            844.0  439.494076  176.666903  184.0  318.00   \n",
       "scaled_radius_of_gyration    844.0  174.709716   32.584808  109.0  149.00   \n",
       "scaled_radius_of_gyration.1  842.0   72.447743    7.486190   59.0   67.00   \n",
       "skewness_about               840.0    6.364286    4.920649    0.0    2.00   \n",
       "skewness_about.1             845.0   12.602367    8.936081    0.0    5.00   \n",
       "skewness_about.2             845.0  188.919527    6.155809  176.0  184.00   \n",
       "hollows_ratio                846.0  195.632388    7.438797  181.0  190.25   \n",
       "\n",
       "                               50%    75%     max  \n",
       "compactness                   93.0  100.0   119.0  \n",
       "circularity                   44.0   49.0    59.0  \n",
       "distance_circularity          80.0   98.0   112.0  \n",
       "radius_ratio                 167.0  195.0   333.0  \n",
       "pr.axis_aspect_ratio          61.0   65.0   138.0  \n",
       "max.length_aspect_ratio        8.0   10.0    55.0  \n",
       "scatter_ratio                157.0  198.0   265.0  \n",
       "elongatedness                 43.0   46.0    61.0  \n",
       "pr.axis_rectangularity        20.0   23.0    29.0  \n",
       "max.length_rectangularity    146.0  159.0   188.0  \n",
       "scaled_variance              179.0  217.0   320.0  \n",
       "scaled_variance.1            363.5  587.0  1018.0  \n",
       "scaled_radius_of_gyration    173.5  198.0   268.0  \n",
       "scaled_radius_of_gyration.1   71.5   75.0   135.0  \n",
       "skewness_about                 6.0    9.0    22.0  \n",
       "skewness_about.1              11.0   19.0    41.0  \n",
       "skewness_about.2             188.0  193.0   206.0  \n",
       "hollows_ratio                197.0  201.0   211.0  "
      ]
     },
     "execution_count": 3844,
     "metadata": {},
     "output_type": "execute_result"
    }
   ],
   "source": [
    "vehicles.describe().transpose()\n",
    "#Inference: From below data we can conclude that no negetive values are present."
   ]
  },
  {
   "cell_type": "code",
   "execution_count": 3845,
   "metadata": {},
   "outputs": [
    {
     "data": {
      "text/plain": [
       "(True, True, compactness                    0\n",
       " circularity                    5\n",
       " distance_circularity           4\n",
       " radius_ratio                   6\n",
       " pr.axis_aspect_ratio           2\n",
       " max.length_aspect_ratio        0\n",
       " scatter_ratio                  1\n",
       " elongatedness                  1\n",
       " pr.axis_rectangularity         3\n",
       " max.length_rectangularity      0\n",
       " scaled_variance                3\n",
       " scaled_variance.1              2\n",
       " scaled_radius_of_gyration      2\n",
       " scaled_radius_of_gyration.1    4\n",
       " skewness_about                 6\n",
       " skewness_about.1               1\n",
       " skewness_about.2               1\n",
       " hollows_ratio                  0\n",
       " class                          0\n",
       " dtype: int64)"
      ]
     },
     "execution_count": 3845,
     "metadata": {},
     "output_type": "execute_result"
    }
   ],
   "source": [
    "# Checking the presence of missing values.\n",
    "vehicles.isnull().values.any(),vehicles.isna().values.any(),vehicles.isna().sum()\n",
    "# Below data indicates that there are null and NAN values. \n",
    "#Inference:null values are present under columns-circularity,distance_circularity,radius_ratio,ps_axis_aspect_ratio,\n",
    "#scatter_ratio,elongatedness,pr.axis_rectangularity,scaled_variance,scaled_variance.1,scaled_radius_of_gyration,\n",
    "#scaled_radius_of_gyration_1,skewness_about,skewness_about.1,skewness_about.2"
   ]
  },
  {
   "cell_type": "code",
   "execution_count": 3846,
   "metadata": {},
   "outputs": [
    {
     "data": {
      "text/plain": [
       "<matplotlib.axes._subplots.AxesSubplot at 0x1a9da626d0>"
      ]
     },
     "execution_count": 3846,
     "metadata": {},
     "output_type": "execute_result"
    },
    {
     "data": {
      "image/png": "[encoded data removed]",
      "text/plain": [
       "<Figure size 432x288 with 1 Axes>"
      ]
     },
     "metadata": {
      "needs_background": "light"
     },
     "output_type": "display_data"
    }
   ],
   "source": [
    "#Let's reconfirm the understanding with heatmap\n",
    "sns.heatmap(vehicles.isnull(),yticklabels=False,cbar=False,cmap='viridis')\n",
    "#From below graph, it is evident that values are missing (indicated by yellow bar)"
   ]
  },
  {
   "cell_type": "code",
   "execution_count": 3847,
   "metadata": {},
   "outputs": [],
   "source": [
    "#Taking variables one bye one and proceeding with required data treatments in below steps.\n",
    "# Also we will perform univariate/bivariate (independent variable/dependent variable) analysis to understand the \n",
    "#each attributes and choose carefully which all attributes have to be a part of the analysis and why"
   ]
  },
  {
   "cell_type": "code",
   "execution_count": 3848,
   "metadata": {},
   "outputs": [
    {
     "data": {
      "text/plain": [
       "<matplotlib.axes._subplots.AxesSubplot at 0x1a9eb68ad0>"
      ]
     },
     "execution_count": 3848,
     "metadata": {},
     "output_type": "execute_result"
    },
    {
     "data": {
      "image/png": "[encoded data removed]",
      "text/plain": [
       "<Figure size 432x288 with 1 Axes>"
      ]
     },
     "metadata": {
      "needs_background": "light"
     },
     "output_type": "display_data"
    }
   ],
   "source": [
    "#Analyzing the variable-compactness\n",
    "sns.distplot(vehicles['compactness'], rug=True)\n",
    "#Inference: Variable 'compactness' has slight right skewed distribution in the given data set. \n",
    "#No outliers are found and data is concentrated between 75-112"
   ]
  },
  {
   "cell_type": "code",
   "execution_count": 3849,
   "metadata": {},
   "outputs": [
    {
     "data": {
      "text/plain": [
       "<matplotlib.axes._subplots.AxesSubplot at 0x1a9f008e10>"
      ]
     },
     "execution_count": 3849,
     "metadata": {},
     "output_type": "execute_result"
    },
    {
     "data": {
      "image/png": "[encoded data removed]",
      "text/plain": [
       "<Figure size 432x288 with 1 Axes>"
      ]
     },
     "metadata": {
      "needs_background": "light"
     },
     "output_type": "display_data"
    }
   ],
   "source": [
    "sns.boxplot(vehicles['compactness'])\n",
    "#No outliers, null/NAN values present w.r.t compactness and it looks clean"
   ]
  },
  {
   "cell_type": "code",
   "execution_count": 3850,
   "metadata": {},
   "outputs": [
    {
     "data": {
      "text/plain": [
       "<matplotlib.axes._subplots.AxesSubplot at 0x1a9f0b1d90>"
      ]
     },
     "execution_count": 3850,
     "metadata": {},
     "output_type": "execute_result"
    },
    {
     "data": {
      "image/png": "[encoded data removed]",
      "text/plain": [
       "<Figure size 432x288 with 1 Axes>"
      ]
     },
     "metadata": {
      "needs_background": "light"
     },
     "output_type": "display_data"
    }
   ],
   "source": [
    "#Bivariate Analysis-compactness vs class\n",
    "sns.boxplot(vehicles['class'],vehicles['compactness'])\n",
    "#Inference: From below graph, it is evident that comapctness varies for each class. \n",
    "#Also van and bus has slightly right skewed distribution w.r.t compactness. Car has wide spread w.r.t compactness\n"
   ]
  },
  {
   "cell_type": "code",
   "execution_count": 3851,
   "metadata": {},
   "outputs": [],
   "source": [
    "#Analyzing the variable-circularity\n",
    "#From the previous analysis, we could see the presence of null/NAN values in circularity\n",
    "#Let's replace null values and NAN values, else we will not be able to visualize this numeric variables"
   ]
  },
  {
   "cell_type": "code",
   "execution_count": 3852,
   "metadata": {},
   "outputs": [
    {
     "data": {
      "text/plain": [
       "array([48., 41., 50., 44., nan, 43., 34., 36., 46., 42., 49., 55., 54.,\n",
       "       56., 47., 37., 39., 53., 45., 38., 35., 40., 59., 52., 51., 58.,\n",
       "       57., 33.])"
      ]
     },
     "execution_count": 3852,
     "metadata": {},
     "output_type": "execute_result"
    }
   ],
   "source": [
    "vehicles['circularity'].unique()\n",
    "#Inference, we could see presence of nan values.  Before replacing the 'nan' values\n",
    "#Let's check if 'circularity' variable has any outliers as this will impact the replacement value of nan"
   ]
  },
  {
   "cell_type": "code",
   "execution_count": 3853,
   "metadata": {},
   "outputs": [
    {
     "data": {
      "text/plain": [
       "<matplotlib.axes._subplots.AxesSubplot at 0x1a9f1aa150>"
      ]
     },
     "execution_count": 3853,
     "metadata": {},
     "output_type": "execute_result"
    },
    {
     "data": {
      "image/png": "[encoded data removed]",
      "text/plain": [
       "<Figure size 432x288 with 1 Axes>"
      ]
     },
     "metadata": {
      "needs_background": "light"
     },
     "output_type": "display_data"
    }
   ],
   "source": [
    "sns.boxplot(vehicles['circularity'])\n",
    "#Boxplot does not show the presence of outliers for circularity\n",
    "#So we can replace 'nan' with median."
   ]
  },
  {
   "cell_type": "code",
   "execution_count": 3854,
   "metadata": {},
   "outputs": [],
   "source": [
    "vehicles['circularity'].fillna((vehicles['circularity'].median()), inplace=True)"
   ]
  },
  {
   "cell_type": "code",
   "execution_count": 3855,
   "metadata": {},
   "outputs": [
    {
     "data": {
      "text/plain": [
       "array([48., 41., 50., 44., 43., 34., 36., 46., 42., 49., 55., 54., 56.,\n",
       "       47., 37., 39., 53., 45., 38., 35., 40., 59., 52., 51., 58., 57.,\n",
       "       33.])"
      ]
     },
     "execution_count": 3855,
     "metadata": {},
     "output_type": "execute_result"
    }
   ],
   "source": [
    "vehicles['circularity'].unique()\n",
    "#Inference: nan is replaced with median and hence 'nan' it is not displayed as one of the unique value"
   ]
  },
  {
   "cell_type": "code",
   "execution_count": 3856,
   "metadata": {},
   "outputs": [
    {
     "data": {
      "text/plain": [
       "<matplotlib.axes._subplots.AxesSubplot at 0x1a9f292950>"
      ]
     },
     "execution_count": 3856,
     "metadata": {},
     "output_type": "execute_result"
    },
    {
     "data": {
      "image/png": "[encoded data removed]",
      "text/plain": [
       "<Figure size 432x288 with 1 Axes>"
      ]
     },
     "metadata": {
      "needs_background": "light"
     },
     "output_type": "display_data"
    }
   ],
   "source": [
    "sns.distplot(vehicles['circularity'], rug=True)\n",
    "#Inference: Variable circularity is somewhat symmetrically distributed \n",
    "#We could also see multiple modes for this variable across data set"
   ]
  },
  {
   "cell_type": "code",
   "execution_count": 3857,
   "metadata": {},
   "outputs": [
    {
     "data": {
      "text/plain": [
       "<matplotlib.axes._subplots.AxesSubplot at 0x1a9f4172d0>"
      ]
     },
     "execution_count": 3857,
     "metadata": {},
     "output_type": "execute_result"
    },
    {
     "data": {
      "image/png": "[encoded data removed]",
      "text/plain": [
       "<Figure size 432x288 with 1 Axes>"
      ]
     },
     "metadata": {
      "needs_background": "light"
     },
     "output_type": "display_data"
    }
   ],
   "source": [
    "#Bivariate Analysis-circularity vs class\n",
    "sns.boxplot(vehicles['class'],vehicles['circularity'])\n",
    "#Inference: From below graph, it is evident that circularity varies for each class. \n",
    "#Also car has wide range of data spread w.r.t circularity and outliers are observed for bus w.r.t this variable"
   ]
  },
  {
   "cell_type": "code",
   "execution_count": 3858,
   "metadata": {},
   "outputs": [],
   "source": [
    "#Analyzing the variable-distance_circularity\n",
    "#From the previous analysis, we could see the presence of null/NAN values in distance_circularity\n",
    "#Let's replace null values and NAN values, else we will not be able to visualize this numeric variables"
   ]
  },
  {
   "cell_type": "code",
   "execution_count": 3859,
   "metadata": {},
   "outputs": [
    {
     "data": {
      "text/plain": [
       "array([ 83.,  84., 106.,  82.,  70.,  73.,  66.,  62.,  98.,  74.,  85.,\n",
       "        79., 103.,  51.,  77., 100.,  75.,  53.,  64., 105.,  80.,  54.,\n",
       "        63., 107.,  nan,  72.,  86.,  68., 104.,  87.,  76.,  81.,  71.,\n",
       "       101.,  96.,  78., 108.,  91.,  89.,  94.,  92.,  60.,  57.,  65.,\n",
       "        50.,  88., 109.,  95.,  90.,  58.,  69.,  47.,  40.,  59., 110.,\n",
       "        93., 102., 112.,  61.,  42.,  49.,  44.,  52.,  55.])"
      ]
     },
     "execution_count": 3859,
     "metadata": {},
     "output_type": "execute_result"
    }
   ],
   "source": [
    "vehicles['distance_circularity'].unique()\n",
    "#Inference, we could see presence of nan values.  Before replacing the 'nan' values\n",
    "#Let's check if 'circularity' variable has any outliers as this will impact the replacement value of nan"
   ]
  },
  {
   "cell_type": "code",
   "execution_count": 3860,
   "metadata": {},
   "outputs": [
    {
     "data": {
      "text/plain": [
       "<matplotlib.axes._subplots.AxesSubplot at 0x1a9ea3fc50>"
      ]
     },
     "execution_count": 3860,
     "metadata": {},
     "output_type": "execute_result"
    },
    {
     "data": {
      "image/png": "[encoded data removed]",
      "text/plain": [
       "<Figure size 432x288 with 1 Axes>"
      ]
     },
     "metadata": {
      "needs_background": "light"
     },
     "output_type": "display_data"
    }
   ],
   "source": [
    "sns.boxplot(vehicles['distance_circularity'])\n",
    "#Inference: No outliers present, so we can directly replace Nan values with median"
   ]
  },
  {
   "cell_type": "code",
   "execution_count": 3861,
   "metadata": {},
   "outputs": [],
   "source": [
    "vehicles['distance_circularity'].fillna((vehicles['distance_circularity'].median()), inplace=True)"
   ]
  },
  {
   "cell_type": "code",
   "execution_count": 3862,
   "metadata": {},
   "outputs": [
    {
     "data": {
      "text/plain": [
       "array([ 83.,  84., 106.,  82.,  70.,  73.,  66.,  62.,  98.,  74.,  85.,\n",
       "        79., 103.,  51.,  77., 100.,  75.,  53.,  64., 105.,  80.,  54.,\n",
       "        63., 107.,  72.,  86.,  68., 104.,  87.,  76.,  81.,  71., 101.,\n",
       "        96.,  78., 108.,  91.,  89.,  94.,  92.,  60.,  57.,  65.,  50.,\n",
       "        88., 109.,  95.,  90.,  58.,  69.,  47.,  40.,  59., 110.,  93.,\n",
       "       102., 112.,  61.,  42.,  49.,  44.,  52.,  55.])"
      ]
     },
     "execution_count": 3862,
     "metadata": {},
     "output_type": "execute_result"
    }
   ],
   "source": [
    "vehicles['distance_circularity'].unique()\n",
    "#From below data, it is evident that nan values are replaced successfully"
   ]
  },
  {
   "cell_type": "code",
   "execution_count": 3863,
   "metadata": {},
   "outputs": [
    {
     "data": {
      "text/plain": [
       "<matplotlib.axes._subplots.AxesSubplot at 0x1a9f601b10>"
      ]
     },
     "execution_count": 3863,
     "metadata": {},
     "output_type": "execute_result"
    },
    {
     "data": {
      "image/png": "[encoded data removed]",
      "text/plain": [
       "<Figure size 432x288 with 1 Axes>"
      ]
     },
     "metadata": {
      "needs_background": "light"
     },
     "output_type": "display_data"
    }
   ],
   "source": [
    "sns.distplot(vehicles['distance_circularity'],rug=True)\n",
    "#Inference: Data has multiple modes and slightly left tailed but no outliers present"
   ]
  },
  {
   "cell_type": "code",
   "execution_count": 3864,
   "metadata": {},
   "outputs": [
    {
     "data": {
      "text/plain": [
       "<matplotlib.axes._subplots.AxesSubplot at 0x1a9f76a790>"
      ]
     },
     "execution_count": 3864,
     "metadata": {},
     "output_type": "execute_result"
    },
    {
     "data": {
      "image/png": "[encoded data removed]",
      "text/plain": [
       "<Figure size 432x288 with 1 Axes>"
      ]
     },
     "metadata": {
      "needs_background": "light"
     },
     "output_type": "display_data"
    }
   ],
   "source": [
    "#Bivariate Analysis-distance_circularity vs class\n",
    "sns.boxplot(vehicles['class'],vehicles['distance_circularity'])\n",
    "#Inference: From below graph, it is evident that distance_circularity varies for each class. \n",
    "#Also car has higher and wide range of data spread w.r.t distance_circularity \n",
    "#and outliers are observed for bus w.r.t this variable"
   ]
  },
  {
   "cell_type": "code",
   "execution_count": 3865,
   "metadata": {},
   "outputs": [],
   "source": [
    "#Analyzing variable-'radius_ratio'\n",
    "#From previous analysis, we could see presence of nan values.Lets reconfirm and treat this in below steps"
   ]
  },
  {
   "cell_type": "code",
   "execution_count": 3866,
   "metadata": {},
   "outputs": [
    {
     "data": {
      "text/plain": [
       "array([178., 141., 209., 159., 205., 172., 173., 157., 140.,  nan, 143.,\n",
       "       136., 171., 144., 203., 201., 109., 197., 186., 215., 153., 121.,\n",
       "       148., 219., 154., 119., 193., 129., 160., 151., 222., 177., 118.,\n",
       "       306., 176., 169., 214., 105., 137., 183., 220., 145., 133., 122.,\n",
       "       147., 115., 174., 228., 175., 185., 195., 221., 212., 135., 120.,\n",
       "       156., 125., 164., 161., 227., 191., 111., 170., 113., 127., 188.,\n",
       "       180., 116., 158., 162., 211., 152., 124., 252., 150., 130., 198.,\n",
       "       202., 199., 128., 142., 163., 155., 184., 165., 322., 194., 218.,\n",
       "       216., 223., 149., 131., 139., 179., 166., 187., 167., 231., 168.,\n",
       "       126., 206., 210., 110., 189., 134., 132., 230., 196., 208., 138.,\n",
       "       200., 225., 246., 207., 192., 117., 123., 146., 190., 182., 204.,\n",
       "       224., 333., 213., 226., 238., 181., 114., 104., 112., 234., 235.,\n",
       "       250., 232., 217.])"
      ]
     },
     "execution_count": 3866,
     "metadata": {},
     "output_type": "execute_result"
    }
   ],
   "source": [
    "vehicles['radius_ratio'].unique()\n",
    "#Inference, we could see presence of nan values.  Before replacing the 'nan' values\n",
    "#Let's check if 'radius_ratio' variable has any outliers as this will impact the replacement value of nan"
   ]
  },
  {
   "cell_type": "code",
   "execution_count": 3867,
   "metadata": {},
   "outputs": [
    {
     "data": {
      "text/plain": [
       "<matplotlib.axes._subplots.AxesSubplot at 0x1a9f8723d0>"
      ]
     },
     "execution_count": 3867,
     "metadata": {},
     "output_type": "execute_result"
    },
    {
     "data": {
      "image/png": "[encoded data removed]",
      "text/plain": [
       "<Figure size 432x288 with 1 Axes>"
      ]
     },
     "metadata": {
      "needs_background": "light"
     },
     "output_type": "display_data"
    }
   ],
   "source": [
    "sns.boxplot(vehicles['radius_ratio'])\n",
    "#Boxplot shows the presence of outliers for radius_ratio (values>250 can be considered as outliers in below graph)\n",
    "#So we should replace outlier values with median first and then replace nan with median"
   ]
  },
  {
   "cell_type": "code",
   "execution_count": 3868,
   "metadata": {},
   "outputs": [
    {
     "data": {
      "text/html": [
       "<div>\n",
       "<style scoped>\n",
       "    .dataframe tbody tr th:only-of-type {\n",
       "        vertical-align: middle;\n",
       "    }\n",
       "\n",
       "    .dataframe tbody tr th {\n",
       "        vertical-align: top;\n",
       "    }\n",
       "\n",
       "    .dataframe thead th {\n",
       "        text-align: right;\n",
       "    }\n",
       "</style>\n",
       "<table border=\"1\" class=\"dataframe\">\n",
       "  <thead>\n",
       "    <tr style=\"text-align: right;\">\n",
       "      <th></th>\n",
       "      <th>count</th>\n",
       "      <th>mean</th>\n",
       "      <th>std</th>\n",
       "      <th>min</th>\n",
       "      <th>25%</th>\n",
       "      <th>50%</th>\n",
       "      <th>75%</th>\n",
       "      <th>max</th>\n",
       "    </tr>\n",
       "  </thead>\n",
       "  <tbody>\n",
       "    <tr>\n",
       "      <td>compactness</td>\n",
       "      <td>4.0</td>\n",
       "      <td>88.75</td>\n",
       "      <td>4.991660</td>\n",
       "      <td>82.0</td>\n",
       "      <td>87.25</td>\n",
       "      <td>89.5</td>\n",
       "      <td>91.00</td>\n",
       "      <td>94.0</td>\n",
       "    </tr>\n",
       "    <tr>\n",
       "      <td>circularity</td>\n",
       "      <td>4.0</td>\n",
       "      <td>46.75</td>\n",
       "      <td>1.258306</td>\n",
       "      <td>45.0</td>\n",
       "      <td>46.50</td>\n",
       "      <td>47.0</td>\n",
       "      <td>47.25</td>\n",
       "      <td>48.0</td>\n",
       "    </tr>\n",
       "    <tr>\n",
       "      <td>distance_circularity</td>\n",
       "      <td>4.0</td>\n",
       "      <td>80.00</td>\n",
       "      <td>9.416298</td>\n",
       "      <td>66.0</td>\n",
       "      <td>78.75</td>\n",
       "      <td>84.0</td>\n",
       "      <td>85.25</td>\n",
       "      <td>86.0</td>\n",
       "    </tr>\n",
       "    <tr>\n",
       "      <td>radius_ratio</td>\n",
       "      <td>4.0</td>\n",
       "      <td>303.25</td>\n",
       "      <td>35.920050</td>\n",
       "      <td>252.0</td>\n",
       "      <td>292.50</td>\n",
       "      <td>314.0</td>\n",
       "      <td>324.75</td>\n",
       "      <td>333.0</td>\n",
       "    </tr>\n",
       "    <tr>\n",
       "      <td>pr.axis_aspect_ratio</td>\n",
       "      <td>4.0</td>\n",
       "      <td>130.75</td>\n",
       "      <td>5.852350</td>\n",
       "      <td>126.0</td>\n",
       "      <td>126.00</td>\n",
       "      <td>129.5</td>\n",
       "      <td>134.25</td>\n",
       "      <td>138.0</td>\n",
       "    </tr>\n",
       "    <tr>\n",
       "      <td>max.length_aspect_ratio</td>\n",
       "      <td>4.0</td>\n",
       "      <td>49.50</td>\n",
       "      <td>1.732051</td>\n",
       "      <td>48.0</td>\n",
       "      <td>48.75</td>\n",
       "      <td>49.0</td>\n",
       "      <td>49.75</td>\n",
       "      <td>52.0</td>\n",
       "    </tr>\n",
       "    <tr>\n",
       "      <td>scatter_ratio</td>\n",
       "      <td>4.0</td>\n",
       "      <td>153.50</td>\n",
       "      <td>4.203173</td>\n",
       "      <td>148.0</td>\n",
       "      <td>151.75</td>\n",
       "      <td>154.0</td>\n",
       "      <td>155.75</td>\n",
       "      <td>158.0</td>\n",
       "    </tr>\n",
       "    <tr>\n",
       "      <td>elongatedness</td>\n",
       "      <td>4.0</td>\n",
       "      <td>43.75</td>\n",
       "      <td>0.957427</td>\n",
       "      <td>43.0</td>\n",
       "      <td>43.00</td>\n",
       "      <td>43.5</td>\n",
       "      <td>44.25</td>\n",
       "      <td>45.0</td>\n",
       "    </tr>\n",
       "    <tr>\n",
       "      <td>pr.axis_rectangularity</td>\n",
       "      <td>4.0</td>\n",
       "      <td>19.25</td>\n",
       "      <td>0.500000</td>\n",
       "      <td>19.0</td>\n",
       "      <td>19.00</td>\n",
       "      <td>19.0</td>\n",
       "      <td>19.25</td>\n",
       "      <td>20.0</td>\n",
       "    </tr>\n",
       "    <tr>\n",
       "      <td>max.length_rectangularity</td>\n",
       "      <td>4.0</td>\n",
       "      <td>154.50</td>\n",
       "      <td>7.852813</td>\n",
       "      <td>144.0</td>\n",
       "      <td>152.25</td>\n",
       "      <td>155.5</td>\n",
       "      <td>157.75</td>\n",
       "      <td>163.0</td>\n",
       "    </tr>\n",
       "    <tr>\n",
       "      <td>scaled_variance</td>\n",
       "      <td>4.0</td>\n",
       "      <td>264.50</td>\n",
       "      <td>41.444742</td>\n",
       "      <td>229.0</td>\n",
       "      <td>235.00</td>\n",
       "      <td>254.5</td>\n",
       "      <td>284.00</td>\n",
       "      <td>320.0</td>\n",
       "    </tr>\n",
       "    <tr>\n",
       "      <td>scaled_variance.1</td>\n",
       "      <td>4.0</td>\n",
       "      <td>347.50</td>\n",
       "      <td>16.114176</td>\n",
       "      <td>326.0</td>\n",
       "      <td>341.00</td>\n",
       "      <td>350.0</td>\n",
       "      <td>356.50</td>\n",
       "      <td>364.0</td>\n",
       "    </tr>\n",
       "    <tr>\n",
       "      <td>scaled_radius_of_gyration</td>\n",
       "      <td>4.0</td>\n",
       "      <td>187.00</td>\n",
       "      <td>9.899495</td>\n",
       "      <td>176.0</td>\n",
       "      <td>182.75</td>\n",
       "      <td>186.0</td>\n",
       "      <td>190.25</td>\n",
       "      <td>200.0</td>\n",
       "    </tr>\n",
       "    <tr>\n",
       "      <td>scaled_radius_of_gyration.1</td>\n",
       "      <td>4.0</td>\n",
       "      <td>117.25</td>\n",
       "      <td>15.585784</td>\n",
       "      <td>97.0</td>\n",
       "      <td>112.75</td>\n",
       "      <td>118.5</td>\n",
       "      <td>123.00</td>\n",
       "      <td>135.0</td>\n",
       "    </tr>\n",
       "    <tr>\n",
       "      <td>skewness_about</td>\n",
       "      <td>4.0</td>\n",
       "      <td>3.25</td>\n",
       "      <td>5.852350</td>\n",
       "      <td>0.0</td>\n",
       "      <td>0.00</td>\n",
       "      <td>0.5</td>\n",
       "      <td>3.75</td>\n",
       "      <td>12.0</td>\n",
       "    </tr>\n",
       "    <tr>\n",
       "      <td>skewness_about.1</td>\n",
       "      <td>4.0</td>\n",
       "      <td>9.75</td>\n",
       "      <td>6.396614</td>\n",
       "      <td>1.0</td>\n",
       "      <td>7.00</td>\n",
       "      <td>11.5</td>\n",
       "      <td>14.25</td>\n",
       "      <td>15.0</td>\n",
       "    </tr>\n",
       "    <tr>\n",
       "      <td>skewness_about.2</td>\n",
       "      <td>4.0</td>\n",
       "      <td>184.50</td>\n",
       "      <td>2.886751</td>\n",
       "      <td>181.0</td>\n",
       "      <td>183.25</td>\n",
       "      <td>184.5</td>\n",
       "      <td>185.75</td>\n",
       "      <td>188.0</td>\n",
       "    </tr>\n",
       "    <tr>\n",
       "      <td>hollows_ratio</td>\n",
       "      <td>4.0</td>\n",
       "      <td>192.25</td>\n",
       "      <td>4.924429</td>\n",
       "      <td>185.0</td>\n",
       "      <td>191.75</td>\n",
       "      <td>194.0</td>\n",
       "      <td>194.50</td>\n",
       "      <td>196.0</td>\n",
       "    </tr>\n",
       "  </tbody>\n",
       "</table>\n",
       "</div>"
      ],
      "text/plain": [
       "                             count    mean        std    min     25%    50%  \\\n",
       "compactness                    4.0   88.75   4.991660   82.0   87.25   89.5   \n",
       "circularity                    4.0   46.75   1.258306   45.0   46.50   47.0   \n",
       "distance_circularity           4.0   80.00   9.416298   66.0   78.75   84.0   \n",
       "radius_ratio                   4.0  303.25  35.920050  252.0  292.50  314.0   \n",
       "pr.axis_aspect_ratio           4.0  130.75   5.852350  126.0  126.00  129.5   \n",
       "max.length_aspect_ratio        4.0   49.50   1.732051   48.0   48.75   49.0   \n",
       "scatter_ratio                  4.0  153.50   4.203173  148.0  151.75  154.0   \n",
       "elongatedness                  4.0   43.75   0.957427   43.0   43.00   43.5   \n",
       "pr.axis_rectangularity         4.0   19.25   0.500000   19.0   19.00   19.0   \n",
       "max.length_rectangularity      4.0  154.50   7.852813  144.0  152.25  155.5   \n",
       "scaled_variance                4.0  264.50  41.444742  229.0  235.00  254.5   \n",
       "scaled_variance.1              4.0  347.50  16.114176  326.0  341.00  350.0   \n",
       "scaled_radius_of_gyration      4.0  187.00   9.899495  176.0  182.75  186.0   \n",
       "scaled_radius_of_gyration.1    4.0  117.25  15.585784   97.0  112.75  118.5   \n",
       "skewness_about                 4.0    3.25   5.852350    0.0    0.00    0.5   \n",
       "skewness_about.1               4.0    9.75   6.396614    1.0    7.00   11.5   \n",
       "skewness_about.2               4.0  184.50   2.886751  181.0  183.25  184.5   \n",
       "hollows_ratio                  4.0  192.25   4.924429  185.0  191.75  194.0   \n",
       "\n",
       "                                75%    max  \n",
       "compactness                   91.00   94.0  \n",
       "circularity                   47.25   48.0  \n",
       "distance_circularity          85.25   86.0  \n",
       "radius_ratio                 324.75  333.0  \n",
       "pr.axis_aspect_ratio         134.25  138.0  \n",
       "max.length_aspect_ratio       49.75   52.0  \n",
       "scatter_ratio                155.75  158.0  \n",
       "elongatedness                 44.25   45.0  \n",
       "pr.axis_rectangularity        19.25   20.0  \n",
       "max.length_rectangularity    157.75  163.0  \n",
       "scaled_variance              284.00  320.0  \n",
       "scaled_variance.1            356.50  364.0  \n",
       "scaled_radius_of_gyration    190.25  200.0  \n",
       "scaled_radius_of_gyration.1  123.00  135.0  \n",
       "skewness_about                 3.75   12.0  \n",
       "skewness_about.1              14.25   15.0  \n",
       "skewness_about.2             185.75  188.0  \n",
       "hollows_ratio                194.50  196.0  "
      ]
     },
     "execution_count": 3868,
     "metadata": {},
     "output_type": "execute_result"
    }
   ],
   "source": [
    "vehicles[vehicles['radius_ratio']>250]. describe().transpose()\n",
    "#Inference: There are just 4 records which has outliers for radius_ratio variable. Lets replace it with median"
   ]
  },
  {
   "cell_type": "code",
   "execution_count": 3869,
   "metadata": {},
   "outputs": [
    {
     "data": {
      "text/plain": [
       "167.0"
      ]
     },
     "execution_count": 3869,
     "metadata": {},
     "output_type": "execute_result"
    }
   ],
   "source": [
    "vehicles.radius_ratio.median()"
   ]
  },
  {
   "cell_type": "code",
   "execution_count": 3870,
   "metadata": {},
   "outputs": [],
   "source": [
    "#Replacing outliers with median value\n",
    "vehicles[\"radius_ratio\"]=np.where(vehicles[\"radius_ratio\"]>250, 167.0,vehicles[\"radius_ratio\"])"
   ]
  },
  {
   "cell_type": "code",
   "execution_count": 3871,
   "metadata": {},
   "outputs": [],
   "source": [
    "#Now lets replace na values with new median\n",
    "vehicles[\"radius_ratio\"].fillna((vehicles[\"radius_ratio\"].median()), inplace=True)"
   ]
  },
  {
   "cell_type": "code",
   "execution_count": 3872,
   "metadata": {},
   "outputs": [
    {
     "data": {
      "text/plain": [
       "array([178., 141., 209., 159., 205., 172., 173., 157., 140., 167., 143.,\n",
       "       136., 171., 144., 203., 201., 109., 197., 186., 215., 153., 121.,\n",
       "       148., 219., 154., 119., 193., 129., 160., 151., 222., 177., 118.,\n",
       "       176., 169., 214., 105., 137., 183., 220., 145., 133., 122., 147.,\n",
       "       115., 174., 228., 175., 185., 195., 221., 212., 135., 120., 156.,\n",
       "       125., 164., 161., 227., 191., 111., 170., 113., 127., 188., 180.,\n",
       "       116., 158., 162., 211., 152., 124., 150., 130., 198., 202., 199.,\n",
       "       128., 142., 163., 155., 184., 165., 194., 218., 216., 223., 149.,\n",
       "       131., 139., 179., 166., 187., 231., 168., 126., 206., 210., 110.,\n",
       "       189., 134., 132., 230., 196., 208., 138., 200., 225., 246., 207.,\n",
       "       192., 117., 123., 146., 190., 182., 204., 224., 213., 226., 238.,\n",
       "       181., 114., 104., 112., 234., 235., 250., 232., 217.])"
      ]
     },
     "execution_count": 3872,
     "metadata": {},
     "output_type": "execute_result"
    }
   ],
   "source": [
    "vehicles[\"radius_ratio\"].unique()\n",
    "#Inference: nan is replaced with median and hence 'nan' it is not displayed as one of the unique value"
   ]
  },
  {
   "cell_type": "code",
   "execution_count": 3873,
   "metadata": {},
   "outputs": [
    {
     "data": {
      "text/plain": [
       "<matplotlib.axes._subplots.AxesSubplot at 0x1a9f95b550>"
      ]
     },
     "execution_count": 3873,
     "metadata": {},
     "output_type": "execute_result"
    },
    {
     "data": {
      "image/png": "[encoded data removed]",
      "text/plain": [
       "<Figure size 432x288 with 1 Axes>"
      ]
     },
     "metadata": {
      "needs_background": "light"
     },
     "output_type": "display_data"
    }
   ],
   "source": [
    "sns.distplot(vehicles['radius_ratio'],rug=True)\n",
    "#Inference: From the graph below, we can conclude that radius_ratio is symmetrically distributed \n",
    "#across the data set and concentration is found between values: 112-240"
   ]
  },
  {
   "cell_type": "code",
   "execution_count": 3874,
   "metadata": {},
   "outputs": [
    {
     "data": {
      "text/plain": [
       "<matplotlib.axes._subplots.AxesSubplot at 0x1a9facde10>"
      ]
     },
     "execution_count": 3874,
     "metadata": {},
     "output_type": "execute_result"
    },
    {
     "data": {
      "image/png": "[encoded data removed]",
      "text/plain": [
       "<Figure size 432x288 with 1 Axes>"
      ]
     },
     "metadata": {
      "needs_background": "light"
     },
     "output_type": "display_data"
    }
   ],
   "source": [
    "#Bivariate Analysis-radius_ratio vs class\n",
    "sns.boxplot(vehicles['class'],vehicles['radius_ratio'])\n",
    "#Inference: From below graph, it is evident that radius_ratio is on lower range for each class. \n",
    "#Also car has slightly higher range w.r.t radius_ratio\n",
    "#and outliers are observed for van w.r.t this variable"
   ]
  },
  {
   "cell_type": "code",
   "execution_count": 3875,
   "metadata": {},
   "outputs": [],
   "source": [
    "#Moving forward with variable-'pr.axis_aspect_ratio'\n",
    "#This has nan values and hence needs to be treated"
   ]
  },
  {
   "cell_type": "code",
   "execution_count": 3876,
   "metadata": {},
   "outputs": [
    {
     "data": {
      "text/plain": [
       "array([ 72.,  57.,  66.,  63., 103.,  50.,  65.,  61.,  62.,  55.,  68.,\n",
       "        58.,  71.,  52.,  69.,  nan,  64.,  59.,  67., 126.,  54.,  73.,\n",
       "        51.,  70.,  53.,  56.,  74.,  60.,  76.,  75.,  49., 133.,  47.,\n",
       "       102., 138.,  48.,  97., 105.])"
      ]
     },
     "execution_count": 3876,
     "metadata": {},
     "output_type": "execute_result"
    }
   ],
   "source": [
    "vehicles[\"pr.axis_aspect_ratio\"].unique()\n",
    "#Inference, we could see presence of nan values.  Before replacing the 'nan' values"
   ]
  },
  {
   "cell_type": "code",
   "execution_count": 3877,
   "metadata": {},
   "outputs": [
    {
     "data": {
      "text/plain": [
       "<matplotlib.axes._subplots.AxesSubplot at 0x1a9fbb8210>"
      ]
     },
     "execution_count": 3877,
     "metadata": {},
     "output_type": "execute_result"
    },
    {
     "data": {
      "image/png": "[encoded data removed]",
      "text/plain": [
       "<Figure size 432x288 with 1 Axes>"
      ]
     },
     "metadata": {
      "needs_background": "light"
     },
     "output_type": "display_data"
    }
   ],
   "source": [
    "#Let's check if 'radius_ratio' variable has any outliers as this will impact the replacement value of nan\n",
    "sns.boxplot(vehicles['pr.axis_aspect_ratio'])\n",
    "#Boxplot shows the presence of outliers for pr.axis_aspect_ratio (values>78 can be considered as outliers in below graph)\n",
    "#So we should replace outlier values with median first and then replace nan with median"
   ]
  },
  {
   "cell_type": "code",
   "execution_count": 3878,
   "metadata": {},
   "outputs": [
    {
     "data": {
      "text/plain": [
       "61.0"
      ]
     },
     "execution_count": 3878,
     "metadata": {},
     "output_type": "execute_result"
    }
   ],
   "source": [
    "vehicles[\"pr.axis_aspect_ratio\"].median()"
   ]
  },
  {
   "cell_type": "code",
   "execution_count": 3879,
   "metadata": {},
   "outputs": [],
   "source": [
    "#Replacing outliers with median value\n",
    "vehicles[\"pr.axis_aspect_ratio\"]=np.where(vehicles[\"pr.axis_aspect_ratio\"]>78, 61.0,vehicles[\"pr.axis_aspect_ratio\"])"
   ]
  },
  {
   "cell_type": "code",
   "execution_count": 3880,
   "metadata": {},
   "outputs": [],
   "source": [
    "#Now lets replace na values with new median\n",
    "vehicles[\"pr.axis_aspect_ratio\"].fillna((vehicles[\"pr.axis_aspect_ratio\"].median()), inplace=True)"
   ]
  },
  {
   "cell_type": "code",
   "execution_count": 3881,
   "metadata": {},
   "outputs": [
    {
     "data": {
      "text/plain": [
       "array([72., 57., 66., 63., 61., 50., 65., 62., 55., 68., 58., 71., 52.,\n",
       "       69., 64., 59., 67., 54., 73., 51., 70., 53., 56., 74., 60., 76.,\n",
       "       75., 49., 47., 48.])"
      ]
     },
     "execution_count": 3881,
     "metadata": {},
     "output_type": "execute_result"
    }
   ],
   "source": [
    "vehicles[\"pr.axis_aspect_ratio\"].unique()\n",
    "#Inference: nan is replaced with median and hence 'nan' it is not displayed as one of the unique value"
   ]
  },
  {
   "cell_type": "code",
   "execution_count": 3882,
   "metadata": {},
   "outputs": [
    {
     "data": {
      "text/plain": [
       "<matplotlib.axes._subplots.AxesSubplot at 0x1a9fcc7510>"
      ]
     },
     "execution_count": 3882,
     "metadata": {},
     "output_type": "execute_result"
    },
    {
     "data": {
      "image/png": "[encoded data removed]",
      "text/plain": [
       "<Figure size 432x288 with 1 Axes>"
      ]
     },
     "metadata": {
      "needs_background": "light"
     },
     "output_type": "display_data"
    }
   ],
   "source": [
    "sns.distplot(vehicles['pr.axis_aspect_ratio'],rug=True)\n",
    "#Variable 'pr.axis_aspect_ratio' is symmetrically distributed across the data set, has multiple modes\n",
    "#concentration can be seen between range of 47-76"
   ]
  },
  {
   "cell_type": "code",
   "execution_count": 3883,
   "metadata": {},
   "outputs": [
    {
     "data": {
      "text/plain": [
       "<matplotlib.axes._subplots.AxesSubplot at 0x1a9fe39c10>"
      ]
     },
     "execution_count": 3883,
     "metadata": {},
     "output_type": "execute_result"
    },
    {
     "data": {
      "image/png": "[encoded data removed]",
      "text/plain": [
       "<Figure size 432x288 with 1 Axes>"
      ]
     },
     "metadata": {
      "needs_background": "light"
     },
     "output_type": "display_data"
    }
   ],
   "source": [
    "#Bivariate Analysis-pr.axis_aspect_ratio vs class\n",
    "sns.boxplot(vehicles['class'],vehicles['pr.axis_aspect_ratio'])\n",
    "#Inference: From below graph, it is evident that pr.axis_aspect_ratio is on lower range for each class. \n",
    "#Also bus has slightly wide spread range w.r.t pr.axis_aspect_ratio\n",
    "#and outliers are observed for van and bus w.r.t this variable"
   ]
  },
  {
   "cell_type": "code",
   "execution_count": 3884,
   "metadata": {},
   "outputs": [],
   "source": [
    "#Analyzing variable-'max.length_aspect_ratio' in below steps.\n",
    "#From previous anaylysis we could see that no nan values present in this variable. Lets reconfirm it"
   ]
  },
  {
   "cell_type": "code",
   "execution_count": 3885,
   "metadata": {},
   "outputs": [
    {
     "data": {
      "text/plain": [
       "array([10,  9, 52,  6,  7, 11,  5,  8, 49, 12, 22, 48,  4, 13,  3, 43, 25,\n",
       "       46, 19,  2, 55])"
      ]
     },
     "execution_count": 3885,
     "metadata": {},
     "output_type": "execute_result"
    }
   ],
   "source": [
    "vehicles['max.length_aspect_ratio'].unique()\n",
    "#Confirmed that no nan values present here"
   ]
  },
  {
   "cell_type": "code",
   "execution_count": 3886,
   "metadata": {},
   "outputs": [
    {
     "data": {
      "text/plain": [
       "<matplotlib.axes._subplots.AxesSubplot at 0x1a9ff52150>"
      ]
     },
     "execution_count": 3886,
     "metadata": {},
     "output_type": "execute_result"
    },
    {
     "data": {
      "image/png": "[encoded data removed]",
      "text/plain": [
       "<Figure size 432x288 with 1 Axes>"
      ]
     },
     "metadata": {
      "needs_background": "light"
     },
     "output_type": "display_data"
    }
   ],
   "source": [
    "sns.distplot(vehicles['max.length_aspect_ratio'],rug=True)\n",
    "#Inference: Data is highly right skewed, the presence of outliers"
   ]
  },
  {
   "cell_type": "code",
   "execution_count": 3887,
   "metadata": {},
   "outputs": [
    {
     "data": {
      "text/plain": [
       "<matplotlib.axes._subplots.AxesSubplot at 0x1a9ff4c7d0>"
      ]
     },
     "execution_count": 3887,
     "metadata": {},
     "output_type": "execute_result"
    },
    {
     "data": {
      "image/png": "[encoded data removed]",
      "text/plain": [
       "<Figure size 432x288 with 1 Axes>"
      ]
     },
     "metadata": {
      "needs_background": "light"
     },
     "output_type": "display_data"
    }
   ],
   "source": [
    "#Let's reconfirm our understanding\n",
    "sns.boxplot(vehicles['max.length_aspect_ratio'])\n",
    "#So the presence of outliers is confirmed. max.length_aspect_ratio> 15 can be treated as outliers. Lets replace it with median"
   ]
  },
  {
   "cell_type": "code",
   "execution_count": 3888,
   "metadata": {},
   "outputs": [
    {
     "data": {
      "text/plain": [
       "8.0"
      ]
     },
     "execution_count": 3888,
     "metadata": {},
     "output_type": "execute_result"
    }
   ],
   "source": [
    "vehicles['max.length_aspect_ratio'].median()"
   ]
  },
  {
   "cell_type": "code",
   "execution_count": 3889,
   "metadata": {},
   "outputs": [],
   "source": [
    "vehicles[\"max.length_aspect_ratio\"]=np.where(vehicles[\"max.length_aspect_ratio\"]>15, 8,vehicles['max.length_aspect_ratio'])"
   ]
  },
  {
   "cell_type": "code",
   "execution_count": 3890,
   "metadata": {},
   "outputs": [
    {
     "data": {
      "text/plain": [
       "<matplotlib.axes._subplots.AxesSubplot at 0x1aa020e090>"
      ]
     },
     "execution_count": 3890,
     "metadata": {},
     "output_type": "execute_result"
    },
    {
     "data": {
      "image/png": "[encoded data removed]",
      "text/plain": [
       "<Figure size 432x288 with 1 Axes>"
      ]
     },
     "metadata": {
      "needs_background": "light"
     },
     "output_type": "display_data"
    }
   ],
   "source": [
    "sns.distplot(vehicles['max.length_aspect_ratio'])\n",
    "#Reconfirming that outliers are replaced with median value"
   ]
  },
  {
   "cell_type": "code",
   "execution_count": 3891,
   "metadata": {},
   "outputs": [
    {
     "data": {
      "text/plain": [
       "<matplotlib.axes._subplots.AxesSubplot at 0x1aa03279d0>"
      ]
     },
     "execution_count": 3891,
     "metadata": {},
     "output_type": "execute_result"
    },
    {
     "data": {
      "image/png": "[encoded data removed]",
      "text/plain": [
       "<Figure size 432x288 with 1 Axes>"
      ]
     },
     "metadata": {
      "needs_background": "light"
     },
     "output_type": "display_data"
    }
   ],
   "source": [
    "#Bivariate Analysis-max.length_aspect_ratio vs class\n",
    "sns.boxplot(vehicles['class'],vehicles['max.length_aspect_ratio'])\n",
    "#Inference: From below graph, it is evident that max.length_aspect_ratio is on lower range for each class. \n",
    "#Also bus has narrow spread range w.r.t max.length_aspect_ratio\n",
    "#and outliers are observed for van and bus w.r.t this variable"
   ]
  },
  {
   "cell_type": "code",
   "execution_count": 3892,
   "metadata": {},
   "outputs": [],
   "source": [
    "#Analysis of variable-scatter_ratio\n",
    "#From previous analysis, we sensed presence of nan values"
   ]
  },
  {
   "cell_type": "code",
   "execution_count": 3893,
   "metadata": {},
   "outputs": [
    {
     "data": {
      "text/plain": [
       "array([162., 149., 207., 144., 255., 153., 137., 122., 183., 133., 123.,\n",
       "       152., 174., 204., 118., 177., 216., 208., 154., 150., 143., 147.,\n",
       "       128., 218., 192., 146., 155., 140., 142., 164., 157., 151., 205.,\n",
       "       119., 158., 213., 159., 130., 148., 156., 163., 210., 257., 185.,\n",
       "       209., 193., 184., 225., 190., 215., 224., 176., 126., 195., 172.,\n",
       "       127., 261., 171., 125., 169., 197., 145., 214., 201., 114., 194.,\n",
       "       220., 221., 173., 134., 160., 121., 199., 186., 161., 222., 136.,\n",
       "       187., 250., 202., 166., 132., 211., 247., 116., 203., 181., 240.,\n",
       "       219., 212., 138., 131., 117., 112., 165.,  nan, 226., 129., 175.,\n",
       "       135., 217., 200., 241., 198., 120., 260., 188., 170., 234., 236.,\n",
       "       168., 167., 227., 139., 256., 206., 141., 238., 178., 223., 252.,\n",
       "       239., 115., 191., 179., 251., 262., 196., 180., 189., 237., 265.])"
      ]
     },
     "execution_count": 3893,
     "metadata": {},
     "output_type": "execute_result"
    }
   ],
   "source": [
    "#Lets reconfirm our understanding\n",
    "vehicles['scatter_ratio'].unique()\n",
    "#Yes, nan is one of the unique value present in the data set."
   ]
  },
  {
   "cell_type": "code",
   "execution_count": 3894,
   "metadata": {},
   "outputs": [
    {
     "data": {
      "text/plain": [
       "<matplotlib.axes._subplots.AxesSubplot at 0x1aa04314d0>"
      ]
     },
     "execution_count": 3894,
     "metadata": {},
     "output_type": "execute_result"
    },
    {
     "data": {
      "image/png": "[encoded data removed]",
      "text/plain": [
       "<Figure size 432x288 with 1 Axes>"
      ]
     },
     "metadata": {
      "needs_background": "light"
     },
     "output_type": "display_data"
    }
   ],
   "source": [
    "#Before replacing nan value, let us also check that if outliers are present\n",
    "sns.boxplot(vehicles['scatter_ratio'])\n",
    "#No outliers are present. We can replace nan values with median"
   ]
  },
  {
   "cell_type": "code",
   "execution_count": 3895,
   "metadata": {},
   "outputs": [],
   "source": [
    "#Replacing nan with median\n",
    "vehicles[\"scatter_ratio\"].fillna((vehicles[\"scatter_ratio\"].median()), inplace=True)"
   ]
  },
  {
   "cell_type": "code",
   "execution_count": 3896,
   "metadata": {},
   "outputs": [
    {
     "data": {
      "text/plain": [
       "array([162., 149., 207., 144., 255., 153., 137., 122., 183., 133., 123.,\n",
       "       152., 174., 204., 118., 177., 216., 208., 154., 150., 143., 147.,\n",
       "       128., 218., 192., 146., 155., 140., 142., 164., 157., 151., 205.,\n",
       "       119., 158., 213., 159., 130., 148., 156., 163., 210., 257., 185.,\n",
       "       209., 193., 184., 225., 190., 215., 224., 176., 126., 195., 172.,\n",
       "       127., 261., 171., 125., 169., 197., 145., 214., 201., 114., 194.,\n",
       "       220., 221., 173., 134., 160., 121., 199., 186., 161., 222., 136.,\n",
       "       187., 250., 202., 166., 132., 211., 247., 116., 203., 181., 240.,\n",
       "       219., 212., 138., 131., 117., 112., 165., 226., 129., 175., 135.,\n",
       "       217., 200., 241., 198., 120., 260., 188., 170., 234., 236., 168.,\n",
       "       167., 227., 139., 256., 206., 141., 238., 178., 223., 252., 239.,\n",
       "       115., 191., 179., 251., 262., 196., 180., 189., 237., 265.])"
      ]
     },
     "execution_count": 3896,
     "metadata": {},
     "output_type": "execute_result"
    }
   ],
   "source": [
    "vehicles[\"scatter_ratio\"].unique()\n",
    "#Confirmed that replacement is successful"
   ]
  },
  {
   "cell_type": "code",
   "execution_count": 3897,
   "metadata": {},
   "outputs": [
    {
     "data": {
      "text/plain": [
       "<matplotlib.axes._subplots.AxesSubplot at 0x1aa04fe110>"
      ]
     },
     "execution_count": 3897,
     "metadata": {},
     "output_type": "execute_result"
    },
    {
     "data": {
      "image/png": "[encoded data removed]",
      "text/plain": [
       "<Figure size 432x288 with 1 Axes>"
      ]
     },
     "metadata": {
      "needs_background": "light"
     },
     "output_type": "display_data"
    }
   ],
   "source": [
    "sns.distplot(vehicles['scatter_ratio'],rug=True)\n",
    "#Inference: scatter_ratio has multiple modes and \n",
    "#concentration can be found between value ranges 110-240 approximately"
   ]
  },
  {
   "cell_type": "code",
   "execution_count": 3898,
   "metadata": {},
   "outputs": [
    {
     "data": {
      "text/plain": [
       "<matplotlib.axes._subplots.AxesSubplot at 0x1aa0693c10>"
      ]
     },
     "execution_count": 3898,
     "metadata": {},
     "output_type": "execute_result"
    },
    {
     "data": {
      "image/png": "[encoded data removed]",
      "text/plain": [
       "<Figure size 432x288 with 1 Axes>"
      ]
     },
     "metadata": {
      "needs_background": "light"
     },
     "output_type": "display_data"
    }
   ],
   "source": [
    "#Bivariate Analysis-scatter_ratio vs class\n",
    "sns.boxplot(vehicles['class'],vehicles['scatter_ratio'])\n",
    "#Inference: From below graph, it is evident that scatter_ratio is varies for each class. \n",
    "#Car has wide spread range w.r.t scatter_ratio\n",
    "#and outliers are observed for bus w.r.t this variable. Bus has right skewed distribution w.r.t scatter_ratio"
   ]
  },
  {
   "cell_type": "code",
   "execution_count": 3899,
   "metadata": {},
   "outputs": [
    {
     "data": {
      "text/plain": [
       "array([42., 45., 32., 46., 26., 48., 54., 36., 50., 43., 44., 37., 57.,\n",
       "       31., 55., 53., 33., 47., 40., 51., 34., 52., 35., 30., 38., 56.,\n",
       "       39., 58., 59., 49., 27., 41., nan, 61., 28., 29.])"
      ]
     },
     "execution_count": 3899,
     "metadata": {},
     "output_type": "execute_result"
    }
   ],
   "source": [
    "#Analysing the variable:elongatedness\n",
    "#Previous anaysis indicated presence of null values\n",
    "vehicles['elongatedness'].unique()\n",
    "#From below data, it is confirmed that nan is one of the unique value present in the data set under column 'elongatedness'"
   ]
  },
  {
   "cell_type": "code",
   "execution_count": 3900,
   "metadata": {},
   "outputs": [
    {
     "data": {
      "text/plain": [
       "<matplotlib.axes._subplots.AxesSubplot at 0x1aa0506b50>"
      ]
     },
     "execution_count": 3900,
     "metadata": {},
     "output_type": "execute_result"
    },
    {
     "data": {
      "image/png": "[encoded data removed]",
      "text/plain": [
       "<Figure size 432x288 with 1 Axes>"
      ]
     },
     "metadata": {
      "needs_background": "light"
     },
     "output_type": "display_data"
    }
   ],
   "source": [
    "#Before replacing nan values, we need to check if outliers are present\n",
    "sns.boxplot(vehicles['elongatedness'])\n",
    "#No outliers are present"
   ]
  },
  {
   "cell_type": "code",
   "execution_count": 3901,
   "metadata": {},
   "outputs": [],
   "source": [
    "#Replacing nan with median\n",
    "vehicles[\"elongatedness\"].fillna((vehicles[\"elongatedness\"].median()), inplace=True)"
   ]
  },
  {
   "cell_type": "code",
   "execution_count": 3902,
   "metadata": {},
   "outputs": [
    {
     "data": {
      "text/plain": [
       "array([42., 45., 32., 46., 26., 48., 54., 36., 50., 43., 44., 37., 57.,\n",
       "       31., 55., 53., 33., 47., 40., 51., 34., 52., 35., 30., 38., 56.,\n",
       "       39., 58., 59., 49., 27., 41., 61., 28., 29.])"
      ]
     },
     "execution_count": 3902,
     "metadata": {},
     "output_type": "execute_result"
    }
   ],
   "source": [
    "vehicles[\"elongatedness\"].unique()\n",
    "#nan value is replaced successfully"
   ]
  },
  {
   "cell_type": "code",
   "execution_count": 3903,
   "metadata": {},
   "outputs": [
    {
     "data": {
      "text/plain": [
       "<matplotlib.axes._subplots.AxesSubplot at 0x1a9efe6690>"
      ]
     },
     "execution_count": 3903,
     "metadata": {},
     "output_type": "execute_result"
    },
    {
     "data": {
      "image/png": "[encoded data removed]",
      "text/plain": [
       "<Figure size 432x288 with 1 Axes>"
      ]
     },
     "metadata": {
      "needs_background": "light"
     },
     "output_type": "display_data"
    }
   ],
   "source": [
    "sns.distplot(vehicles['elongatedness'],rug=True)\n",
    "#Inference: elongatedness is spread across data set in multiple modes. \n",
    "#concentration exists between range of value 25-60"
   ]
  },
  {
   "cell_type": "code",
   "execution_count": 3904,
   "metadata": {},
   "outputs": [
    {
     "data": {
      "text/plain": [
       "<matplotlib.axes._subplots.AxesSubplot at 0x1aa09ec210>"
      ]
     },
     "execution_count": 3904,
     "metadata": {},
     "output_type": "execute_result"
    },
    {
     "data": {
      "image/png": "[encoded data removed]",
      "text/plain": [
       "<Figure size 432x288 with 1 Axes>"
      ]
     },
     "metadata": {
      "needs_background": "light"
     },
     "output_type": "display_data"
    }
   ],
   "source": [
    "#Bivariate Analysis-elongatedness vs class\n",
    "sns.boxplot(vehicles['class'],vehicles['elongatedness'])\n",
    "#Inference: From below graph, it is evident that elongatedness varies for each class. \n",
    "#Car has wide spread range w.r.t elongatedness\n",
    "#Bus has left skewed distribution w.r.t elongatedness"
   ]
  },
  {
   "cell_type": "code",
   "execution_count": 3905,
   "metadata": {},
   "outputs": [
    {
     "data": {
      "text/plain": [
       "array([20., 19., 23., 28., 18., 17., 22., 21., 24., 25., nan, 27., 26.,\n",
       "       29.])"
      ]
     },
     "execution_count": 3905,
     "metadata": {},
     "output_type": "execute_result"
    }
   ],
   "source": [
    "#Analysing the variable-pr.axis_rectangularity\n",
    "#Let's reconfirm if this variable has nan values\n",
    "vehicles['pr.axis_rectangularity'].unique()\n",
    "#Shows the presence of nan value"
   ]
  },
  {
   "cell_type": "code",
   "execution_count": 3906,
   "metadata": {},
   "outputs": [
    {
     "name": "stderr",
     "output_type": "stream",
     "text": [
      "/Users/chai3/opt/anaconda3/lib/python3.7/site-packages/IPython/core/displayhook.py:276: UserWarning: Output cache limit (currently 1000 entries) hit.\n",
      "Flushing oldest 200 entries.\n",
      "  'Flushing oldest {cull_count} entries.'.format(sz=sz, cull_count=cull_count))\n"
     ]
    },
    {
     "data": {
      "text/plain": [
       "<matplotlib.axes._subplots.AxesSubplot at 0x1aa0ae2c90>"
      ]
     },
     "execution_count": 3906,
     "metadata": {},
     "output_type": "execute_result"
    },
    {
     "data": {
      "image/png": "[encoded data removed]",
      "text/plain": [
       "<Figure size 432x288 with 1 Axes>"
      ]
     },
     "metadata": {
      "needs_background": "light"
     },
     "output_type": "display_data"
    }
   ],
   "source": [
    "#Checking if it has outliers\n",
    "sns.boxplot(vehicles['pr.axis_rectangularity'])\n",
    "#No outliers present"
   ]
  },
  {
   "cell_type": "code",
   "execution_count": 3907,
   "metadata": {},
   "outputs": [],
   "source": [
    "#Replacing nan with median\n",
    "vehicles[\"pr.axis_rectangularity\"].fillna((vehicles[\"pr.axis_rectangularity\"].median()), inplace=True)"
   ]
  },
  {
   "cell_type": "code",
   "execution_count": 3908,
   "metadata": {},
   "outputs": [
    {
     "data": {
      "text/plain": [
       "array([20., 19., 23., 28., 18., 17., 22., 21., 24., 25., 27., 26., 29.])"
      ]
     },
     "execution_count": 3908,
     "metadata": {},
     "output_type": "execute_result"
    }
   ],
   "source": [
    "vehicles[\"pr.axis_rectangularity\"].unique()\n",
    "#Replacement is successful"
   ]
  },
  {
   "cell_type": "code",
   "execution_count": 3909,
   "metadata": {},
   "outputs": [
    {
     "data": {
      "text/plain": [
       "<matplotlib.axes._subplots.AxesSubplot at 0x1aa0bc4ad0>"
      ]
     },
     "execution_count": 3909,
     "metadata": {},
     "output_type": "execute_result"
    },
    {
     "data": {
      "image/png": "[encoded data removed]",
      "text/plain": [
       "<Figure size 432x288 with 1 Axes>"
      ]
     },
     "metadata": {
      "needs_background": "light"
     },
     "output_type": "display_data"
    }
   ],
   "source": [
    "sns.distplot(vehicles['pr.axis_rectangularity'],rug=True)\n",
    "#Inference: Variable is widespread and has multiple modes. \n",
    "#Also we can see discontinuity between values 20-21 and 24-25"
   ]
  },
  {
   "cell_type": "code",
   "execution_count": 3910,
   "metadata": {},
   "outputs": [
    {
     "data": {
      "text/plain": [
       "<matplotlib.axes._subplots.AxesSubplot at 0x1aa0d53c10>"
      ]
     },
     "execution_count": 3910,
     "metadata": {},
     "output_type": "execute_result"
    },
    {
     "data": {
      "image/png": "[encoded data removed]",
      "text/plain": [
       "<Figure size 432x288 with 1 Axes>"
      ]
     },
     "metadata": {
      "needs_background": "light"
     },
     "output_type": "display_data"
    }
   ],
   "source": [
    "#Bivariate Analysis-pr.axis_rectangularity vs class\n",
    "sns.boxplot(vehicles['class'],vehicles['pr.axis_rectangularity'])\n",
    "#Inference: From below graph, it is evident that pr.axis_rectangularity varies for each class. \n",
    "#Car has wide spread range w.r.t pr.axis_rectangularity\n",
    "#Bus has outliers w.r.t pr.axis_rectangularity"
   ]
  },
  {
   "cell_type": "code",
   "execution_count": 3911,
   "metadata": {},
   "outputs": [
    {
     "data": {
      "text/plain": [
       "array([159, 143, 158, 144, 169, 146, 127, 130, 118, 148, 154, 166, 129,\n",
       "       139, 173, 145, 125, 142, 136, 165, 167, 151, 128, 150, 147, 156,\n",
       "       171, 162, 134, 160, 141, 163, 133, 168, 135, 161, 137, 178, 175,\n",
       "       186, 132, 138, 152, 153, 122, 157, 140, 174, 124, 164, 172, 170,\n",
       "       131, 123, 149, 126, 155, 176, 180, 119, 177, 121, 182, 179, 188,\n",
       "       120])"
      ]
     },
     "execution_count": 3911,
     "metadata": {},
     "output_type": "execute_result"
    }
   ],
   "source": [
    "#Let us analyze the variable-max.length_rectangularity if nan values and outliers present\n",
    "vehicles['max.length_rectangularity'].unique()\n",
    "#No nan values are present"
   ]
  },
  {
   "cell_type": "code",
   "execution_count": 3912,
   "metadata": {},
   "outputs": [
    {
     "data": {
      "text/plain": [
       "<matplotlib.axes._subplots.AxesSubplot at 0x1aa0e4a410>"
      ]
     },
     "execution_count": 3912,
     "metadata": {},
     "output_type": "execute_result"
    },
    {
     "data": {
      "image/png": "[encoded data removed]",
      "text/plain": [
       "<Figure size 432x288 with 1 Axes>"
      ]
     },
     "metadata": {
      "needs_background": "light"
     },
     "output_type": "display_data"
    }
   ],
   "source": [
    "#Checking for outliers\n",
    "sns.boxplot(vehicles['max.length_rectangularity'])\n",
    "#No outliers present"
   ]
  },
  {
   "cell_type": "code",
   "execution_count": 3913,
   "metadata": {},
   "outputs": [
    {
     "data": {
      "text/plain": [
       "<matplotlib.axes._subplots.AxesSubplot at 0x1aa0f29c50>"
      ]
     },
     "execution_count": 3913,
     "metadata": {},
     "output_type": "execute_result"
    },
    {
     "data": {
      "image/png": "[encoded data removed]",
      "text/plain": [
       "<Figure size 432x288 with 1 Axes>"
      ]
     },
     "metadata": {
      "needs_background": "light"
     },
     "output_type": "display_data"
    }
   ],
   "source": [
    "sns.distplot(vehicles['max.length_rectangularity'],rug=True)\n",
    "#Data is almost symmetrically distributed across max.length_rectangularity and \n",
    "#concentration is found between value range 118-180 approximately"
   ]
  },
  {
   "cell_type": "code",
   "execution_count": 3914,
   "metadata": {},
   "outputs": [
    {
     "data": {
      "text/plain": [
       "<matplotlib.axes._subplots.AxesSubplot at 0x1aa0f30550>"
      ]
     },
     "execution_count": 3914,
     "metadata": {},
     "output_type": "execute_result"
    },
    {
     "data": {
      "image/png": "[encoded data removed]",
      "text/plain": [
       "<Figure size 432x288 with 1 Axes>"
      ]
     },
     "metadata": {
      "needs_background": "light"
     },
     "output_type": "display_data"
    }
   ],
   "source": [
    "#Bivariate Analysis-max.length_rectangularity vs class\n",
    "sns.boxplot(vehicles['class'],vehicles['max.length_rectangularity'])\n",
    "#Inference: From below graph, it is evident that max.length_rectangularity falls somewhat in same range for each class \n",
    "#Car has wide spread range w.r.t max.length_rectangularity\n",
    "#Bus has narrow spread and outliers w.r.t max.length_rectangularity"
   ]
  },
  {
   "cell_type": "code",
   "execution_count": 3915,
   "metadata": {},
   "outputs": [
    {
     "data": {
      "text/plain": [
       "array([176., 170., 223., 160., 241., 280., 162., 141., 202., 153., 148.,\n",
       "       180., 173., 196., 227., 137., 225., 175., 169., 164., 221., 143.,\n",
       "       229., 217., 168., 165., 232., 186., 174., 272., 235., 135., 178.,\n",
       "       191., 159., 172., 184., 181., 236., 275., 154., 222., 214., 145.,\n",
       "       203., 231., 208., 226., 210., 197., 171., 155., 278., 189., 142.,\n",
       "       218., 179., 166., 237.,  nan, 212., 177., 167., 132., 151., 216.,\n",
       "       219., 157., 224., 188., 161., 207., 156., 152., 220., 266., 228.,\n",
       "       185., 209., 204., 182., 200., 258., 146., 183., 163., 238., 194.,\n",
       "       134., 206., 136., 130., 190., 158., 147., 140., 265., 211., 138.,\n",
       "       247., 288., 234., 243., 256., 195., 213., 187., 205., 262., 320.,\n",
       "       285., 215., 150., 139., 267., 149., 193., 230., 254., 269., 264.,\n",
       "       199., 192., 144., 131., 246., 287., 240., 263.])"
      ]
     },
     "execution_count": 3915,
     "metadata": {},
     "output_type": "execute_result"
    }
   ],
   "source": [
    "#Analysis of variable-scaled_variance\n",
    "#Previous analysis indicated that nan values are present\n",
    "vehicles['scaled_variance'].unique()\n",
    "#nan is shwon as one of the unique value in data set"
   ]
  },
  {
   "cell_type": "code",
   "execution_count": 3916,
   "metadata": {},
   "outputs": [
    {
     "data": {
      "text/plain": [
       "<matplotlib.axes._subplots.AxesSubplot at 0x1aa11ac950>"
      ]
     },
     "execution_count": 3916,
     "metadata": {},
     "output_type": "execute_result"
    },
    {
     "data": {
      "image/png": "[encoded data removed]",
      "text/plain": [
       "<Figure size 432x288 with 1 Axes>"
      ]
     },
     "metadata": {
      "needs_background": "light"
     },
     "output_type": "display_data"
    }
   ],
   "source": [
    "#Checking for outliers\n",
    "sns.boxplot(vehicles['scaled_variance'])"
   ]
  },
  {
   "cell_type": "code",
   "execution_count": 3917,
   "metadata": {},
   "outputs": [
    {
     "data": {
      "text/plain": [
       "179.0"
      ]
     },
     "execution_count": 3917,
     "metadata": {},
     "output_type": "execute_result"
    }
   ],
   "source": [
    "#Replacing outliers with median\n",
    "vehicles['scaled_variance'].median()"
   ]
  },
  {
   "cell_type": "code",
   "execution_count": 3918,
   "metadata": {},
   "outputs": [],
   "source": [
    "vehicles[\"scaled_variance\"]=np.where(vehicles[\"scaled_variance\"]>290, 179,vehicles[\"scaled_variance\"])"
   ]
  },
  {
   "cell_type": "code",
   "execution_count": 3919,
   "metadata": {},
   "outputs": [],
   "source": [
    "#Now lets replace na values with new median\n",
    "vehicles[\"scaled_variance\"].fillna((vehicles[\"scaled_variance\"].median()), inplace=True)"
   ]
  },
  {
   "cell_type": "code",
   "execution_count": 3920,
   "metadata": {},
   "outputs": [
    {
     "data": {
      "text/plain": [
       "array([176., 170., 223., 160., 241., 280., 162., 141., 202., 153., 148.,\n",
       "       180., 173., 196., 227., 137., 225., 175., 169., 164., 221., 143.,\n",
       "       229., 217., 168., 165., 232., 186., 174., 272., 235., 135., 178.,\n",
       "       191., 159., 172., 184., 181., 236., 275., 154., 222., 214., 145.,\n",
       "       203., 231., 208., 226., 210., 197., 171., 155., 278., 189., 142.,\n",
       "       218., 179., 166., 237., 212., 177., 167., 132., 151., 216., 219.,\n",
       "       157., 224., 188., 161., 207., 156., 152., 220., 266., 228., 185.,\n",
       "       209., 204., 182., 200., 258., 146., 183., 163., 238., 194., 134.,\n",
       "       206., 136., 130., 190., 158., 147., 140., 265., 211., 138., 247.,\n",
       "       288., 234., 243., 256., 195., 213., 187., 205., 262., 285., 215.,\n",
       "       150., 139., 267., 149., 193., 230., 254., 269., 264., 199., 192.,\n",
       "       144., 131., 246., 287., 240., 263.])"
      ]
     },
     "execution_count": 3920,
     "metadata": {},
     "output_type": "execute_result"
    }
   ],
   "source": [
    "vehicles[\"scaled_variance\"].unique()\n",
    "#Replacement of nan is successful"
   ]
  },
  {
   "cell_type": "code",
   "execution_count": 3921,
   "metadata": {},
   "outputs": [
    {
     "data": {
      "text/plain": [
       "<matplotlib.axes._subplots.AxesSubplot at 0x1aa1297ed0>"
      ]
     },
     "execution_count": 3921,
     "metadata": {},
     "output_type": "execute_result"
    },
    {
     "data": {
      "image/png": "[encoded data removed]",
      "text/plain": [
       "<Figure size 432x288 with 1 Axes>"
      ]
     },
     "metadata": {
      "needs_background": "light"
     },
     "output_type": "display_data"
    }
   ],
   "source": [
    "sns.distplot(vehicles['scaled_variance'],rug=True)\n",
    "#Variable has multiple modes and concetrated between value range 135-280 approximately"
   ]
  },
  {
   "cell_type": "code",
   "execution_count": 3922,
   "metadata": {},
   "outputs": [
    {
     "data": {
      "text/plain": [
       "<matplotlib.axes._subplots.AxesSubplot at 0x1aa1412cd0>"
      ]
     },
     "execution_count": 3922,
     "metadata": {},
     "output_type": "execute_result"
    },
    {
     "data": {
      "image/png": "[encoded data removed]",
      "text/plain": [
       "<Figure size 432x288 with 1 Axes>"
      ]
     },
     "metadata": {
      "needs_background": "light"
     },
     "output_type": "display_data"
    }
   ],
   "source": [
    "#Bivariate Analysis-scaled_variance vs class\n",
    "sns.boxplot(vehicles['class'],vehicles['scaled_variance'])\n",
    "#Inference: From below graph, it is evident that scaled_variance varies for each class, van being lowest one\n",
    "#Car has wide spread range w.r.t scaled_variance\n",
    "#Bus and van has outliers w.r.t scaled_variance, bus has right skewed distribution"
   ]
  },
  {
   "cell_type": "code",
   "execution_count": 3923,
   "metadata": {},
   "outputs": [
    {
     "data": {
      "text/plain": [
       "array([ 379.,  330.,  635.,  309.,  325.,  957.,  361.,  281.,  223.,\n",
       "        505.,  266.,  224.,  349.,  345.,  465.,  624.,  206.,  485.,\n",
       "        686.,  651.,  354.,  221.,  344.,  307.,  623.,  324.,  238.,\n",
       "        696.,  570.,  314.,  356.,  293.,  304.,  641.,  402.,  363.,\n",
       "        340.,  346.,  691.,  336.,  628.,  207.,  366.,  405.,  675.,\n",
       "        371.,  253.,  317.,  352.,  404.,  299.,  355.,  661.,  341.,\n",
       "        956.,  265.,  512.,  653.,  241.,  567.,  247.,  269.,  333.,\n",
       "        523.,  323.,  748.,  305.,  558.,  683.,  732.,  466.,  227.,\n",
       "        338.,  571.,  445.,  666.,  328.,  343.,  671.,  242.,  311.,\n",
       "        342.,  998.,  209.,  446.,  229.,  703.,  430.,  583.,  312.,\n",
       "        308.,  337.,  602.,  321.,  326.,  347.,  246.,  194.,  576.,\n",
       "        711.,  575.,  331.,  329.,  524.,  357.,  315.,  192.,  351.,\n",
       "        611.,  712.,  463.,  370.,  319.,  216.,  365.,  605.,  578.,\n",
       "        511.,  261.,  669.,  364.,  264.,  230.,  373.,  320.,  670.,\n",
       "        406.,  728.,  387.,  332.,  360.,  279.,  527.,  525.,  334.,\n",
       "        645.,  928.,  240.,  335.,  259.,  610.,  415.,  260.,  665.,\n",
       "        707.,  674.,  243.,  892.,  313.,  680.,  469.,  273.,  638.,\n",
       "        196.,  612.,  479.,  434.,  367.,  494.,  866.,  705.,  350.,\n",
       "        727.,  225.,  396.,  681.,  444.,  284.,  682.,  286.,  388.,\n",
       "        708.,  195.,  722.,  531.,  274.,  704.,  258.,  640.,  203.,\n",
       "        184.,  642.,  268.,  419.,  731.,  684.,  358.,  374.,  426.,\n",
       "        673.,  197.,  716.,  310.,  676.,  604.,  245.,  457.,  237.,\n",
       "        518.,  212.,  218.,  322.,  452.,  316.,  954.,  327.,  362.,\n",
       "        521.,  692.,  427.,  598.,  251.,  870.,  252.,  385.,   nan,\n",
       "        492.,  589.,  249.,  520.,  213.,  718.,  982.,  533.,  435.,\n",
       "        389.,  300.,  530.,  725.,  822.,  720.,  625.,  290.,  271.,\n",
       "        737.,  833.,  668.,  546.,  472.,  504.,  519.,  687.,  425.,\n",
       "        608.,  399.,  359.,  429.,  205.,  776.,  694.,  923.,  296.,\n",
       "        756.,  348.,  467.,  391.,  966.,  413.,  627.,  294.,  595.,\n",
       "        433.,  390.,  287.,  685.,  263.,  255.,  650.,  298.,  710.,\n",
       "        428.,  639.,  280.,  629.,  262.,  473.,  586.,  572.,  376.,\n",
       "        211.,  517.,  844.,  636.,  394.,  607.,  282.,  706.,  480.,\n",
       "        735.,  658.,  741.,  697.,  418.,  301.,  383.,  663.,  709.,\n",
       "        891.,  204.,  757.,  573.,  667.,  372.,  678.,  395.,  729.,\n",
       "        278.,  700.,  339.,  471.,  275.,  291.,  701.,  381.,  526.,\n",
       "        630.,  460.,  904.,  637.,  719.,  601.,  857.,  375.,  378.,\n",
       "        277.,  208.,  295.,  458.,  613.,  855.,  698.,  713.,  416.,\n",
       "        688.,  648.,  369.,  677.,  600.,  409.,  232.,  622.,  200.,\n",
       "        250.,  481.,  534.,  422.,  462.,  191.,  393.,  193.,  219.,\n",
       "        486.,  664.,  306.,  644.,  616.,  297.,  487.,  562.,  543.,\n",
       "        484.,  318.,  440.,  289.,  561.,  513.,  659.,  455.,  596.,\n",
       "        353.,  752.,  579.,  414.,  987.,  220.,  545.,  489.,  417.,\n",
       "        693.,  438.,  657.,  222.,  474.,  766.,  587.,  459.,  408.,\n",
       "        557.,  256.,  233.,  633.,  730.,  816.,  968.,  621.,  584.,\n",
       "        506.,  401.,  559.,  272.,  660.,  574.,  536.,  450.,  552.,\n",
       "        838.,  535.,  285.,  631.,  563.,  476.,  508.,  597.,  717.,\n",
       "        478.,  726.,  254.,  382., 1018.,  283.,  368.,  721.,  270.])"
      ]
     },
     "execution_count": 3923,
     "metadata": {},
     "output_type": "execute_result"
    }
   ],
   "source": [
    "#Analysis of variable-scaled_variance.1\n",
    "#Previous analysis indicated that nan values are present\n",
    "vehicles['scaled_variance.1'].unique()\n",
    "#nan is shwon as one of the unique value in data set"
   ]
  },
  {
   "cell_type": "code",
   "execution_count": 3924,
   "metadata": {},
   "outputs": [
    {
     "data": {
      "text/plain": [
       "<matplotlib.axes._subplots.AxesSubplot at 0x1aa1528090>"
      ]
     },
     "execution_count": 3924,
     "metadata": {},
     "output_type": "execute_result"
    },
    {
     "data": {
      "image/png": "[encoded data removed]",
      "text/plain": [
       "<Figure size 432x288 with 1 Axes>"
      ]
     },
     "metadata": {
      "needs_background": "light"
     },
     "output_type": "display_data"
    }
   ],
   "source": [
    "#Checking for outliers\n",
    "sns.boxplot(vehicles['scaled_variance.1'])\n",
    "#outliers present. We can consider values >990 as outliers"
   ]
  },
  {
   "cell_type": "code",
   "execution_count": 3925,
   "metadata": {},
   "outputs": [
    {
     "data": {
      "text/plain": [
       "363.5"
      ]
     },
     "execution_count": 3925,
     "metadata": {},
     "output_type": "execute_result"
    }
   ],
   "source": [
    "#Replacing outliers with median\n",
    "vehicles['scaled_variance.1'].median()"
   ]
  },
  {
   "cell_type": "code",
   "execution_count": 3926,
   "metadata": {},
   "outputs": [],
   "source": [
    "vehicles[\"scaled_variance.1\"]=np.where(vehicles[\"scaled_variance.1\"]>990, 363.5,vehicles[\"scaled_variance.1\"])"
   ]
  },
  {
   "cell_type": "code",
   "execution_count": 3927,
   "metadata": {},
   "outputs": [],
   "source": [
    "#Now lets replace na values with new median\n",
    "vehicles[\"scaled_variance.1\"].fillna((vehicles[\"scaled_variance.1\"].median()), inplace=True)"
   ]
  },
  {
   "cell_type": "code",
   "execution_count": 3928,
   "metadata": {},
   "outputs": [
    {
     "data": {
      "text/plain": [
       "array([379.  , 330.  , 635.  , 309.  , 325.  , 957.  , 361.  , 281.  ,\n",
       "       223.  , 505.  , 266.  , 224.  , 349.  , 345.  , 465.  , 624.  ,\n",
       "       206.  , 485.  , 686.  , 651.  , 354.  , 221.  , 344.  , 307.  ,\n",
       "       623.  , 324.  , 238.  , 696.  , 570.  , 314.  , 356.  , 293.  ,\n",
       "       304.  , 641.  , 402.  , 363.  , 340.  , 346.  , 691.  , 336.  ,\n",
       "       628.  , 207.  , 366.  , 405.  , 675.  , 371.  , 253.  , 317.  ,\n",
       "       352.  , 404.  , 299.  , 355.  , 661.  , 341.  , 956.  , 265.  ,\n",
       "       512.  , 653.  , 241.  , 567.  , 247.  , 269.  , 333.  , 523.  ,\n",
       "       323.  , 748.  , 305.  , 558.  , 683.  , 732.  , 466.  , 227.  ,\n",
       "       338.  , 571.  , 445.  , 666.  , 328.  , 343.  , 671.  , 242.  ,\n",
       "       311.  , 342.  , 363.5 , 209.  , 446.  , 229.  , 703.  , 430.  ,\n",
       "       583.  , 312.  , 308.  , 337.  , 602.  , 321.  , 326.  , 347.  ,\n",
       "       246.  , 194.  , 576.  , 711.  , 575.  , 331.  , 329.  , 524.  ,\n",
       "       357.  , 315.  , 192.  , 351.  , 611.  , 712.  , 463.  , 370.  ,\n",
       "       319.  , 216.  , 365.  , 605.  , 578.  , 511.  , 261.  , 669.  ,\n",
       "       364.  , 264.  , 230.  , 373.  , 320.  , 670.  , 406.  , 728.  ,\n",
       "       387.  , 332.  , 360.  , 279.  , 527.  , 525.  , 334.  , 645.  ,\n",
       "       928.  , 240.  , 335.  , 259.  , 610.  , 415.  , 260.  , 665.  ,\n",
       "       707.  , 674.  , 243.  , 892.  , 313.  , 680.  , 469.  , 273.  ,\n",
       "       638.  , 196.  , 612.  , 479.  , 434.  , 367.  , 494.  , 866.  ,\n",
       "       705.  , 350.  , 727.  , 225.  , 396.  , 681.  , 444.  , 284.  ,\n",
       "       682.  , 286.  , 388.  , 708.  , 195.  , 722.  , 531.  , 274.  ,\n",
       "       704.  , 258.  , 640.  , 203.  , 184.  , 642.  , 268.  , 419.  ,\n",
       "       731.  , 684.  , 358.  , 374.  , 426.  , 673.  , 197.  , 716.  ,\n",
       "       310.  , 676.  , 604.  , 245.  , 457.  , 237.  , 518.  , 212.  ,\n",
       "       218.  , 322.  , 452.  , 316.  , 954.  , 327.  , 362.  , 521.  ,\n",
       "       692.  , 427.  , 598.  , 251.  , 870.  , 252.  , 385.  , 363.25,\n",
       "       492.  , 589.  , 249.  , 520.  , 213.  , 718.  , 982.  , 533.  ,\n",
       "       435.  , 389.  , 300.  , 530.  , 725.  , 822.  , 720.  , 625.  ,\n",
       "       290.  , 271.  , 737.  , 833.  , 668.  , 546.  , 472.  , 504.  ,\n",
       "       519.  , 687.  , 425.  , 608.  , 399.  , 359.  , 429.  , 205.  ,\n",
       "       776.  , 694.  , 923.  , 296.  , 756.  , 348.  , 467.  , 391.  ,\n",
       "       966.  , 413.  , 627.  , 294.  , 595.  , 433.  , 390.  , 287.  ,\n",
       "       685.  , 263.  , 255.  , 650.  , 298.  , 710.  , 428.  , 639.  ,\n",
       "       280.  , 629.  , 262.  , 473.  , 586.  , 572.  , 376.  , 211.  ,\n",
       "       517.  , 844.  , 636.  , 394.  , 607.  , 282.  , 706.  , 480.  ,\n",
       "       735.  , 658.  , 741.  , 697.  , 418.  , 301.  , 383.  , 663.  ,\n",
       "       709.  , 891.  , 204.  , 757.  , 573.  , 667.  , 372.  , 678.  ,\n",
       "       395.  , 729.  , 278.  , 700.  , 339.  , 471.  , 275.  , 291.  ,\n",
       "       701.  , 381.  , 526.  , 630.  , 460.  , 904.  , 637.  , 719.  ,\n",
       "       601.  , 857.  , 375.  , 378.  , 277.  , 208.  , 295.  , 458.  ,\n",
       "       613.  , 855.  , 698.  , 713.  , 416.  , 688.  , 648.  , 369.  ,\n",
       "       677.  , 600.  , 409.  , 232.  , 622.  , 200.  , 250.  , 481.  ,\n",
       "       534.  , 422.  , 462.  , 191.  , 393.  , 193.  , 219.  , 486.  ,\n",
       "       664.  , 306.  , 644.  , 616.  , 297.  , 487.  , 562.  , 543.  ,\n",
       "       484.  , 318.  , 440.  , 289.  , 561.  , 513.  , 659.  , 455.  ,\n",
       "       596.  , 353.  , 752.  , 579.  , 414.  , 987.  , 220.  , 545.  ,\n",
       "       489.  , 417.  , 693.  , 438.  , 657.  , 222.  , 474.  , 766.  ,\n",
       "       587.  , 459.  , 408.  , 557.  , 256.  , 233.  , 633.  , 730.  ,\n",
       "       816.  , 968.  , 621.  , 584.  , 506.  , 401.  , 559.  , 272.  ,\n",
       "       660.  , 574.  , 536.  , 450.  , 552.  , 838.  , 535.  , 285.  ,\n",
       "       631.  , 563.  , 476.  , 508.  , 597.  , 717.  , 478.  , 726.  ,\n",
       "       254.  , 382.  , 283.  , 368.  , 721.  , 270.  ])"
      ]
     },
     "execution_count": 3928,
     "metadata": {},
     "output_type": "execute_result"
    }
   ],
   "source": [
    "vehicles[\"scaled_variance.1\"].unique()\n",
    "#Replacement of nan is successful"
   ]
  },
  {
   "cell_type": "code",
   "execution_count": 3929,
   "metadata": {},
   "outputs": [
    {
     "data": {
      "text/plain": [
       "<matplotlib.axes._subplots.AxesSubplot at 0x1aa1600710>"
      ]
     },
     "execution_count": 3929,
     "metadata": {},
     "output_type": "execute_result"
    },
    {
     "data": {
      "image/png": "[encoded data removed]",
      "text/plain": [
       "<Figure size 432x288 with 1 Axes>"
      ]
     },
     "metadata": {
      "needs_background": "light"
     },
     "output_type": "display_data"
    }
   ],
   "source": [
    "sns.distplot(vehicles['scaled_variance.1'], rug=True)\n",
    "#Variable has multiple modes and concetrated between value range 200-800 approximately"
   ]
  },
  {
   "cell_type": "code",
   "execution_count": 3930,
   "metadata": {},
   "outputs": [
    {
     "data": {
      "text/plain": [
       "<matplotlib.axes._subplots.AxesSubplot at 0x1aa1768050>"
      ]
     },
     "execution_count": 3930,
     "metadata": {},
     "output_type": "execute_result"
    },
    {
     "data": {
      "image/png": "[encoded data removed]",
      "text/plain": [
       "<Figure size 432x288 with 1 Axes>"
      ]
     },
     "metadata": {
      "needs_background": "light"
     },
     "output_type": "display_data"
    }
   ],
   "source": [
    "#Bivariate Analysis-scaled_variance.1 vs class\n",
    "sns.boxplot(vehicles['class'],vehicles['scaled_variance.1'])\n",
    "#Inference: From below graph, it is evident that scaled_variance.1 varies for each class, van being lowest one\n",
    "#Car has wide spread range w.r.t scaled_variance.1\n",
    "#Bus and van has outliers w.r.t scaled_variance.1, bus has right skewed distribution"
   ]
  },
  {
   "cell_type": "code",
   "execution_count": 3931,
   "metadata": {},
   "outputs": [],
   "source": [
    "#Variables-scaled_variance and scaled_variance.1 displays almost similar relationship with taregt variable 'class'. \n",
    "#I think once of them can be dropped"
   ]
  },
  {
   "cell_type": "code",
   "execution_count": 3932,
   "metadata": {},
   "outputs": [],
   "source": [
    "#Analyzing variable-scaled_radius_of_gyration\n",
    "#This variable showed presence of nan values previously"
   ]
  },
  {
   "cell_type": "code",
   "execution_count": 3933,
   "metadata": {},
   "outputs": [
    {
     "data": {
      "text/plain": [
       "array([184., 158., 220., 127., 188., 264., 172., 164., 112., 152., 118.,\n",
       "       192., 161., 206., 246., 125., 151., 223., 133., 177., 141., 224.,\n",
       "       174., 139., 216., 163., 120., 204., 130., 200., 218., 186., 202.,\n",
       "       232., 189., 156., 179., 146., 245., 165., 230., 119., 176., 212.,\n",
       "       142., 185., 159., 183., 171., 209., 221., 147., 210., 173., 214.,\n",
       "       116., 144., 148., 257., 162., 129., 132., 229., 155., 234., 170.,\n",
       "       201., 150., 137., 167., 143., 187., 136., 138., 194., 153., 157.,\n",
       "       198., 131., 168., 134., 145., 115., 178., 199., 195., 154., 149.,\n",
       "       239., 140., 180., 217., 124., 190., 242., 169., 135., 166., 238.,\n",
       "       121., 128., 191., 123., 219., 181.,  nan, 213., 175., 197., 211.,\n",
       "       126., 249., 203., 205., 160., 222., 247., 226., 261., 231., 236.,\n",
       "       253., 235., 182., 262., 193., 117., 250., 196., 243., 113., 228.,\n",
       "       240., 241., 244., 109., 207., 268., 260., 215., 208., 237., 255.,\n",
       "       114.])"
      ]
     },
     "execution_count": 3933,
     "metadata": {},
     "output_type": "execute_result"
    }
   ],
   "source": [
    "vehicles[\"scaled_radius_of_gyration\"].unique()\n",
    "#Inference, we could see presence of nan values.  Before replacing the 'nan' values\n",
    "#Let's check if 'scaled_radius_of_gyration' variable has any outliers \n",
    "#as this will impact the replacement value of nan\n"
   ]
  },
  {
   "cell_type": "code",
   "execution_count": 3934,
   "metadata": {},
   "outputs": [
    {
     "data": {
      "text/plain": [
       "<matplotlib.axes._subplots.AxesSubplot at 0x1aa1885e10>"
      ]
     },
     "execution_count": 3934,
     "metadata": {},
     "output_type": "execute_result"
    },
    {
     "data": {
      "image/png": "[encoded data removed]",
      "text/plain": [
       "<Figure size 432x288 with 1 Axes>"
      ]
     },
     "metadata": {
      "needs_background": "light"
     },
     "output_type": "display_data"
    }
   ],
   "source": [
    "sns.boxplot(vehicles['scaled_radius_of_gyration'])\n",
    "#Boxplot does not show any presence of outliers for scaled_radius_of_gyration\n",
    "#So nan value can be replaced with median"
   ]
  },
  {
   "cell_type": "code",
   "execution_count": 3935,
   "metadata": {},
   "outputs": [],
   "source": [
    "#Now lets replace na values with median\n",
    "vehicles[\"scaled_radius_of_gyration\"].fillna((vehicles[\"scaled_radius_of_gyration\"].median()), inplace=True)"
   ]
  },
  {
   "cell_type": "code",
   "execution_count": 3936,
   "metadata": {},
   "outputs": [
    {
     "data": {
      "text/plain": [
       "array([184. , 158. , 220. , 127. , 188. , 264. , 172. , 164. , 112. ,\n",
       "       152. , 118. , 192. , 161. , 206. , 246. , 125. , 151. , 223. ,\n",
       "       133. , 177. , 141. , 224. , 174. , 139. , 216. , 163. , 120. ,\n",
       "       204. , 130. , 200. , 218. , 186. , 202. , 232. , 189. , 156. ,\n",
       "       179. , 146. , 245. , 165. , 230. , 119. , 176. , 212. , 142. ,\n",
       "       185. , 159. , 183. , 171. , 209. , 221. , 147. , 210. , 173. ,\n",
       "       214. , 116. , 144. , 148. , 257. , 162. , 129. , 132. , 229. ,\n",
       "       155. , 234. , 170. , 201. , 150. , 137. , 167. , 143. , 187. ,\n",
       "       136. , 138. , 194. , 153. , 157. , 198. , 131. , 168. , 134. ,\n",
       "       145. , 115. , 178. , 199. , 195. , 154. , 149. , 239. , 140. ,\n",
       "       180. , 217. , 124. , 190. , 242. , 169. , 135. , 166. , 238. ,\n",
       "       121. , 128. , 191. , 123. , 219. , 181. , 173.5, 213. , 175. ,\n",
       "       197. , 211. , 126. , 249. , 203. , 205. , 160. , 222. , 247. ,\n",
       "       226. , 261. , 231. , 236. , 253. , 235. , 182. , 262. , 193. ,\n",
       "       117. , 250. , 196. , 243. , 113. , 228. , 240. , 241. , 244. ,\n",
       "       109. , 207. , 268. , 260. , 215. , 208. , 237. , 255. , 114. ])"
      ]
     },
     "execution_count": 3936,
     "metadata": {},
     "output_type": "execute_result"
    }
   ],
   "source": [
    "vehicles[\"scaled_radius_of_gyration\"].unique()\n",
    "#Inference: nan is replaced with median and hence 'nan' it is not displayed as one of the unique value"
   ]
  },
  {
   "cell_type": "code",
   "execution_count": 3937,
   "metadata": {},
   "outputs": [
    {
     "data": {
      "text/plain": [
       "<matplotlib.axes._subplots.AxesSubplot at 0x1aa196a110>"
      ]
     },
     "execution_count": 3937,
     "metadata": {},
     "output_type": "execute_result"
    },
    {
     "data": {
      "image/png": "[encoded data removed]",
      "text/plain": [
       "<Figure size 432x288 with 1 Axes>"
      ]
     },
     "metadata": {
      "needs_background": "light"
     },
     "output_type": "display_data"
    }
   ],
   "source": [
    "sns.distplot(vehicles['scaled_radius_of_gyration'], rug=True)\n",
    "#\"scaled_radius_of_gyration\" variable has almost symmetrical distribution across the data set\n",
    "#Data concentration can be seen between value ranges-115-260 approximately"
   ]
  },
  {
   "cell_type": "code",
   "execution_count": 3938,
   "metadata": {},
   "outputs": [
    {
     "data": {
      "text/plain": [
       "<matplotlib.axes._subplots.AxesSubplot at 0x1aa1ad1e50>"
      ]
     },
     "execution_count": 3938,
     "metadata": {},
     "output_type": "execute_result"
    },
    {
     "data": {
      "image/png": "[encoded data removed]",
      "text/plain": [
       "<Figure size 432x288 with 1 Axes>"
      ]
     },
     "metadata": {
      "needs_background": "light"
     },
     "output_type": "display_data"
    }
   ],
   "source": [
    "#Bivariate Analysis-scaled_radius_of_gyration vs class\n",
    "sns.boxplot(vehicles['class'],vehicles['scaled_radius_of_gyration'])\n",
    "#Inference: From below graph, it is evident that scaled_radius_of_gyration varies for each class\n",
    "#Car has wide spread range w.r.t scaled_radius_of_gyration\n",
    "#Bus has outliers w.r.t scaled_radius_of_gyration"
   ]
  },
  {
   "cell_type": "code",
   "execution_count": 3939,
   "metadata": {},
   "outputs": [],
   "source": [
    "#Analyzing variable-scaled_radius_of_gyration.1\n",
    "#This variable showed presence of nan values previously"
   ]
  },
  {
   "cell_type": "code",
   "execution_count": 3940,
   "metadata": {},
   "outputs": [
    {
     "data": {
      "text/plain": [
       "array([ 70.,  72.,  73.,  63., 127.,  85.,  66.,  67.,  64.,  65.,  71.,\n",
       "        74.,  80.,  75.,  82.,  68.,  69.,  76.,  83., 118.,  86.,  77.,\n",
       "        88.,  62.,  79.,  78.,  nan,  81.,  87., 119.,  97.,  60.,  61.,\n",
       "        89.,  90.,  84., 135.,  91.,  59.,  99.])"
      ]
     },
     "execution_count": 3940,
     "metadata": {},
     "output_type": "execute_result"
    }
   ],
   "source": [
    "vehicles[\"scaled_radius_of_gyration.1\"].unique()\n",
    "#Inference, we could see presence of nan values.  Before replacing the 'nan' values\n",
    "#Let's check if 'scaled_radius_of_gyration.1' variable has any outliers \n",
    "#as this will impact the replacement value of nan"
   ]
  },
  {
   "cell_type": "code",
   "execution_count": 3941,
   "metadata": {},
   "outputs": [
    {
     "data": {
      "text/plain": [
       "<matplotlib.axes._subplots.AxesSubplot at 0x1aa1bf3850>"
      ]
     },
     "execution_count": 3941,
     "metadata": {},
     "output_type": "execute_result"
    },
    {
     "data": {
      "image/png": "[encoded data removed]",
      "text/plain": [
       "<Figure size 432x288 with 1 Axes>"
      ]
     },
     "metadata": {
      "needs_background": "light"
     },
     "output_type": "display_data"
    }
   ],
   "source": [
    "sns.boxplot(vehicles['scaled_radius_of_gyration.1'])\n",
    "#Boxplot does shows the presence of outliers for scaled_radius_of_gyration.1\n",
    "#Values>88 can be considered as outlier"
   ]
  },
  {
   "cell_type": "code",
   "execution_count": 3942,
   "metadata": {},
   "outputs": [
    {
     "data": {
      "text/plain": [
       "71.5"
      ]
     },
     "execution_count": 3942,
     "metadata": {},
     "output_type": "execute_result"
    }
   ],
   "source": [
    "vehicles[\"scaled_radius_of_gyration.1\"].median()"
   ]
  },
  {
   "cell_type": "code",
   "execution_count": 3943,
   "metadata": {},
   "outputs": [],
   "source": [
    "vehicles[\"scaled_radius_of_gyration.1\"]=np.where(vehicles[\"scaled_radius_of_gyration.1\"]>88, 71.5,vehicles[\"scaled_radius_of_gyration.1\"])\n"
   ]
  },
  {
   "cell_type": "code",
   "execution_count": 3944,
   "metadata": {},
   "outputs": [],
   "source": [
    "#Now lets replace na values with new median\n",
    "vehicles[\"scaled_radius_of_gyration.1\"].fillna((vehicles[\"scaled_radius_of_gyration.1\"].median()), inplace=True)"
   ]
  },
  {
   "cell_type": "code",
   "execution_count": 3945,
   "metadata": {},
   "outputs": [
    {
     "data": {
      "text/plain": [
       "array([70.  , 72.  , 73.  , 63.  , 71.5 , 85.  , 66.  , 67.  , 64.  ,\n",
       "       65.  , 71.  , 74.  , 80.  , 75.  , 82.  , 68.  , 69.  , 76.  ,\n",
       "       83.  , 86.  , 77.  , 88.  , 62.  , 79.  , 78.  , 71.25, 81.  ,\n",
       "       87.  , 60.  , 61.  , 84.  , 59.  ])"
      ]
     },
     "execution_count": 3945,
     "metadata": {},
     "output_type": "execute_result"
    }
   ],
   "source": [
    "vehicles[\"scaled_radius_of_gyration.1\"].unique()\n",
    "#Inference: nan is replaced with median and hence 'nan' it is not displayed as one of the unique value"
   ]
  },
  {
   "cell_type": "code",
   "execution_count": 3946,
   "metadata": {},
   "outputs": [
    {
     "data": {
      "text/plain": [
       "<matplotlib.axes._subplots.AxesSubplot at 0x1aa1cdef10>"
      ]
     },
     "execution_count": 3946,
     "metadata": {},
     "output_type": "execute_result"
    },
    {
     "data": {
      "image/png": "[encoded data removed]",
      "text/plain": [
       "<Figure size 432x288 with 1 Axes>"
      ]
     },
     "metadata": {
      "needs_background": "light"
     },
     "output_type": "display_data"
    }
   ],
   "source": [
    "sns.distplot(vehicles['scaled_radius_of_gyration.1'], rug=True)\n",
    "#\"scaled_radius_of_gyration.1\" variable has almost symmetrical distribution across the data set\n",
    "#Data concentration can be seen between value ranges-60-88 approximately"
   ]
  },
  {
   "cell_type": "code",
   "execution_count": 3947,
   "metadata": {},
   "outputs": [
    {
     "data": {
      "text/plain": [
       "<matplotlib.axes._subplots.AxesSubplot at 0x1aa1e67750>"
      ]
     },
     "execution_count": 3947,
     "metadata": {},
     "output_type": "execute_result"
    },
    {
     "data": {
      "image/png": "[encoded data removed]",
      "text/plain": [
       "<Figure size 432x288 with 1 Axes>"
      ]
     },
     "metadata": {
      "needs_background": "light"
     },
     "output_type": "display_data"
    }
   ],
   "source": [
    "#Bivariate Analysis-scaled_radius_of_gyration.1 vs class\n",
    "sns.boxplot(vehicles['class'],vehicles['scaled_radius_of_gyration.1'])\n",
    "#Inference: From below graph, it is evident that scaled_radius_of_gyration.1 varies for each class\n",
    "#bus has wide spread range w.r.t scaled_radius_of_gyration.1\n",
    "#van and car has outliers w.r.t scaled_radius_of_gyration.1"
   ]
  },
  {
   "cell_type": "code",
   "execution_count": 3948,
   "metadata": {},
   "outputs": [],
   "source": [
    "#Variables-scaled_radius_of_gyration and scaled_radius_of_gyration.1 does not display similar behavious\n",
    "#w.r.t target variable 'class', so think chances of dropping one of the column is less"
   ]
  },
  {
   "cell_type": "code",
   "execution_count": 3949,
   "metadata": {},
   "outputs": [],
   "source": [
    "#Analyzing variable-skewness_about\n",
    "#This variable showed presence of nan values previously"
   ]
  },
  {
   "cell_type": "code",
   "execution_count": 3950,
   "metadata": {},
   "outputs": [
    {
     "data": {
      "text/plain": [
       "array([ 6.,  9., 14.,  5., 13.,  3.,  2.,  4.,  8.,  0.,  7.,  1., 10.,\n",
       "       17., 20., 18., nan, 11., 16., 21., 12., 22., 15., 19.])"
      ]
     },
     "execution_count": 3950,
     "metadata": {},
     "output_type": "execute_result"
    }
   ],
   "source": [
    "vehicles[\"skewness_about\"].unique()\n",
    "#Inference, we could see presence of nan values.  Before replacing the 'nan' values\n",
    "#Let's check if 'skewness_about' variable has any outliers \n",
    "#as this will impact the replacement value of nan"
   ]
  },
  {
   "cell_type": "code",
   "execution_count": 3951,
   "metadata": {},
   "outputs": [
    {
     "data": {
      "text/plain": [
       "<matplotlib.axes._subplots.AxesSubplot at 0x1aa1f6e190>"
      ]
     },
     "execution_count": 3951,
     "metadata": {},
     "output_type": "execute_result"
    },
    {
     "data": {
      "image/png": "[encoded data removed]",
      "text/plain": [
       "<Figure size 432x288 with 1 Axes>"
      ]
     },
     "metadata": {
      "needs_background": "light"
     },
     "output_type": "display_data"
    }
   ],
   "source": [
    "sns.boxplot(vehicles['skewness_about'])\n",
    "#Boxplot does shows the presence of outliers for skewness_about\n",
    "#Values >19 can be considered as outlier"
   ]
  },
  {
   "cell_type": "code",
   "execution_count": 3952,
   "metadata": {},
   "outputs": [
    {
     "data": {
      "text/plain": [
       "6.0"
      ]
     },
     "execution_count": 3952,
     "metadata": {},
     "output_type": "execute_result"
    }
   ],
   "source": [
    "vehicles[\"skewness_about\"].median()"
   ]
  },
  {
   "cell_type": "code",
   "execution_count": 3953,
   "metadata": {},
   "outputs": [],
   "source": [
    "vehicles[\"skewness_about\"]=np.where(vehicles[\"skewness_about\"]>19, 6,vehicles[\"skewness_about\"])\n"
   ]
  },
  {
   "cell_type": "code",
   "execution_count": 3954,
   "metadata": {},
   "outputs": [],
   "source": [
    "#Now lets replace na values with new median\n",
    "vehicles[\"skewness_about\"].fillna((vehicles[\"skewness_about\"].median()), inplace=True)"
   ]
  },
  {
   "cell_type": "code",
   "execution_count": 3955,
   "metadata": {},
   "outputs": [
    {
     "data": {
      "text/plain": [
       "array([ 6.,  9., 14.,  5., 13.,  3.,  2.,  4.,  8.,  0.,  7.,  1., 10.,\n",
       "       17., 18., 11., 16., 12., 15., 19.])"
      ]
     },
     "execution_count": 3955,
     "metadata": {},
     "output_type": "execute_result"
    }
   ],
   "source": [
    "vehicles[\"skewness_about\"].unique()\n",
    "#Inference: nan is replaced with median and hence 'nan' it is not displayed as one of the unique value"
   ]
  },
  {
   "cell_type": "code",
   "execution_count": 3956,
   "metadata": {},
   "outputs": [
    {
     "data": {
      "text/plain": [
       "<matplotlib.axes._subplots.AxesSubplot at 0x1aa204a190>"
      ]
     },
     "execution_count": 3956,
     "metadata": {},
     "output_type": "execute_result"
    },
    {
     "data": {
      "image/png": "[encoded data removed]",
      "text/plain": [
       "<Figure size 432x288 with 1 Axes>"
      ]
     },
     "metadata": {
      "needs_background": "light"
     },
     "output_type": "display_data"
    }
   ],
   "source": [
    "sns.distplot(vehicles['skewness_about'], rug=True)\n",
    "#\"skewness_about\" variable has slightly right skewed  distribution across the data set with multiple modes\n",
    "#Data concentration can be seen between value ranges-0-19 approximately"
   ]
  },
  {
   "cell_type": "code",
   "execution_count": 3957,
   "metadata": {},
   "outputs": [
    {
     "data": {
      "text/plain": [
       "<matplotlib.axes._subplots.AxesSubplot at 0x1aa21adf90>"
      ]
     },
     "execution_count": 3957,
     "metadata": {},
     "output_type": "execute_result"
    },
    {
     "data": {
      "image/png": "[encoded data removed]",
      "text/plain": [
       "<Figure size 432x288 with 1 Axes>"
      ]
     },
     "metadata": {
      "needs_background": "light"
     },
     "output_type": "display_data"
    }
   ],
   "source": [
    "#Bivariate Analysis-skewness_about vs class\n",
    "sns.boxplot(vehicles['class'],vehicles['skewness_about'])\n",
    "#Inference: From below graph, it is evident that skewness_about is almost overlapping for each class\n",
    "#car has wide spread range w.r.t skewness_about\n",
    "#van and bus has outliers w.r.t skewness_about"
   ]
  },
  {
   "cell_type": "code",
   "execution_count": 3958,
   "metadata": {},
   "outputs": [],
   "source": [
    "#Analyzing variable-skewness_about.1\n",
    "#This variable showed presence of nan values previously"
   ]
  },
  {
   "cell_type": "code",
   "execution_count": 3959,
   "metadata": {},
   "outputs": [
    {
     "data": {
      "text/plain": [
       "array([16., 14.,  9., 10., 11.,  1.,  3., 26., 13.,  2.,  5.,  6.,  4.,\n",
       "       28.,  7., 20., 38., 25., 15.,  0.,  8., 24., 21., 18., 23., 30.,\n",
       "       12., 29., 27., nan, 33., 32., 41., 39., 17., 22., 19., 35., 31.,\n",
       "       36., 40., 34.])"
      ]
     },
     "execution_count": 3959,
     "metadata": {},
     "output_type": "execute_result"
    }
   ],
   "source": [
    "vehicles[\"skewness_about.1\"].unique()\n",
    "#Inference, we could see presence of nan values.  Before replacing the 'nan' values\n",
    "#Let's check if 'skewness_about.1' variable has any outliers \n",
    "#as this will impact the replacement value of nan"
   ]
  },
  {
   "cell_type": "code",
   "execution_count": 3960,
   "metadata": {},
   "outputs": [
    {
     "data": {
      "text/plain": [
       "<matplotlib.axes._subplots.AxesSubplot at 0x1aa22c6050>"
      ]
     },
     "execution_count": 3960,
     "metadata": {},
     "output_type": "execute_result"
    },
    {
     "data": {
      "image/png": "[encoded data removed]",
      "text/plain": [
       "<Figure size 432x288 with 1 Axes>"
      ]
     },
     "metadata": {
      "needs_background": "light"
     },
     "output_type": "display_data"
    }
   ],
   "source": [
    "sns.boxplot(vehicles['skewness_about.1'])\n",
    "#Boxplot does shows the presence of outliers for skewness_about.1\n",
    "#Values >40 can be considered as outlier"
   ]
  },
  {
   "cell_type": "code",
   "execution_count": 3961,
   "metadata": {},
   "outputs": [
    {
     "data": {
      "text/plain": [
       "11.0"
      ]
     },
     "execution_count": 3961,
     "metadata": {},
     "output_type": "execute_result"
    }
   ],
   "source": [
    "vehicles[\"skewness_about.1\"].median()"
   ]
  },
  {
   "cell_type": "code",
   "execution_count": 3962,
   "metadata": {},
   "outputs": [],
   "source": [
    "vehicles[\"skewness_about.1\"]=np.where(vehicles[\"skewness_about.1\"]>40, 11,vehicles[\"skewness_about.1\"])\n"
   ]
  },
  {
   "cell_type": "code",
   "execution_count": 3963,
   "metadata": {},
   "outputs": [],
   "source": [
    "#Now lets replace na values with new median\n",
    "vehicles[\"skewness_about.1\"].fillna((vehicles[\"skewness_about.1\"].median()), inplace=True)"
   ]
  },
  {
   "cell_type": "code",
   "execution_count": 3964,
   "metadata": {},
   "outputs": [
    {
     "data": {
      "text/plain": [
       "array([16., 14.,  9., 10., 11.,  1.,  3., 26., 13.,  2.,  5.,  6.,  4.,\n",
       "       28.,  7., 20., 38., 25., 15.,  0.,  8., 24., 21., 18., 23., 30.,\n",
       "       12., 29., 27., 33., 32., 39., 17., 22., 19., 35., 31., 36., 40.,\n",
       "       34.])"
      ]
     },
     "execution_count": 3964,
     "metadata": {},
     "output_type": "execute_result"
    }
   ],
   "source": [
    "vehicles[\"skewness_about.1\"].unique()\n",
    "#Inference: nan is replaced with median and hence 'nan' it is not displayed as one of the unique value"
   ]
  },
  {
   "cell_type": "code",
   "execution_count": 3965,
   "metadata": {},
   "outputs": [
    {
     "data": {
      "text/plain": [
       "<matplotlib.axes._subplots.AxesSubplot at 0x1aa23a9290>"
      ]
     },
     "execution_count": 3965,
     "metadata": {},
     "output_type": "execute_result"
    },
    {
     "data": {
      "image/png": "[encoded data removed]",
      "text/plain": [
       "<Figure size 432x288 with 1 Axes>"
      ]
     },
     "metadata": {
      "needs_background": "light"
     },
     "output_type": "display_data"
    }
   ],
   "source": [
    "sns.distplot(vehicles['skewness_about.1'], rug=True)\n",
    "#\"skewness_about.1\" variable has slightly right skewed  distribution across the data set \n",
    "#Data concentration can be seen between value ranges-0-40 approximately"
   ]
  },
  {
   "cell_type": "code",
   "execution_count": 3966,
   "metadata": {},
   "outputs": [
    {
     "data": {
      "text/plain": [
       "<matplotlib.axes._subplots.AxesSubplot at 0x1aa239f090>"
      ]
     },
     "execution_count": 3966,
     "metadata": {},
     "output_type": "execute_result"
    },
    {
     "data": {
      "image/png": "[encoded data removed]",
      "text/plain": [
       "<Figure size 432x288 with 1 Axes>"
      ]
     },
     "metadata": {
      "needs_background": "light"
     },
     "output_type": "display_data"
    }
   ],
   "source": [
    "#Bivariate Analysis-skewness_about.1 vs class\n",
    "sns.boxplot(vehicles['class'],vehicles['skewness_about.1'])\n",
    "#Inference: From below graph, it is evident that skewness_about.1 is almost overlapping for each class\n",
    "#car has wide spread range w.r.t skewness_about.1\n",
    "#van and bus has outliers w.r.t skewness_about.1"
   ]
  },
  {
   "cell_type": "code",
   "execution_count": 3967,
   "metadata": {},
   "outputs": [],
   "source": [
    "#Analyzing variable-skewness_about.2\n",
    "#This variable showed presence of nan values previously"
   ]
  },
  {
   "cell_type": "code",
   "execution_count": 3968,
   "metadata": {},
   "outputs": [
    {
     "data": {
      "text/plain": [
       "array([187., 189., 188., 199., 180., 181., 200., 193., 195., 194., 196.,\n",
       "       197., 186., 198., 185., 179., 192., 191., 190., 183., 184., 202.,\n",
       "       201., 182., 176., 178., 203., 177.,  nan, 204., 206.])"
      ]
     },
     "execution_count": 3968,
     "metadata": {},
     "output_type": "execute_result"
    }
   ],
   "source": [
    "vehicles[\"skewness_about.2\"].unique()\n",
    "#Inference, we could see presence of nan values.  Before replacing the 'nan' values\n",
    "#Let's check if 'skewness_about.2' variable has any outliers \n",
    "#as this will impact the replacement value of nan"
   ]
  },
  {
   "cell_type": "code",
   "execution_count": 3969,
   "metadata": {},
   "outputs": [
    {
     "data": {
      "text/plain": [
       "<matplotlib.axes._subplots.AxesSubplot at 0x1aa262dcd0>"
      ]
     },
     "execution_count": 3969,
     "metadata": {},
     "output_type": "execute_result"
    },
    {
     "data": {
      "image/png": "[encoded data removed]",
      "text/plain": [
       "<Figure size 432x288 with 1 Axes>"
      ]
     },
     "metadata": {
      "needs_background": "light"
     },
     "output_type": "display_data"
    }
   ],
   "source": [
    "sns.boxplot(vehicles['skewness_about.2'])\n",
    "#Boxplot does  not show the presence of outliers for skewness_about.2"
   ]
  },
  {
   "cell_type": "code",
   "execution_count": 3970,
   "metadata": {},
   "outputs": [],
   "source": [
    "#Now lets replace na values with new median\n",
    "vehicles[\"skewness_about.2\"].fillna((vehicles[\"skewness_about.2\"].median()), inplace=True)"
   ]
  },
  {
   "cell_type": "code",
   "execution_count": 3971,
   "metadata": {},
   "outputs": [
    {
     "data": {
      "text/plain": [
       "array([187., 189., 188., 199., 180., 181., 200., 193., 195., 194., 196.,\n",
       "       197., 186., 198., 185., 179., 192., 191., 190., 183., 184., 202.,\n",
       "       201., 182., 176., 178., 203., 177., 204., 206.])"
      ]
     },
     "execution_count": 3971,
     "metadata": {},
     "output_type": "execute_result"
    }
   ],
   "source": [
    "vehicles[\"skewness_about.2\"].unique()\n",
    "#Inference: nan is replaced with median and hence 'nan' it is not displayed as one of the unique value"
   ]
  },
  {
   "cell_type": "code",
   "execution_count": 3972,
   "metadata": {},
   "outputs": [
    {
     "data": {
      "text/plain": [
       "<matplotlib.axes._subplots.AxesSubplot at 0x1aa26f9350>"
      ]
     },
     "execution_count": 3972,
     "metadata": {},
     "output_type": "execute_result"
    },
    {
     "data": {
      "image/png": "[encoded data removed]",
      "text/plain": [
       "<Figure size 432x288 with 1 Axes>"
      ]
     },
     "metadata": {
      "needs_background": "light"
     },
     "output_type": "display_data"
    }
   ],
   "source": [
    "sns.distplot(vehicles['skewness_about.2'], rug=True)\n",
    "#\"skewness_about.2\" variable has slightly right skewed  distribution across the data set with multiple modes\n",
    "#Data concentration can be seen between value ranges-176-204 approximately"
   ]
  },
  {
   "cell_type": "code",
   "execution_count": 3973,
   "metadata": {},
   "outputs": [
    {
     "data": {
      "text/plain": [
       "<matplotlib.axes._subplots.AxesSubplot at 0x1aa288ed90>"
      ]
     },
     "execution_count": 3973,
     "metadata": {},
     "output_type": "execute_result"
    },
    {
     "data": {
      "image/png": "[encoded data removed]",
      "text/plain": [
       "<Figure size 432x288 with 1 Axes>"
      ]
     },
     "metadata": {
      "needs_background": "light"
     },
     "output_type": "display_data"
    }
   ],
   "source": [
    "#Bivariate Analysis-skewness_about.2 vs class\n",
    "sns.boxplot(vehicles['class'],vehicles['skewness_about.2'])\n",
    "#Inference: From below graph, it is evident that skewness_about.2 is almost overlapping for each class\n",
    "#bus has wide spread range w.r.t skewness_about.2\n",
    "#car has outliers w.r.t skewness_about.2"
   ]
  },
  {
   "cell_type": "code",
   "execution_count": 3974,
   "metadata": {},
   "outputs": [],
   "source": [
    "#Among the variables-skewness_about,skewness_about.1,skewness_about.2, only first 2 variables shows similarity w.r.t \n",
    "#target variable 'class'. I think we can consider one of the column for analysis"
   ]
  },
  {
   "cell_type": "code",
   "execution_count": 3975,
   "metadata": {},
   "outputs": [
    {
     "data": {
      "text/plain": [
       "array([197, 199, 196, 207, 183, 204, 202, 208, 195, 194, 185, 193, 192,\n",
       "       206, 201, 205, 200, 189, 182, 209, 184, 187, 188, 198, 191, 190,\n",
       "       203, 186, 210, 211, 181])"
      ]
     },
     "execution_count": 3975,
     "metadata": {},
     "output_type": "execute_result"
    }
   ],
   "source": [
    "vehicles['hollows_ratio'].unique()\n",
    "#No 'nan' values present"
   ]
  },
  {
   "cell_type": "code",
   "execution_count": 3976,
   "metadata": {},
   "outputs": [
    {
     "data": {
      "text/plain": [
       "<matplotlib.axes._subplots.AxesSubplot at 0x1aa299fa10>"
      ]
     },
     "execution_count": 3976,
     "metadata": {},
     "output_type": "execute_result"
    },
    {
     "data": {
      "image/png": "[encoded data removed]",
      "text/plain": [
       "<Figure size 432x288 with 1 Axes>"
      ]
     },
     "metadata": {
      "needs_background": "light"
     },
     "output_type": "display_data"
    }
   ],
   "source": [
    "sns.distplot(vehicles[\"hollows_ratio\"],rug=True)\n",
    "#Data is somewhat symmertically spread across variable hollows_ratio.\n",
    "#Has multiple modes and concentration can be found between value range-181-201 approximately"
   ]
  },
  {
   "cell_type": "code",
   "execution_count": 3977,
   "metadata": {},
   "outputs": [
    {
     "data": {
      "text/plain": [
       "<matplotlib.axes._subplots.AxesSubplot at 0x1aa2b14e50>"
      ]
     },
     "execution_count": 3977,
     "metadata": {},
     "output_type": "execute_result"
    },
    {
     "data": {
      "image/png": "[encoded data removed]",
      "text/plain": [
       "<Figure size 432x288 with 1 Axes>"
      ]
     },
     "metadata": {
      "needs_background": "light"
     },
     "output_type": "display_data"
    }
   ],
   "source": [
    "sns.boxplot(vehicles[\"hollows_ratio\"])\n",
    "#No outliers found"
   ]
  },
  {
   "cell_type": "code",
   "execution_count": 3978,
   "metadata": {},
   "outputs": [
    {
     "data": {
      "text/plain": [
       "<matplotlib.axes._subplots.AxesSubplot at 0x1aa2bf6ad0>"
      ]
     },
     "execution_count": 3978,
     "metadata": {},
     "output_type": "execute_result"
    },
    {
     "data": {
      "image/png": "[encoded data removed]",
      "text/plain": [
       "<Figure size 432x288 with 1 Axes>"
      ]
     },
     "metadata": {
      "needs_background": "light"
     },
     "output_type": "display_data"
    }
   ],
   "source": [
    "#Bivariate Analysis-hollows_ratio vs class\n",
    "sns.boxplot(vehicles['class'],vehicles['hollows_ratio'])\n",
    "#Inference: From below graph, it is evident that hollows_ratio is almost overlapping between classes-van and car\n",
    "#bus has wide spread range w.r.t hollows_ratio and slightly right skewed\n",
    "#car has outliers w.r.t hollows_ratio"
   ]
  },
  {
   "cell_type": "code",
   "execution_count": 3979,
   "metadata": {},
   "outputs": [
    {
     "data": {
      "text/plain": [
       "<matplotlib.axes._subplots.AxesSubplot at 0x1aa2cf4ed0>"
      ]
     },
     "execution_count": 3979,
     "metadata": {},
     "output_type": "execute_result"
    },
    {
     "data": {
      "image/png": "[encoded data removed]",
      "text/plain": [
       "<Figure size 432x288 with 1 Axes>"
      ]
     },
     "metadata": {
      "needs_background": "light"
     },
     "output_type": "display_data"
    }
   ],
   "source": [
    "#Univariate analysis of categorical variable-'class'\n",
    "sns.countplot(vehicles[\"class\"])\n",
    "#From below graph we can conclude that class of type-car has highest presence in data set and \n",
    "#remainaing class types-van and bus shares equal presence in data set (second highest)"
   ]
  },
  {
   "cell_type": "code",
   "execution_count": 3980,
   "metadata": {},
   "outputs": [],
   "source": [
    "#Let's print heatmap and re-confirm that all the nan/null values are replaced successfully"
   ]
  },
  {
   "cell_type": "code",
   "execution_count": 3981,
   "metadata": {},
   "outputs": [
    {
     "data": {
      "text/plain": [
       "<matplotlib.axes._subplots.AxesSubplot at 0x1aa2dc97d0>"
      ]
     },
     "execution_count": 3981,
     "metadata": {},
     "output_type": "execute_result"
    },
    {
     "data": {
      "image/png": "[encoded data removed]",
      "text/plain": [
       "<Figure size 432x288 with 1 Axes>"
      ]
     },
     "metadata": {
      "needs_background": "light"
     },
     "output_type": "display_data"
    }
   ],
   "source": [
    "sns.heatmap(vehicles.isnull(),yticklabels=False,cbar=False,cmap='viridis')\n",
    "#Inference: null values are present under columns are replaced successfully"
   ]
  },
  {
   "cell_type": "code",
   "execution_count": 3982,
   "metadata": {},
   "outputs": [
    {
     "data": {
      "text/plain": [
       "array(['van', 'car', 'bus'], dtype=object)"
      ]
     },
     "execution_count": 3982,
     "metadata": {},
     "output_type": "execute_result"
    }
   ],
   "source": [
    "vehicles['class'].unique()\n",
    "#The data set has type of vehicle already mentioned (Target variable) . \n",
    "#This is categorical variable which needs to be converted into integer form\n",
    "#Also we need to drop it while performing unsupervised learning as this data already has clusters"
   ]
  },
  {
   "cell_type": "code",
   "execution_count": 3983,
   "metadata": {},
   "outputs": [
    {
     "data": {
      "text/plain": [
       "car    429\n",
       "bus    218\n",
       "van    199\n",
       "Name: class, dtype: int64"
      ]
     },
     "execution_count": 3983,
     "metadata": {},
     "output_type": "execute_result"
    }
   ],
   "source": [
    "pd.value_counts(vehicles['class'])\n",
    "#So from below data, we can see that total 846 values present and hence no missing data"
   ]
  },
  {
   "cell_type": "code",
   "execution_count": 3984,
   "metadata": {},
   "outputs": [
    {
     "data": {
      "text/plain": [
       "array([2, 1, 3])"
      ]
     },
     "execution_count": 3984,
     "metadata": {},
     "output_type": "execute_result"
    }
   ],
   "source": [
    "#Labelling the variable based on size of the vehicle\n",
    "cleanup_nums = { \"class\":     {\"car\": 1, \"van\": 2 ,\"bus\": 3}                }\n",
    "#Replacing in the data set\n",
    "vehicles.replace(cleanup_nums, inplace=True)\n",
    "vehicles['class'].unique()\n",
    "#Inference: Labelling and replacement is reflecting successfully"
   ]
  },
  {
   "cell_type": "code",
   "execution_count": 3985,
   "metadata": {},
   "outputs": [],
   "source": [
    "#Data clean up and analysis is completed. We are good to proceed further.\n",
    "#Overall inference from the EDA is summarized below:\n",
    "#Presence of nan values taken care\n",
    "#Outliers treatment taken care\n",
    "#Some of the variables-scaled_variance and scaled_variance.1 display similar behavious w.r.t 'class'\n",
    "#Also skewness_about and skewness_about.1 display similar behavious w.r.t 'class"
   ]
  },
  {
   "cell_type": "code",
   "execution_count": 3986,
   "metadata": {},
   "outputs": [],
   "source": [
    "#Split the data into train and test \n",
    "#(Suggestion: specify “random state” if you are using train_test_split from Sklearn)"
   ]
  },
  {
   "cell_type": "code",
   "execution_count": 3987,
   "metadata": {},
   "outputs": [
    {
     "data": {
      "text/plain": [
       "(     compactness  circularity  distance_circularity  radius_ratio  \\\n",
       " 775           97         38.0                  75.0         188.0   \n",
       " 242           85         42.0                  59.0         132.0   \n",
       " 301           93         43.0                  78.0         166.0   \n",
       " 170          108         51.0                 103.0         197.0   \n",
       " 187           98         45.0                  76.0         166.0   \n",
       " ..           ...          ...                   ...           ...   \n",
       " 835          111         58.0                 105.0         183.0   \n",
       " 192           93         43.0                  76.0         149.0   \n",
       " 629           90         42.0                  63.0         144.0   \n",
       " 559          101         56.0                 101.0         231.0   \n",
       " 684           99         38.0                  74.0         184.0   \n",
       " \n",
       "      pr.axis_aspect_ratio  max.length_aspect_ratio  scatter_ratio  \\\n",
       " 775                  68.0                        6          171.0   \n",
       " 242                  58.0                        7          149.0   \n",
       " 301                  59.0                        7          151.0   \n",
       " 170                  60.0                       11          211.0   \n",
       " 187                  60.0                        7          157.0   \n",
       " ..                    ...                      ...            ...   \n",
       " 835                  51.0                        6          265.0   \n",
       " 192                  57.0                        7          149.0   \n",
       " 629                  59.0                        7          131.0   \n",
       " 559                  72.0                       10          217.0   \n",
       " 684                  66.0                        6          164.0   \n",
       " \n",
       "      elongatedness  pr.axis_rectangularity  max.length_rectangularity  \\\n",
       " 775           37.0                    20.0                        129   \n",
       " 242           46.0                    19.0                        144   \n",
       " 301           44.0                    19.0                        141   \n",
       " 170           31.0                    24.0                        160   \n",
       " 187           42.0                    20.0                        148   \n",
       " ..             ...                     ...                        ...   \n",
       " 835           26.0                    29.0                        174   \n",
       " 192           44.0                    19.0                        143   \n",
       " 629           50.0                    18.0                        142   \n",
       " 559           31.0                    24.0                        171   \n",
       " 684           39.0                    20.0                        131   \n",
       " \n",
       "      scaled_variance  scaled_variance.1  scaled_radius_of_gyration  \\\n",
       " 775            199.0              450.0                      137.0   \n",
       " 242            166.0              320.0                      172.0   \n",
       " 301            182.0              342.0                      174.0   \n",
       " 170            222.0              661.0                      187.0   \n",
       " 187            184.0              371.0                      186.0   \n",
       " ..               ...                ...                        ...   \n",
       " 835            285.0              363.5                      255.0   \n",
       " 192            172.0              335.0                      176.0   \n",
       " 629            154.0              259.0                      162.0   \n",
       " 559            232.0              698.0                      216.0   \n",
       " 684            193.0              414.0                      137.0   \n",
       " \n",
       "      scaled_radius_of_gyration.1  skewness_about  skewness_about.1  \\\n",
       " 775                        74.00             2.0               6.0   \n",
       " 242                        83.00             8.0               4.0   \n",
       " 301                        68.00            15.0               2.0   \n",
       " 170                        67.00             7.0               3.0   \n",
       " 187                        69.00            13.0              10.0   \n",
       " ..                           ...             ...               ...   \n",
       " 835                        85.00             4.0               8.0   \n",
       " 192                        71.25            14.0               0.0   \n",
       " 629                        65.00            15.0               3.0   \n",
       " 559                        72.00             2.0               6.0   \n",
       " 684                        71.00             2.0              22.0   \n",
       " \n",
       "      skewness_about.2  hollows_ratio  \n",
       " 775             197.0            199  \n",
       " 242             179.0            182  \n",
       " 301             193.0            197  \n",
       " 170             190.0            200  \n",
       " 187             190.0            196  \n",
       " ..                ...            ...  \n",
       " 835             181.0            183  \n",
       " 192             189.0            194  \n",
       " 629             197.0            204  \n",
       " 559             187.0            197  \n",
       " 684             200.0            202  \n",
       " \n",
       " [592 rows x 18 columns],\n",
       "      compactness  circularity  distance_circularity  radius_ratio  \\\n",
       " 506          101         51.0                 112.0         201.0   \n",
       " 222          100         50.0                  81.0         197.0   \n",
       " 612           80         34.0                  42.0         110.0   \n",
       " 730          101         55.0                 107.0         200.0   \n",
       " 661          110         46.0                 100.0         197.0   \n",
       " ..           ...          ...                   ...           ...   \n",
       " 362           95         47.0                  81.0         176.0   \n",
       " 500          101         56.0                 100.0         204.0   \n",
       " 424           91         41.0                  93.0         197.0   \n",
       " 487           93         45.0                  81.0         177.0   \n",
       " 358           87         45.0                  82.0         164.0   \n",
       " \n",
       "      pr.axis_aspect_ratio  max.length_aspect_ratio  scatter_ratio  \\\n",
       " 506                  59.0                       11          214.0   \n",
       " 222                  61.0                        6          186.0   \n",
       " 612                  57.0                        3          114.0   \n",
       " 730                  61.0                       11          225.0   \n",
       " 661                  61.0                        9          193.0   \n",
       " ..                    ...                      ...            ...   \n",
       " 362                  59.0                        7          168.0   \n",
       " 500                  62.0                       12          227.0   \n",
       " 424                  65.0                        9          183.0   \n",
       " 487                  64.0                        7          160.0   \n",
       " 358                  60.0                        8          156.0   \n",
       " \n",
       "      elongatedness  pr.axis_rectangularity  max.length_rectangularity  \\\n",
       " 506           32.0                    24.0                        162   \n",
       " 222           34.0                    22.0                        158   \n",
       " 612           59.0                    17.0                        119   \n",
       " 730           30.0                    25.0                        178   \n",
       " 661           34.0                    22.0                        149   \n",
       " ..             ...                     ...                        ...   \n",
       " 362           39.0                    20.0                        152   \n",
       " 500           30.0                    25.0                        178   \n",
       " 424           36.0                    21.0                        137   \n",
       " 487           41.0                    20.0                        147   \n",
       " 358           42.0                    19.0                        144   \n",
       " \n",
       "      scaled_variance  scaled_variance.1  scaled_radius_of_gyration  \\\n",
       " 506            223.0              667.0                      194.0   \n",
       " 222            206.0              531.0                      198.0   \n",
       " 612            131.0              191.0                      121.0   \n",
       " 730            228.0              730.0                      204.0   \n",
       " 661            209.0              561.0                      160.0   \n",
       " ..               ...                ...                        ...   \n",
       " 362            196.0              425.0                      185.0   \n",
       " 500            231.0              757.0                      204.0   \n",
       " 424            202.0              504.0                      153.0   \n",
       " 487            180.0              383.0                      188.0   \n",
       " 358            181.0              366.0                      174.0   \n",
       " \n",
       "      scaled_radius_of_gyration.1  skewness_about  skewness_about.1  \\\n",
       " 506                         65.0             0.0              36.0   \n",
       " 222                         74.0             6.0               1.0   \n",
       " 612                         87.0             4.0               7.0   \n",
       " 730                         74.0             8.0              35.0   \n",
       " 661                         65.0            11.0               7.0   \n",
       " ..                           ...             ...               ...   \n",
       " 362                         67.0             4.0               4.0   \n",
       " 500                         73.0             0.0              11.0   \n",
       " 424                         66.0            11.0              24.0   \n",
       " 487                         70.0            11.0              11.0   \n",
       " 358                         70.0             2.0               2.0   \n",
       " \n",
       "      skewness_about.2  hollows_ratio  \n",
       " 506             190.0            206  \n",
       " 222             197.0            198  \n",
       " 612             179.0            183  \n",
       " 730             187.0            201  \n",
       " 661             194.0            203  \n",
       " ..                ...            ...  \n",
       " 362             191.0            198  \n",
       " 500             186.0            197  \n",
       " 424             193.0            200  \n",
       " 487             192.0            199  \n",
       " 358             190.0            196  \n",
       " \n",
       " [254 rows x 18 columns],\n",
       " 775    3\n",
       " 242    3\n",
       " 301    1\n",
       " 170    1\n",
       " 187    1\n",
       "       ..\n",
       " 835    3\n",
       " 192    1\n",
       " 629    2\n",
       " 559    1\n",
       " 684    3\n",
       " Name: class, Length: 592, dtype: int64,\n",
       " 506    1\n",
       " 222    3\n",
       " 612    1\n",
       " 730    1\n",
       " 661    1\n",
       "       ..\n",
       " 362    1\n",
       " 500    1\n",
       " 424    1\n",
       " 487    1\n",
       " 358    1\n",
       " Name: class, Length: 254, dtype: int64)"
      ]
     },
     "execution_count": 3987,
     "metadata": {},
     "output_type": "execute_result"
    }
   ],
   "source": [
    "#Split the data into train and test \n",
    "#(Suggestion: specify “random state” if you are using train_test_split from Sklearn)\n",
    "\n",
    "#Importing required libaries\n",
    "from sklearn.model_selection import train_test_split\n",
    "import os\n",
    "#Drop the target 'class' from data\n",
    "x=vehicles.drop('class',axis=1)\n",
    "y=vehicles['class']\n",
    "# Splitting the dataset into the Training set and Test set\n",
    "x_train,x_test,y_train,y_test=train_test_split(x,y,train_size=0.70,test_size=0.30,random_state=0)\n",
    "x_train,x_test,y_train,y_test"
   ]
  },
  {
   "cell_type": "code",
   "execution_count": 3988,
   "metadata": {},
   "outputs": [],
   "source": [
    "#Do data Scaling/Normalization if required\n",
    "#This is needed we have variables in different scale ex: scaled_variance.1 etc\n",
    "from sklearn.preprocessing import StandardScaler\n",
    "sc = StandardScaler()\n",
    "x_train= sc.fit_transform(x_train)\n",
    "x_test = sc.fit_transform(x_test)"
   ]
  },
  {
   "cell_type": "code",
   "execution_count": 3989,
   "metadata": {},
   "outputs": [
    {
     "name": "stdout",
     "output_type": "stream",
     "text": [
      "Accuracy on training set: 0.98\n",
      "Accuracy on test set: 0.97\n"
     ]
    }
   ],
   "source": [
    "#Train a Support vector machine using the train set and get the accuracy on the test set\n",
    "from sklearn.svm import SVC\n",
    "svc = SVC(gamma='auto')\n",
    "svc.fit(x_train, y_train)\n",
    "print(\"Accuracy on training set: {:.2f}\".format(svc.score(x_train, y_train)))\n",
    "print(\"Accuracy on test set: {:.2f}\".format(svc.score(x_test, y_test)))\n",
    "#Inference: We could see 98% accuracy on train set and 97% accuracy on test set using SVM"
   ]
  },
  {
   "cell_type": "code",
   "execution_count": 3990,
   "metadata": {},
   "outputs": [],
   "source": [
    "#Use PCA from Scikit learn, extract Principal Components that capture about 95% of the variance in the data"
   ]
  },
  {
   "cell_type": "code",
   "execution_count": 3991,
   "metadata": {},
   "outputs": [
    {
     "name": "stdout",
     "output_type": "stream",
     "text": [
      "Covariance Matrix \n",
      "%s [[ 1.00169205  0.68000646  0.78156566  0.72984036  0.22807225  0.48553152\n",
      "   0.80894497 -0.78634991  0.80872907  0.67513298  0.76343925  0.80852914\n",
      "   0.58416325 -0.25182793  0.19946184  0.14713031  0.32162852  0.37577561]\n",
      " [ 0.68000646  1.00169205  0.7918571   0.63899924  0.21602145  0.5588565\n",
      "   0.85087555 -0.82187596  0.8448786   0.9613981   0.80073788  0.83541333\n",
      "   0.9319483   0.06198946  0.13085597 -0.03734851 -0.09146858  0.0584263 ]\n",
      " [ 0.78156566  0.7918571   1.00169205  0.80054422  0.26997793  0.66466763\n",
      "   0.9068752  -0.91001885  0.89545283  0.77163057  0.86470217  0.88778588\n",
      "   0.71376714 -0.23474884  0.10782172  0.24007377  0.15054941  0.33693755]\n",
      " [ 0.72984036  0.63899924  0.80054422  1.00169205  0.67128689  0.45254435\n",
      "   0.78033035 -0.83550076  0.75324953  0.57554792  0.79304415  0.77367321\n",
      "   0.56216077 -0.38623707  0.05880367  0.17594305  0.42728704  0.50452355]\n",
      " [ 0.22807225  0.21602145  0.26997793  0.67128689  1.00169205  0.15603032\n",
      "   0.22625769 -0.33523217  0.19217743  0.15465035  0.23946765  0.22603859\n",
      "   0.1687586  -0.31959533 -0.03769707 -0.01229116  0.43347343  0.43949713]\n",
      " [ 0.48553152  0.5588565   0.66466763  0.45254435  0.15603032  1.00169205\n",
      "   0.48078389 -0.49367466  0.47939399  0.6415078   0.38823965  0.4515376\n",
      "   0.41246554 -0.35017651  0.10196943  0.08751116  0.07853801  0.40676447]\n",
      " [ 0.80894497  0.85087555  0.9068752   0.78033035  0.22625769  0.48078389\n",
      "   1.00169205 -0.97494663  0.99110386  0.80922715  0.96367612  0.98869513\n",
      "   0.80550249  0.01191214  0.0624465   0.19930306  0.02238802  0.13196657]\n",
      " [-0.78634991 -0.82187596 -0.91001885 -0.83550076 -0.33523217 -0.49367466\n",
      "  -0.97494663  1.00169205 -0.94895451 -0.77278391 -0.94802453 -0.95515701\n",
      "  -0.77027165  0.07941916 -0.05215809 -0.174973   -0.13410902 -0.23276304]\n",
      " [ 0.80872907  0.8448786   0.89545283  0.75324953  0.19217743  0.47939399\n",
      "   0.99110386 -0.94895451  1.00169205  0.80969154  0.94867018  0.97945628\n",
      "   0.80017457  0.02409737  0.07275076  0.20771331 -0.00345254  0.11174726]\n",
      " [ 0.67513298  0.9613981   0.77163057  0.57554792  0.15465035  0.6415078\n",
      "   0.80922715 -0.77278391  0.80969154  1.00169205  0.74353627  0.7922127\n",
      "   0.87031692  0.04840359  0.12966605 -0.0331541  -0.09672511  0.08144261]\n",
      " [ 0.76343925  0.80073788  0.86470217  0.79304415  0.23946765  0.38823965\n",
      "   0.96367612 -0.94802453  0.94867018  0.74353627  1.00169205  0.95184322\n",
      "   0.78205654  0.03161096  0.02498622  0.19553182  0.03198475  0.09352406]\n",
      " [ 0.80852914  0.83541333  0.88778588  0.77367321  0.22603859  0.4515376\n",
      "   0.98869513 -0.95515701  0.97945628  0.7922127   0.95184322  1.00169205\n",
      "   0.79267131  0.01051758  0.06581915  0.19985336  0.03302415  0.13022635]\n",
      " [ 0.58416325  0.9319483   0.71376714  0.56216077  0.1687586   0.41246554\n",
      "   0.80550249 -0.77027165  0.80017457  0.87031692  0.78205654  0.79267131\n",
      "   1.00169205  0.20094465  0.16726148 -0.06449626 -0.20317653 -0.08953446]\n",
      " [-0.25182793  0.06198946 -0.23474884 -0.38623707 -0.31959533 -0.35017651\n",
      "   0.01191214  0.07941916  0.02409737  0.04840359  0.03161096  0.01051758\n",
      "   0.20094465  1.00169205 -0.09913336 -0.09213506 -0.82654223 -0.90514746]\n",
      " [ 0.19946184  0.13085597  0.10782172  0.05880367 -0.03769707  0.10196943\n",
      "   0.0624465  -0.05215809  0.07275076  0.12966605  0.02498622  0.06581915\n",
      "   0.16726148 -0.09913336  1.00169205 -0.04410244  0.12237202  0.10648599]\n",
      " [ 0.14713031 -0.03734851  0.24007377  0.17594305 -0.01229116  0.08751116\n",
      "   0.19930306 -0.174973    0.20771331 -0.0331541   0.19553182  0.19985336\n",
      "  -0.06449626 -0.09213506 -0.04410244  1.00169205  0.0790537   0.16822246]\n",
      " [ 0.32162852 -0.09146858  0.15054941  0.42728704  0.43347343  0.07853801\n",
      "   0.02238802 -0.13410902 -0.00345254 -0.09672511  0.03198475  0.03302415\n",
      "  -0.20317653 -0.82654223  0.12237202  0.0790537   1.00169205  0.89262061]\n",
      " [ 0.37577561  0.0584263   0.33693755  0.50452355  0.43949713  0.40676447\n",
      "   0.13196657 -0.23276304  0.11174726  0.08144261  0.09352406  0.13022635\n",
      "  -0.08953446 -0.90514746  0.10648599  0.16822246  0.89262061  1.00169205]]\n",
      "Eigenvectors \n",
      "[[-0.27121371 -0.08916909 -0.02908781 -0.1282358   0.12886046  0.2899743\n",
      "  -0.17451304  0.76485809 -0.35047633  0.16150747 -0.08258039 -0.02063201\n",
      "   0.02009984 -0.03598669  0.11810386  0.10427529 -0.04233625  0.02391411]\n",
      " [-0.28633621  0.13530602 -0.20646866  0.07464613 -0.09524073 -0.0629999\n",
      "   0.40352522  0.04324595 -0.06431622 -0.20115865  0.02129187 -0.0794124\n",
      "   0.03058187 -0.06430016  0.26794252 -0.15071946  0.40688759  0.59771401]\n",
      " [-0.30156639 -0.03965481  0.03152561 -0.12462624 -0.1025028  -0.03200999\n",
      "  -0.19218903 -0.26721086 -0.12508576  0.12238689 -0.53307491 -0.64518868\n",
      "   0.00658985  0.12639097 -0.12407308 -0.08939665  0.00459844  0.02454561]\n",
      " [-0.27207477 -0.19520816  0.12120681  0.22646486  0.11883884 -0.13659883\n",
      "  -0.16436101 -0.09833521 -0.27296062 -0.08184     0.4721192  -0.08349983\n",
      "   0.00570424  0.45144224  0.23303147 -0.38680998 -0.00791453 -0.18311321]\n",
      " [-0.10822605 -0.26294486  0.07649976  0.60397343  0.14275032 -0.57473217\n",
      "  -0.07998571  0.19612058  0.02157574 -0.04442375 -0.22942582  0.04818675\n",
      "  -0.01722543 -0.19447102 -0.15375135  0.17588791  0.00354587  0.05342127]\n",
      " [-0.19205958 -0.09983488 -0.27956868 -0.24643022 -0.59013657 -0.33121029\n",
      "  -0.36833476  0.09745787  0.16603132  0.22765328  0.24176815  0.1333305\n",
      "  -0.00799857 -0.14423155 -0.10882536 -0.13138076  0.06393564  0.03807927]\n",
      " [-0.31025191  0.07924501  0.11301132 -0.0228688   0.05887937  0.10252981\n",
      "  -0.09613005 -0.07131686  0.14856087 -0.09376757 -0.09313228  0.19307012\n",
      "  -0.87460252 -0.04052301  0.06259964  0.00387001  0.07264061 -0.05717344]\n",
      " [ 0.30872253 -0.01495261 -0.10930734 -0.04980015 -0.05717263 -0.06807012\n",
      "   0.11239487  0.18092143 -0.31310336 -0.09377987  0.04052258 -0.00341983\n",
      "  -0.27527157  0.39281635 -0.66041224 -0.09706236  0.15245808  0.17146742]\n",
      " [-0.30658086  0.09092877  0.10681004 -0.05436242  0.0555894   0.10745807\n",
      "  -0.0945572  -0.02864937  0.0815274  -0.20157572 -0.15893454  0.31404324\n",
      "   0.33418297  0.0977612  -0.25600422  0.03901176  0.61429552 -0.34951366]\n",
      " [-0.27624133  0.12849534 -0.25019403 -0.00216756 -0.19932096 -0.06839705\n",
      "   0.36390635  0.21907158  0.16424792 -0.45388361  0.10069798 -0.26144898\n",
      "  -0.00454641  0.05627102 -0.11691761  0.15478222 -0.32313691 -0.4037766 ]\n",
      " [-0.29846436  0.08179002  0.17099851  0.03583512  0.11717493  0.13350218\n",
      "  -0.09471927 -0.19387489 -0.01119024  0.11253496  0.50763326 -0.19707125\n",
      "   0.03860343 -0.08374988 -0.32119795  0.55054383  0.00094436  0.2674005 ]\n",
      " [-0.30630827  0.07637686  0.12080765 -0.01961556  0.08542052  0.12195226\n",
      "  -0.08220168 -0.04163241  0.12179908 -0.17989152 -0.14002274  0.35229605\n",
      "   0.20481021  0.04020746 -0.28896882 -0.34927347 -0.53011222  0.36566454]\n",
      " [-0.26410408  0.20565392 -0.19157275  0.10970717  0.03898218 -0.08268654\n",
      "   0.44550159 -0.1674642  -0.27842594  0.62430252 -0.05367947  0.2467028\n",
      "  -0.01330232 -0.00959172 -0.10638382 -0.04228684 -0.10458144 -0.22139735]\n",
      " [ 0.04446863  0.50179092  0.11379927  0.11248268  0.16147444 -0.13387315\n",
      "  -0.06059956  0.3179747   0.53822396  0.31822493  0.03612891 -0.18894443\n",
      "   0.01544519  0.34884854  0.01057411 -0.11736933  0.07075975  0.05535301]\n",
      " [-0.03854286 -0.04589949 -0.53514997 -0.38768427  0.66115393 -0.29041155\n",
      "  -0.13325607 -0.09626966  0.0616065  -0.07076005  0.02708273  0.00501087\n",
      "  -0.00114811 -0.00329436  0.0043055   0.03578398 -0.00334581  0.01874473]\n",
      " [-0.05230828 -0.07938903  0.61152354 -0.5431589   0.05795312 -0.44213136\n",
      "   0.31593675  0.108802   -0.05386225  0.00536784  0.04206012 -0.00206081\n",
      "   0.00332689 -0.07603137  0.02064165 -0.02025392 -0.00754541 -0.00988215]\n",
      " [-0.04527465 -0.50309811 -0.00927348  0.04449904  0.1748827   0.28298986\n",
      "   0.25908964  0.0826354   0.36206708  0.18256702  0.14939403 -0.22326249\n",
      "  -0.03629565 -0.2818327  -0.26053264 -0.38497377  0.13736315 -0.07659848]\n",
      " [-0.09008533 -0.50551478 -0.06469766 -0.07767203 -0.10869257  0.05930327\n",
      "   0.18675452 -0.0324051   0.28488667  0.13904046 -0.15017303  0.19045868\n",
      "   0.02526739  0.57607655  0.15292096  0.36760558 -0.04762988  0.14917571]]\n"
     ]
    }
   ],
   "source": [
    "# generating the covariance matrix and the eigen values for the PCA analysis\n",
    "cov_matrix = np.cov(x_train.T) # the relevanat covariance matrix\n",
    "print('Covariance Matrix \\n%s', cov_matrix)\n",
    "\n",
    "#generating the eigen values and the eigen vectors\n",
    "e_vals, e_vecs = np.linalg.eig(cov_matrix)\n",
    "print('Eigenvectors \\n%s' %e_vecs)"
   ]
  },
  {
   "cell_type": "code",
   "execution_count": 3992,
   "metadata": {},
   "outputs": [
    {
     "name": "stdout",
     "output_type": "stream",
     "text": [
      "\n",
      "Eigenvalues \n",
      "[9.77663713e+00 3.33869552e+00 1.24777428e+00 1.10218942e+00\n",
      " 9.03091944e-01 6.36166185e-01 3.11966572e-01 2.39787146e-01\n",
      " 1.23902420e-01 7.69019265e-02 7.15620369e-02 6.11113643e-02\n",
      " 3.35317156e-03 3.90603167e-02 3.03961502e-02 2.73516838e-02\n",
      " 1.97310009e-02 2.07785875e-02]\n"
     ]
    }
   ],
   "source": [
    "print('\\nEigenvalues \\n%s' %e_vals)"
   ]
  },
  {
   "cell_type": "code",
   "execution_count": 3993,
   "metadata": {},
   "outputs": [
    {
     "name": "stdout",
     "output_type": "stream",
     "text": [
      "Cumulative Variance Explained [ 54.22290299  72.7398798   79.66024955  85.77318076  90.78188326\n",
      "  94.31016982  96.04038982  97.37029038  98.05747441  98.48398566\n",
      "  98.88088096  99.21981505  99.43645025  99.6050325   99.75672963\n",
      "  99.87197123  99.98140274 100.        ]\n"
     ]
    }
   ],
   "source": [
    "# \"cumulative variance explained\" analysis \n",
    "tot = sum(e_vals)\n",
    "var_exp = [( i /tot ) * 100 for i in sorted(e_vals, reverse=True)]\n",
    "cum_var_exp = np.cumsum(var_exp)\n",
    "print(\"Cumulative Variance Explained\", cum_var_exp)"
   ]
  },
  {
   "cell_type": "code",
   "execution_count": 3994,
   "metadata": {},
   "outputs": [
    {
     "data": {
      "image/png": "[encoded data removed]",
      "text/plain": [
       "<Figure size 720x360 with 1 Axes>"
      ]
     },
     "metadata": {
      "needs_background": "light"
     },
     "output_type": "display_data"
    }
   ],
   "source": [
    "# Plotting the variance expalained by the principal components and the cumulative variance explained.\n",
    "plt.figure(figsize=(10 , 5))\n",
    "plt.bar(range(1, e_vals.size + 1), var_exp, alpha = 0.5, align = 'center', label = 'Individual explained variance')\n",
    "plt.step(range(1, e_vals.size + 1), cum_var_exp, where='mid', label = 'Cumulative explained variance')\n",
    "plt.ylabel('Explained Variance Ratio')\n",
    "plt.xlabel('Principal Components')\n",
    "plt.legend(loc = 'best')\n",
    "plt.tight_layout()\n",
    "plt.show()\n",
    "\n",
    "#Inference: From below graph we can learn that ~95% data variance can be captured \n",
    "#when we take only ~ 6 variables from the original data set"
   ]
  },
  {
   "cell_type": "code",
   "execution_count": 3995,
   "metadata": {},
   "outputs": [
    {
     "name": "stdout",
     "output_type": "stream",
     "text": [
      "[[-0.27486377 -0.28862844 -0.303811   -0.2679999  -0.07367439 -0.20542201\n",
      "  -0.31012847  0.30888772 -0.30776124 -0.28208938 -0.30099055 -0.30262895\n",
      "  -0.2603852   0.03898709 -0.03292546 -0.07128107 -0.02230566 -0.07312317]\n",
      " [-0.07930426  0.12112866 -0.05894321 -0.20439674 -0.24064605 -0.1345645\n",
      "   0.07055325 -0.01228618  0.08336366  0.10374901  0.07334559  0.06469688\n",
      "   0.22066013  0.50831978  0.0465361  -0.11595374 -0.49280113 -0.50972265]\n",
      " [-0.10785641  0.10185303 -0.1073343   0.23726752  0.62170817 -0.21043234\n",
      "  -0.04337193 -0.02816896 -0.05187363  0.03258923  0.01264508 -0.03051392\n",
      "   0.16335383  0.0601597  -0.23389205 -0.61504609  0.04347226 -0.08169689]\n",
      " [ 0.15931149  0.11990208 -0.03732425 -0.08280713 -0.11229657  0.00094766\n",
      "  -0.06464904  0.07236423 -0.0552066   0.11003301 -0.09535256 -0.06273043\n",
      "   0.11911933 -0.08518099  0.82164658 -0.42007724  0.1593486   0.05812312]\n",
      " [ 0.19264492 -0.2441761  -0.0299199   0.12014141 -0.11276708 -0.70318025\n",
      "   0.16109835 -0.14705894  0.15861496 -0.36112877  0.2335739   0.18445379\n",
      "  -0.09325179  0.03793168  0.11166884  0.02778123  0.24013286 -0.08936464]\n",
      " [-0.14992896 -0.01086539 -0.01594097  0.20215211  0.57873146 -0.06666148\n",
      "  -0.02507946  0.03591544 -0.04118348 -0.0540829  -0.04702283 -0.03484595\n",
      "   0.00088395  0.13678284  0.46256489  0.55181404 -0.19834427 -0.10212097]]\n",
      "[0.54126013 0.19087598 0.06698305 0.06106829 0.04448527 0.04039124]\n"
     ]
    }
   ],
   "source": [
    "#Proceeding with 6 components\n",
    "pca_new = PCA(n_components=6)\n",
    "#Fitting PCA into train data\n",
    "pca_new.fit(x_train)\n",
    "#Fitting PCA into test data\n",
    "pca_new.fit(x_test)\n",
    "print(pca_new.components_)\n",
    "print(pca_new.explained_variance_ratio_)\n",
    "Xpca_train_new = pca_new.transform(x_train)\n",
    "Xpca_test_new = pca_new.transform(x_test)"
   ]
  },
  {
   "cell_type": "code",
   "execution_count": 3996,
   "metadata": {},
   "outputs": [
    {
     "name": "stdout",
     "output_type": "stream",
     "text": [
      "original shape:    (254, 18)\n",
      "transformed shape: (254, 6)\n"
     ]
    }
   ],
   "source": [
    "print(\"original shape:   \", x_test.shape)\n",
    "print(\"transformed shape:\", Xpca_test_new.shape)\n",
    "#Inference: From below data it is evident that dimension of the data set is reduced from 18 to 6 \n",
    "#(excluding target variable-class)"
   ]
  },
  {
   "cell_type": "code",
   "execution_count": 3997,
   "metadata": {},
   "outputs": [],
   "source": [
    "#Repeat steps 3,4 and 5 but this time, use Principal Components instead of the original data. \n",
    "#And the accuracy score should be on the same rows of test data that were used earlier."
   ]
  },
  {
   "cell_type": "code",
   "execution_count": 3998,
   "metadata": {},
   "outputs": [
    {
     "data": {
      "text/plain": [
       "SVC(C=1.0, cache_size=200, class_weight=None, coef0=0.0,\n",
       "    decision_function_shape='ovr', degree=3, gamma='auto', kernel='rbf',\n",
       "    max_iter=-1, probability=False, random_state=None, shrinking=True,\n",
       "    tol=0.001, verbose=False)"
      ]
     },
     "execution_count": 3998,
     "metadata": {},
     "output_type": "execute_result"
    }
   ],
   "source": [
    "#Applying SVM on principal components derived above i.e., 6\n",
    "clf = SVC(gamma='auto')\n",
    "clf.fit(Xpca_train_new, y_train)"
   ]
  },
  {
   "cell_type": "code",
   "execution_count": 3999,
   "metadata": {},
   "outputs": [
    {
     "name": "stdout",
     "output_type": "stream",
     "text": [
      "Before PCA score of train set:  0.9780405405405406\n",
      "Before PCA score of test set:  0.9724409448818898\n",
      "After PCA score of train set:  0.9543918918918919\n",
      "After PCA score of test set:  0.9251968503937008\n"
     ]
    }
   ],
   "source": [
    "#Compare the accuracy scores and cross validation scores of Support vector machines \n",
    "#– one trained using raw data and the other using Principal Components, and mention your findings\n",
    "\n",
    "clf = SVC(gamma='auto')\n",
    "clf.fit(x_train, y_train)\n",
    "\n",
    "print ('Before PCA score of train set: ', clf.score(x_train, y_train))\n",
    "\n",
    "print ('Before PCA score of test set: ', clf.score(x_test, y_test))\n",
    "\n",
    "clf.fit(Xpca_train_new, y_train)\n",
    "\n",
    "print ('After PCA score of train set: ', clf.score(Xpca_train_new, y_train))\n",
    "\n",
    "print ('After PCA score of test set: ', clf.score(Xpca_test_new, y_test))\n"
   ]
  },
  {
   "cell_type": "code",
   "execution_count": 3829,
   "metadata": {},
   "outputs": [],
   "source": [
    "# Conclusion:\n",
    "#With orignal data we could build a model which displays accuracy of ~98%(on train data) and ~97% (on test data)with 18 columns\n",
    "#Post PCA analysis, we could build a model which displays accuracy of ~95% (on train data) and ~92% (on test data) with 6 columns\n",
    "# So the second model seems to be cost-effective as accuracy is not dropped much where as dimension is reduced considerably\n"
   ]
  }
 ],
 "metadata": {
  "kernelspec": {
   "display_name": "Python 3",
   "language": "python",
   "name": "python3"
  },
  "language_info": {
   "codemirror_mode": {
    "name": "ipython",
    "version": 3
   },
   "file_extension": ".py",
   "mimetype": "text/x-python",
   "name": "python",
   "nbconvert_exporter": "python",
   "pygments_lexer": "ipython3",
   "version": "3.7.7"
  }
 },
 "nbformat": 4,
 "nbformat_minor": 2
}
