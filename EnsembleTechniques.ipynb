{
 "cells": [
  {
   "cell_type": "code",
   "execution_count": 1912,
   "metadata": {},
   "outputs": [],
   "source": [
    "#Importing all required libraries\n",
    "import pandas as pd\n",
    "import numpy as np\n",
    "from sklearn import metrics\n",
    "import matplotlib.pyplot as plt\n",
    "%matplotlib inline \n",
    "import seaborn as sns\n",
    "from sklearn.model_selection import train_test_split\n",
    "from sklearn.tree import DecisionTreeClassifier\n",
    "from sklearn.feature_extraction.text import CountVectorizer  #DT does not take strings as input for the model fit step....\n",
    "from IPython.display import Image  \n",
    "from sklearn import tree\n",
    "from os import system\n",
    "from sklearn.metrics import accuracy_score,f1_score,recall_score,precision_score, confusion_matrix"
   ]
  },
  {
   "cell_type": "code",
   "execution_count": 1913,
   "metadata": {},
   "outputs": [
    {
     "name": "stdout",
     "output_type": "stream",
     "text": [
      "Index(['age', 'job', 'marital', 'education', 'default', 'balance', 'housing',\n",
      "       'loan', 'contact', 'day', 'month', 'duration', 'campaign', 'pdays',\n",
      "       'previous', 'poutcome', 'Target'],\n",
      "      dtype='object')\n",
      "(45211, 17)\n"
     ]
    },
    {
     "data": {
      "text/html": [
       "<div>\n",
       "<style scoped>\n",
       "    .dataframe tbody tr th:only-of-type {\n",
       "        vertical-align: middle;\n",
       "    }\n",
       "\n",
       "    .dataframe tbody tr th {\n",
       "        vertical-align: top;\n",
       "    }\n",
       "\n",
       "    .dataframe thead th {\n",
       "        text-align: right;\n",
       "    }\n",
       "</style>\n",
       "<table border=\"1\" class=\"dataframe\">\n",
       "  <thead>\n",
       "    <tr style=\"text-align: right;\">\n",
       "      <th></th>\n",
       "      <th>age</th>\n",
       "      <th>job</th>\n",
       "      <th>marital</th>\n",
       "      <th>education</th>\n",
       "      <th>default</th>\n",
       "      <th>balance</th>\n",
       "      <th>housing</th>\n",
       "      <th>loan</th>\n",
       "      <th>contact</th>\n",
       "      <th>day</th>\n",
       "      <th>month</th>\n",
       "      <th>duration</th>\n",
       "      <th>campaign</th>\n",
       "      <th>pdays</th>\n",
       "      <th>previous</th>\n",
       "      <th>poutcome</th>\n",
       "      <th>Target</th>\n",
       "    </tr>\n",
       "  </thead>\n",
       "  <tbody>\n",
       "    <tr>\n",
       "      <td>0</td>\n",
       "      <td>58</td>\n",
       "      <td>management</td>\n",
       "      <td>married</td>\n",
       "      <td>tertiary</td>\n",
       "      <td>no</td>\n",
       "      <td>2143</td>\n",
       "      <td>yes</td>\n",
       "      <td>no</td>\n",
       "      <td>unknown</td>\n",
       "      <td>5</td>\n",
       "      <td>may</td>\n",
       "      <td>261</td>\n",
       "      <td>1</td>\n",
       "      <td>-1</td>\n",
       "      <td>0</td>\n",
       "      <td>unknown</td>\n",
       "      <td>no</td>\n",
       "    </tr>\n",
       "    <tr>\n",
       "      <td>1</td>\n",
       "      <td>44</td>\n",
       "      <td>technician</td>\n",
       "      <td>single</td>\n",
       "      <td>secondary</td>\n",
       "      <td>no</td>\n",
       "      <td>29</td>\n",
       "      <td>yes</td>\n",
       "      <td>no</td>\n",
       "      <td>unknown</td>\n",
       "      <td>5</td>\n",
       "      <td>may</td>\n",
       "      <td>151</td>\n",
       "      <td>1</td>\n",
       "      <td>-1</td>\n",
       "      <td>0</td>\n",
       "      <td>unknown</td>\n",
       "      <td>no</td>\n",
       "    </tr>\n",
       "    <tr>\n",
       "      <td>2</td>\n",
       "      <td>33</td>\n",
       "      <td>entrepreneur</td>\n",
       "      <td>married</td>\n",
       "      <td>secondary</td>\n",
       "      <td>no</td>\n",
       "      <td>2</td>\n",
       "      <td>yes</td>\n",
       "      <td>yes</td>\n",
       "      <td>unknown</td>\n",
       "      <td>5</td>\n",
       "      <td>may</td>\n",
       "      <td>76</td>\n",
       "      <td>1</td>\n",
       "      <td>-1</td>\n",
       "      <td>0</td>\n",
       "      <td>unknown</td>\n",
       "      <td>no</td>\n",
       "    </tr>\n",
       "    <tr>\n",
       "      <td>3</td>\n",
       "      <td>47</td>\n",
       "      <td>blue-collar</td>\n",
       "      <td>married</td>\n",
       "      <td>unknown</td>\n",
       "      <td>no</td>\n",
       "      <td>1506</td>\n",
       "      <td>yes</td>\n",
       "      <td>no</td>\n",
       "      <td>unknown</td>\n",
       "      <td>5</td>\n",
       "      <td>may</td>\n",
       "      <td>92</td>\n",
       "      <td>1</td>\n",
       "      <td>-1</td>\n",
       "      <td>0</td>\n",
       "      <td>unknown</td>\n",
       "      <td>no</td>\n",
       "    </tr>\n",
       "    <tr>\n",
       "      <td>4</td>\n",
       "      <td>33</td>\n",
       "      <td>unknown</td>\n",
       "      <td>single</td>\n",
       "      <td>unknown</td>\n",
       "      <td>no</td>\n",
       "      <td>1</td>\n",
       "      <td>no</td>\n",
       "      <td>no</td>\n",
       "      <td>unknown</td>\n",
       "      <td>5</td>\n",
       "      <td>may</td>\n",
       "      <td>198</td>\n",
       "      <td>1</td>\n",
       "      <td>-1</td>\n",
       "      <td>0</td>\n",
       "      <td>unknown</td>\n",
       "      <td>no</td>\n",
       "    </tr>\n",
       "    <tr>\n",
       "      <td>5</td>\n",
       "      <td>35</td>\n",
       "      <td>management</td>\n",
       "      <td>married</td>\n",
       "      <td>tertiary</td>\n",
       "      <td>no</td>\n",
       "      <td>231</td>\n",
       "      <td>yes</td>\n",
       "      <td>no</td>\n",
       "      <td>unknown</td>\n",
       "      <td>5</td>\n",
       "      <td>may</td>\n",
       "      <td>139</td>\n",
       "      <td>1</td>\n",
       "      <td>-1</td>\n",
       "      <td>0</td>\n",
       "      <td>unknown</td>\n",
       "      <td>no</td>\n",
       "    </tr>\n",
       "    <tr>\n",
       "      <td>6</td>\n",
       "      <td>28</td>\n",
       "      <td>management</td>\n",
       "      <td>single</td>\n",
       "      <td>tertiary</td>\n",
       "      <td>no</td>\n",
       "      <td>447</td>\n",
       "      <td>yes</td>\n",
       "      <td>yes</td>\n",
       "      <td>unknown</td>\n",
       "      <td>5</td>\n",
       "      <td>may</td>\n",
       "      <td>217</td>\n",
       "      <td>1</td>\n",
       "      <td>-1</td>\n",
       "      <td>0</td>\n",
       "      <td>unknown</td>\n",
       "      <td>no</td>\n",
       "    </tr>\n",
       "    <tr>\n",
       "      <td>7</td>\n",
       "      <td>42</td>\n",
       "      <td>entrepreneur</td>\n",
       "      <td>divorced</td>\n",
       "      <td>tertiary</td>\n",
       "      <td>yes</td>\n",
       "      <td>2</td>\n",
       "      <td>yes</td>\n",
       "      <td>no</td>\n",
       "      <td>unknown</td>\n",
       "      <td>5</td>\n",
       "      <td>may</td>\n",
       "      <td>380</td>\n",
       "      <td>1</td>\n",
       "      <td>-1</td>\n",
       "      <td>0</td>\n",
       "      <td>unknown</td>\n",
       "      <td>no</td>\n",
       "    </tr>\n",
       "    <tr>\n",
       "      <td>8</td>\n",
       "      <td>58</td>\n",
       "      <td>retired</td>\n",
       "      <td>married</td>\n",
       "      <td>primary</td>\n",
       "      <td>no</td>\n",
       "      <td>121</td>\n",
       "      <td>yes</td>\n",
       "      <td>no</td>\n",
       "      <td>unknown</td>\n",
       "      <td>5</td>\n",
       "      <td>may</td>\n",
       "      <td>50</td>\n",
       "      <td>1</td>\n",
       "      <td>-1</td>\n",
       "      <td>0</td>\n",
       "      <td>unknown</td>\n",
       "      <td>no</td>\n",
       "    </tr>\n",
       "    <tr>\n",
       "      <td>9</td>\n",
       "      <td>43</td>\n",
       "      <td>technician</td>\n",
       "      <td>single</td>\n",
       "      <td>secondary</td>\n",
       "      <td>no</td>\n",
       "      <td>593</td>\n",
       "      <td>yes</td>\n",
       "      <td>no</td>\n",
       "      <td>unknown</td>\n",
       "      <td>5</td>\n",
       "      <td>may</td>\n",
       "      <td>55</td>\n",
       "      <td>1</td>\n",
       "      <td>-1</td>\n",
       "      <td>0</td>\n",
       "      <td>unknown</td>\n",
       "      <td>no</td>\n",
       "    </tr>\n",
       "  </tbody>\n",
       "</table>\n",
       "</div>"
      ],
      "text/plain": [
       "   age           job   marital  education default  balance housing loan  \\\n",
       "0   58    management   married   tertiary      no     2143     yes   no   \n",
       "1   44    technician    single  secondary      no       29     yes   no   \n",
       "2   33  entrepreneur   married  secondary      no        2     yes  yes   \n",
       "3   47   blue-collar   married    unknown      no     1506     yes   no   \n",
       "4   33       unknown    single    unknown      no        1      no   no   \n",
       "5   35    management   married   tertiary      no      231     yes   no   \n",
       "6   28    management    single   tertiary      no      447     yes  yes   \n",
       "7   42  entrepreneur  divorced   tertiary     yes        2     yes   no   \n",
       "8   58       retired   married    primary      no      121     yes   no   \n",
       "9   43    technician    single  secondary      no      593     yes   no   \n",
       "\n",
       "   contact  day month  duration  campaign  pdays  previous poutcome Target  \n",
       "0  unknown    5   may       261         1     -1         0  unknown     no  \n",
       "1  unknown    5   may       151         1     -1         0  unknown     no  \n",
       "2  unknown    5   may        76         1     -1         0  unknown     no  \n",
       "3  unknown    5   may        92         1     -1         0  unknown     no  \n",
       "4  unknown    5   may       198         1     -1         0  unknown     no  \n",
       "5  unknown    5   may       139         1     -1         0  unknown     no  \n",
       "6  unknown    5   may       217         1     -1         0  unknown     no  \n",
       "7  unknown    5   may       380         1     -1         0  unknown     no  \n",
       "8  unknown    5   may        50         1     -1         0  unknown     no  \n",
       "9  unknown    5   may        55         1     -1         0  unknown     no  "
      ]
     },
     "execution_count": 1913,
     "metadata": {},
     "output_type": "execute_result"
    }
   ],
   "source": [
    "#Read the data as a data frame using pandas.\n",
    "BankRaw = pd.read_csv('bank-full.csv')\n",
    "print(BankRaw.columns)\n",
    "#Shape of the data\n",
    "print(BankRaw.shape)\n",
    "BankRaw.head(10)\n",
    "#Inference: The data set has 45211 data records spread across 17 column types"
   ]
  },
  {
   "cell_type": "code",
   "execution_count": 1914,
   "metadata": {},
   "outputs": [
    {
     "name": "stdout",
     "output_type": "stream",
     "text": [
      "<class 'pandas.core.frame.DataFrame'>\n",
      "RangeIndex: 45211 entries, 0 to 45210\n",
      "Data columns (total 17 columns):\n",
      "age          45211 non-null int64\n",
      "job          45211 non-null object\n",
      "marital      45211 non-null object\n",
      "education    45211 non-null object\n",
      "default      45211 non-null object\n",
      "balance      45211 non-null int64\n",
      "housing      45211 non-null object\n",
      "loan         45211 non-null object\n",
      "contact      45211 non-null object\n",
      "day          45211 non-null int64\n",
      "month        45211 non-null object\n",
      "duration     45211 non-null int64\n",
      "campaign     45211 non-null int64\n",
      "pdays        45211 non-null int64\n",
      "previous     45211 non-null int64\n",
      "poutcome     45211 non-null object\n",
      "Target       45211 non-null object\n",
      "dtypes: int64(7), object(10)\n",
      "memory usage: 5.9+ MB\n"
     ]
    },
    {
     "data": {
      "text/plain": [
       "age           int64\n",
       "job          object\n",
       "marital      object\n",
       "education    object\n",
       "default      object\n",
       "balance       int64\n",
       "housing      object\n",
       "loan         object\n",
       "contact      object\n",
       "day           int64\n",
       "month        object\n",
       "duration      int64\n",
       "campaign      int64\n",
       "pdays         int64\n",
       "previous      int64\n",
       "poutcome     object\n",
       "Target       object\n",
       "dtype: object"
      ]
     },
     "execution_count": 1914,
     "metadata": {},
     "output_type": "execute_result"
    }
   ],
   "source": [
    "# Checking for Data type of each attribute\n",
    "#If attribute types are not correct appropriate actions needs to be taken.\n",
    "BankRaw.info()\n",
    "BankRaw.dtypes\n",
    "#Inference: \n",
    "# job,marital,education,default,housing,loan,contact,month,poutcome,target are categorical variables of data type 'object' \n",
    "#and hence needs to be represented in binary/integer format.We will take the necessary action needed for these categorical variables in subsequent steps\n",
    "#age, balance, day,duration,campain,pdays,previous are continuous variables holding intiger values"
   ]
  },
  {
   "cell_type": "code",
   "execution_count": 1915,
   "metadata": {},
   "outputs": [
    {
     "data": {
      "text/html": [
       "<div>\n",
       "<style scoped>\n",
       "    .dataframe tbody tr th:only-of-type {\n",
       "        vertical-align: middle;\n",
       "    }\n",
       "\n",
       "    .dataframe tbody tr th {\n",
       "        vertical-align: top;\n",
       "    }\n",
       "\n",
       "    .dataframe thead th {\n",
       "        text-align: right;\n",
       "    }\n",
       "</style>\n",
       "<table border=\"1\" class=\"dataframe\">\n",
       "  <thead>\n",
       "    <tr style=\"text-align: right;\">\n",
       "      <th></th>\n",
       "      <th>count</th>\n",
       "      <th>mean</th>\n",
       "      <th>std</th>\n",
       "      <th>min</th>\n",
       "      <th>25%</th>\n",
       "      <th>50%</th>\n",
       "      <th>75%</th>\n",
       "      <th>max</th>\n",
       "    </tr>\n",
       "  </thead>\n",
       "  <tbody>\n",
       "    <tr>\n",
       "      <td>age</td>\n",
       "      <td>45211.0</td>\n",
       "      <td>40.936210</td>\n",
       "      <td>10.618762</td>\n",
       "      <td>18.0</td>\n",
       "      <td>33.0</td>\n",
       "      <td>39.0</td>\n",
       "      <td>48.0</td>\n",
       "      <td>95.0</td>\n",
       "    </tr>\n",
       "    <tr>\n",
       "      <td>balance</td>\n",
       "      <td>45211.0</td>\n",
       "      <td>1362.272058</td>\n",
       "      <td>3044.765829</td>\n",
       "      <td>-8019.0</td>\n",
       "      <td>72.0</td>\n",
       "      <td>448.0</td>\n",
       "      <td>1428.0</td>\n",
       "      <td>102127.0</td>\n",
       "    </tr>\n",
       "    <tr>\n",
       "      <td>day</td>\n",
       "      <td>45211.0</td>\n",
       "      <td>15.806419</td>\n",
       "      <td>8.322476</td>\n",
       "      <td>1.0</td>\n",
       "      <td>8.0</td>\n",
       "      <td>16.0</td>\n",
       "      <td>21.0</td>\n",
       "      <td>31.0</td>\n",
       "    </tr>\n",
       "    <tr>\n",
       "      <td>duration</td>\n",
       "      <td>45211.0</td>\n",
       "      <td>258.163080</td>\n",
       "      <td>257.527812</td>\n",
       "      <td>0.0</td>\n",
       "      <td>103.0</td>\n",
       "      <td>180.0</td>\n",
       "      <td>319.0</td>\n",
       "      <td>4918.0</td>\n",
       "    </tr>\n",
       "    <tr>\n",
       "      <td>campaign</td>\n",
       "      <td>45211.0</td>\n",
       "      <td>2.763841</td>\n",
       "      <td>3.098021</td>\n",
       "      <td>1.0</td>\n",
       "      <td>1.0</td>\n",
       "      <td>2.0</td>\n",
       "      <td>3.0</td>\n",
       "      <td>63.0</td>\n",
       "    </tr>\n",
       "    <tr>\n",
       "      <td>pdays</td>\n",
       "      <td>45211.0</td>\n",
       "      <td>40.197828</td>\n",
       "      <td>100.128746</td>\n",
       "      <td>-1.0</td>\n",
       "      <td>-1.0</td>\n",
       "      <td>-1.0</td>\n",
       "      <td>-1.0</td>\n",
       "      <td>871.0</td>\n",
       "    </tr>\n",
       "    <tr>\n",
       "      <td>previous</td>\n",
       "      <td>45211.0</td>\n",
       "      <td>0.580323</td>\n",
       "      <td>2.303441</td>\n",
       "      <td>0.0</td>\n",
       "      <td>0.0</td>\n",
       "      <td>0.0</td>\n",
       "      <td>0.0</td>\n",
       "      <td>275.0</td>\n",
       "    </tr>\n",
       "  </tbody>\n",
       "</table>\n",
       "</div>"
      ],
      "text/plain": [
       "            count         mean          std     min    25%    50%     75%  \\\n",
       "age       45211.0    40.936210    10.618762    18.0   33.0   39.0    48.0   \n",
       "balance   45211.0  1362.272058  3044.765829 -8019.0   72.0  448.0  1428.0   \n",
       "day       45211.0    15.806419     8.322476     1.0    8.0   16.0    21.0   \n",
       "duration  45211.0   258.163080   257.527812     0.0  103.0  180.0   319.0   \n",
       "campaign  45211.0     2.763841     3.098021     1.0    1.0    2.0     3.0   \n",
       "pdays     45211.0    40.197828   100.128746    -1.0   -1.0   -1.0    -1.0   \n",
       "previous  45211.0     0.580323     2.303441     0.0    0.0    0.0     0.0   \n",
       "\n",
       "               max  \n",
       "age           95.0  \n",
       "balance   102127.0  \n",
       "day           31.0  \n",
       "duration    4918.0  \n",
       "campaign      63.0  \n",
       "pdays        871.0  \n",
       "previous     275.0  "
      ]
     },
     "execution_count": 1915,
     "metadata": {},
     "output_type": "execute_result"
    }
   ],
   "source": [
    "BankRaw.describe().transpose()\n",
    "#Inference: All numeric columns are described in below table. I could make below observations:\n",
    "#1.\"balance\" has -ve values, which ideally means customer owns loan from bank. This needs further analysis\n",
    "#2. As there is huge difference between 75% and max w.r.t \"campaign\" column, I could sense presence of outliers here. This needs further analysis\n",
    "#3.\"pdays\" column displays -ve value which cannot be the case in real scenario. Also 75% and max indicates presence of outliers.\n",
    "#This needs further analysis as well.\n",
    "#4. difference between 75% and max is huge w.r.t \"previous\" column, could anticipate outliers here. This needs further analysis"
   ]
  },
  {
   "cell_type": "code",
   "execution_count": 1916,
   "metadata": {},
   "outputs": [
    {
     "data": {
      "text/plain": [
       "(False, False, age          0\n",
       " job          0\n",
       " marital      0\n",
       " education    0\n",
       " default      0\n",
       " balance      0\n",
       " housing      0\n",
       " loan         0\n",
       " contact      0\n",
       " day          0\n",
       " month        0\n",
       " duration     0\n",
       " campaign     0\n",
       " pdays        0\n",
       " previous     0\n",
       " poutcome     0\n",
       " Target       0\n",
       " dtype: int64)"
      ]
     },
     "execution_count": 1916,
     "metadata": {},
     "output_type": "execute_result"
    }
   ],
   "source": [
    "# Checking the presence of missing values.\n",
    "BankRaw.isnull().values.any(),BankRaw.isna().values.any(),BankRaw.isna().sum()\n",
    "# Below data indicates that there are no null and NAN values. All values are present."
   ]
  },
  {
   "cell_type": "code",
   "execution_count": 1917,
   "metadata": {},
   "outputs": [
    {
     "data": {
      "text/plain": [
       "<matplotlib.axes._subplots.AxesSubplot at 0x1bb52e3ad0>"
      ]
     },
     "execution_count": 1917,
     "metadata": {},
     "output_type": "execute_result"
    },
    {
     "data": {
      "image/png": "[encoded data removed]",
      "text/plain": [
       "<Figure size 432x288 with 1 Axes>"
      ]
     },
     "metadata": {
      "needs_background": "light"
     },
     "output_type": "display_data"
    }
   ],
   "source": [
    "#Let's reconfirm the understanding with heatmap\n",
    "sns.heatmap(BankRaw.isnull(),yticklabels=False,cbar=False,cmap='viridis')\n",
    "#So based on below outcome and previous analysis, we can conclude that there is no null or NAN values present in the data set."
   ]
  },
  {
   "cell_type": "code",
   "execution_count": 1918,
   "metadata": {},
   "outputs": [],
   "source": [
    "#Plots and checking for class imbalance in below steps and printing insights\n",
    "# We will also check for the presence of outliers based on the visualization and simultaneously print the \n",
    "#5 point summary for each variable"
   ]
  },
  {
   "cell_type": "code",
   "execution_count": 1919,
   "metadata": {},
   "outputs": [
    {
     "data": {
      "text/plain": [
       "<matplotlib.axes._subplots.AxesSubplot at 0x1b4fd39610>"
      ]
     },
     "execution_count": 1919,
     "metadata": {},
     "output_type": "execute_result"
    },
    {
     "data": {
      "image/png": "[encoded data removed]",
      "text/plain": [
       "<Figure size 432x288 with 1 Axes>"
      ]
     },
     "metadata": {
      "needs_background": "light"
     },
     "output_type": "display_data"
    }
   ],
   "source": [
    "#Analyzing the distribution of independent variables one by one below. \n",
    "#Let's analyze numeric variables first\n",
    "sns.distplot(BankRaw['age'], rug=True)\n",
    "#Inference: Age has multiple modes and it is slightly right skewed which indicates outliers. \n",
    "#Data has heavy representation of customers with age between 20-60 years and less spread across other age groups"
   ]
  },
  {
   "cell_type": "code",
   "execution_count": 1920,
   "metadata": {},
   "outputs": [
    {
     "data": {
      "text/plain": [
       "(39.0, count    45211.000000\n",
       " mean        40.936210\n",
       " std         10.618762\n",
       " min         18.000000\n",
       " 25%         33.000000\n",
       " 50%         39.000000\n",
       " 75%         48.000000\n",
       " max         95.000000\n",
       " Name: age, dtype: float64)"
      ]
     },
     "execution_count": 1920,
     "metadata": {},
     "output_type": "execute_result"
    }
   ],
   "source": [
    "BankRaw.age.median(),BankRaw.age.describe()\n",
    "#Mean and Median for age are almost same. So we can summarize as below:\n",
    "#5 point summary: \n",
    "#Based on below result five point summary would look as below:(Considered Q1 is 25% and Q3 is 75%)\n",
    "#age: min-18, Q1-33,median-39, Q3-48, max-95"
   ]
  },
  {
   "cell_type": "code",
   "execution_count": 1921,
   "metadata": {},
   "outputs": [
    {
     "data": {
      "text/plain": [
       "<matplotlib.axes._subplots.AxesSubplot at 0x1bbab04750>"
      ]
     },
     "execution_count": 1921,
     "metadata": {},
     "output_type": "execute_result"
    },
    {
     "data": {
      "image/png": "[encoded data removed]",
      "text/plain": [
       "<Figure size 432x288 with 1 Axes>"
      ]
     },
     "metadata": {
      "needs_background": "light"
     },
     "output_type": "display_data"
    }
   ],
   "source": [
    "sns.distplot(BankRaw['balance'], rug=True)\n",
    "#Inference: balance right skewed which indicates outliers. Also it has negetive values. This needs further action\n",
    "#Most of the data is spread across the customers who has balance within 5000 (euros)"
   ]
  },
  {
   "cell_type": "code",
   "execution_count": 1922,
   "metadata": {},
   "outputs": [
    {
     "data": {
      "text/plain": [
       "(448.0, count     45211.000000\n",
       " mean       1362.272058\n",
       " std        3044.765829\n",
       " min       -8019.000000\n",
       " 25%          72.000000\n",
       " 50%         448.000000\n",
       " 75%        1428.000000\n",
       " max      102127.000000\n",
       " Name: balance, dtype: float64)"
      ]
     },
     "execution_count": 1922,
     "metadata": {},
     "output_type": "execute_result"
    }
   ],
   "source": [
    "#5 point summary: \n",
    "BankRaw.balance.median(),BankRaw.balance.describe()\n",
    "#Based on below result five point summary would look as below:(Considered Q1 is 25% and Q3 is 75%)\n",
    "#balance: min -8019.00, Q1-72,median-448, Q3-1428, max-102127\n",
    "# Balance >5000 can be considered as outliers in the above graph which will be replaced in later steps"
   ]
  },
  {
   "cell_type": "code",
   "execution_count": 1923,
   "metadata": {},
   "outputs": [
    {
     "data": {
      "text/plain": [
       "<matplotlib.axes._subplots.AxesSubplot at 0x1bbe6e6cd0>"
      ]
     },
     "execution_count": 1923,
     "metadata": {},
     "output_type": "execute_result"
    },
    {
     "data": {
      "image/png": "[encoded data removed]",
      "text/plain": [
       "<Figure size 432x288 with 1 Axes>"
      ]
     },
     "metadata": {
      "needs_background": "light"
     },
     "output_type": "display_data"
    }
   ],
   "source": [
    "sns.distplot(BankRaw['day'], rug=True)\n",
    "#Inference: day has multiple modes and data is somewhat symmetrically distributed across all days of month\n",
    "#No outliers present"
   ]
  },
  {
   "cell_type": "code",
   "execution_count": 1924,
   "metadata": {},
   "outputs": [
    {
     "data": {
      "text/plain": [
       "(16.0, count    45211.000000\n",
       " mean        15.806419\n",
       " std          8.322476\n",
       " min          1.000000\n",
       " 25%          8.000000\n",
       " 50%         16.000000\n",
       " 75%         21.000000\n",
       " max         31.000000\n",
       " Name: day, dtype: float64)"
      ]
     },
     "execution_count": 1924,
     "metadata": {},
     "output_type": "execute_result"
    }
   ],
   "source": [
    "BankRaw.day.median(),BankRaw.day.describe()\n",
    "#5 point summary: \n",
    "#Based on below result five point summary would look as below:(Considered Q1 is 25% and Q3 is 75%)\n",
    "#balance: min 1, Q1-8,median-16, Q3-21, max-31.\n",
    "#No outliers or negetive values are found hence no further action is needed on this variable"
   ]
  },
  {
   "cell_type": "code",
   "execution_count": 1925,
   "metadata": {},
   "outputs": [
    {
     "data": {
      "text/plain": [
       "<matplotlib.axes._subplots.AxesSubplot at 0x1bbe6ecbd0>"
      ]
     },
     "execution_count": 1925,
     "metadata": {},
     "output_type": "execute_result"
    },
    {
     "data": {
      "image/png": "[encoded data removed]",
      "text/plain": [
       "<Figure size 432x288 with 1 Axes>"
      ]
     },
     "metadata": {
      "needs_background": "light"
     },
     "output_type": "display_data"
    }
   ],
   "source": [
    "sns.distplot(BankRaw['duration'], rug=True)\n",
    "#Inference: duration is highly right skewed and shows the presence of outliers. \n",
    "#Data is mostly spread across duration of between 0-800(secs)"
   ]
  },
  {
   "cell_type": "code",
   "execution_count": 1926,
   "metadata": {},
   "outputs": [
    {
     "data": {
      "text/plain": [
       "(180.0, count    45211.000000\n",
       " mean       258.163080\n",
       " std        257.527812\n",
       " min          0.000000\n",
       " 25%        103.000000\n",
       " 50%        180.000000\n",
       " 75%        319.000000\n",
       " max       4918.000000\n",
       " Name: duration, dtype: float64)"
      ]
     },
     "execution_count": 1926,
     "metadata": {},
     "output_type": "execute_result"
    }
   ],
   "source": [
    "#5 point summary: \n",
    "BankRaw.duration.median(),BankRaw.duration.describe()\n",
    "#Based on below result five point summary would look as below:(Considered Q1 is 25% and Q3 is 75%)\n",
    "#duration: min 0, Q1-103,median-180, Q3-319, max-4918.\n",
    "#Shows the presence of outliers as max value is much more greater than 75%. Needs further analysis"
   ]
  },
  {
   "cell_type": "code",
   "execution_count": 1927,
   "metadata": {},
   "outputs": [
    {
     "data": {
      "text/plain": [
       "<matplotlib.axes._subplots.AxesSubplot at 0x1bc1e7f950>"
      ]
     },
     "execution_count": 1927,
     "metadata": {},
     "output_type": "execute_result"
    },
    {
     "data": {
      "image/png": "[encoded data removed]",
      "text/plain": [
       "<Figure size 432x288 with 1 Axes>"
      ]
     },
     "metadata": {
      "needs_background": "light"
     },
     "output_type": "display_data"
    }
   ],
   "source": [
    "sns.distplot(BankRaw['campaign'], rug=True)\n",
    "#Inference: campaign is highly right skewed and shows the presence of outliers. \n",
    "#Data is mostly spread across campain ranging between 0-8"
   ]
  },
  {
   "cell_type": "code",
   "execution_count": 1928,
   "metadata": {},
   "outputs": [
    {
     "data": {
      "text/plain": [
       "(2.0, count    45211.000000\n",
       " mean         2.763841\n",
       " std          3.098021\n",
       " min          1.000000\n",
       " 25%          1.000000\n",
       " 50%          2.000000\n",
       " 75%          3.000000\n",
       " max         63.000000\n",
       " Name: campaign, dtype: float64)"
      ]
     },
     "execution_count": 1928,
     "metadata": {},
     "output_type": "execute_result"
    }
   ],
   "source": [
    "#5 point summary: \n",
    "BankRaw.campaign.median(),BankRaw.campaign.describe()\n",
    "#Based on below result five point summary would look as below:(Considered Q1 is 25% and Q3 is 75%)\n",
    "#campaign: min 1, Q1-1,median-2, Q3-3, max-63.\n",
    "#Shows the presence of outliers as max value is much more greater than 75%. Needs further analysis"
   ]
  },
  {
   "cell_type": "code",
   "execution_count": 1929,
   "metadata": {},
   "outputs": [
    {
     "data": {
      "text/plain": [
       "<matplotlib.axes._subplots.AxesSubplot at 0x1bc1e7fc10>"
      ]
     },
     "execution_count": 1929,
     "metadata": {},
     "output_type": "execute_result"
    },
    {
     "data": {
      "image/png": "[encoded data removed]",
      "text/plain": [
       "<Figure size 432x288 with 1 Axes>"
      ]
     },
     "metadata": {
      "needs_background": "light"
     },
     "output_type": "display_data"
    }
   ],
   "source": [
    "sns.distplot(BankRaw['pdays'])\n",
    "#Inference: pdays is highly right skewed and shows the presence of outliers.\n",
    "#Data is heavily concentrated around 0 value of pdays. Needs further analysis"
   ]
  },
  {
   "cell_type": "code",
   "execution_count": 1930,
   "metadata": {},
   "outputs": [
    {
     "data": {
      "text/plain": [
       "(-1.0, count    45211.000000\n",
       " mean        40.197828\n",
       " std        100.128746\n",
       " min         -1.000000\n",
       " 25%         -1.000000\n",
       " 50%         -1.000000\n",
       " 75%         -1.000000\n",
       " max        871.000000\n",
       " Name: pdays, dtype: float64)"
      ]
     },
     "execution_count": 1930,
     "metadata": {},
     "output_type": "execute_result"
    }
   ],
   "source": [
    "#5 point summary: \n",
    "BankRaw.pdays.median(),BankRaw.pdays.describe()\n",
    "#Based on below result five point summary would look as below:(Considered Q1 is 25% and Q3 is 75%)\n",
    "#pdays: min -1, Q1 -1,median -1, Q3 -1, max 871.\n",
    "#Shows the presence of extreme outliers. \n",
    "#Also this variable indicates that days completed after the previous contact has been made with the customer, \n",
    "#the  presence of -ve values does not make any sense. \n",
    "#In other way I feel we can assume that -ve value indicates that no contact has been made in previous campaign\n",
    "#This assumption will contradict the note provided in assignment: '999 means client was not previously contacted'.\n",
    "#But value 999 does not exist in the data set against this variable which means that we can proceed with our assumption\n",
    "# \"\"-ve value indicates that no contact has been made in previous campaign\"\n",
    "#Later we will analyze the relatioship of this column with another column 'previous' \n",
    "#which indicates if customer has been contacted previously or not"
   ]
  },
  {
   "cell_type": "code",
   "execution_count": 1931,
   "metadata": {},
   "outputs": [
    {
     "data": {
      "text/plain": [
       "<matplotlib.axes._subplots.AxesSubplot at 0x1bc3e80590>"
      ]
     },
     "execution_count": 1931,
     "metadata": {},
     "output_type": "execute_result"
    },
    {
     "data": {
      "image/png": "[encoded data removed]",
      "text/plain": [
       "<Figure size 432x288 with 1 Axes>"
      ]
     },
     "metadata": {
      "needs_background": "light"
     },
     "output_type": "display_data"
    }
   ],
   "source": [
    "sns.distplot(BankRaw['previous'])\n",
    "#Inference: previous is right skewed and shows the presence of outliers. \n",
    "#Data is heavily concentrated around 0 value of previous"
   ]
  },
  {
   "cell_type": "code",
   "execution_count": 1932,
   "metadata": {},
   "outputs": [
    {
     "data": {
      "text/plain": [
       "(0.0, count    45211.000000\n",
       " mean         0.580323\n",
       " std          2.303441\n",
       " min          0.000000\n",
       " 25%          0.000000\n",
       " 50%          0.000000\n",
       " 75%          0.000000\n",
       " max        275.000000\n",
       " Name: previous, dtype: float64)"
      ]
     },
     "execution_count": 1932,
     "metadata": {},
     "output_type": "execute_result"
    }
   ],
   "source": [
    "#5 point summary: \n",
    "BankRaw.previous.median(),BankRaw.previous.describe()\n",
    "#Based on below result five point summary would look as below:(Considered Q1 is 25% and Q3 is 75%)\n",
    "#previous: min 0, Q1 0,median 0, Q3 0, max 275.\n",
    "#Shows the presence of outliers as max value is much more greater than 75%. Needs further analysis"
   ]
  },
  {
   "cell_type": "code",
   "execution_count": 1933,
   "metadata": {},
   "outputs": [],
   "source": [
    "#5-point summary of numeric variables are complated above\n",
    "#Analyzing categorical variables one by one below to check the distribution pattern"
   ]
  },
  {
   "cell_type": "code",
   "execution_count": 1934,
   "metadata": {},
   "outputs": [
    {
     "data": {
      "text/plain": [
       "[Text(0, 0, 'management'),\n",
       " Text(0, 0, 'technician'),\n",
       " Text(0, 0, 'entrepreneur'),\n",
       " Text(0, 0, 'blue-collar'),\n",
       " Text(0, 0, 'unknown'),\n",
       " Text(0, 0, 'retired'),\n",
       " Text(0, 0, 'admin.'),\n",
       " Text(0, 0, 'services'),\n",
       " Text(0, 0, 'self-employed'),\n",
       " Text(0, 0, 'unemployed'),\n",
       " Text(0, 0, 'housemaid'),\n",
       " Text(0, 0, 'student')]"
      ]
     },
     "execution_count": 1934,
     "metadata": {},
     "output_type": "execute_result"
    },
    {
     "data": {
      "image/png": "[encoded data removed]",
      "text/plain": [
       "<Figure size 432x288 with 1 Axes>"
      ]
     },
     "metadata": {
      "needs_background": "light"
     },
     "output_type": "display_data"
    }
   ],
   "source": [
    "chart=sns.countplot(BankRaw['job'])\n",
    "chart.set_xticklabels(chart.get_xticklabels(), rotation=90, horizontalalignment='right')\n",
    "# Inference: Data is heavily distributed across job types-management,technician,blue-collar, \n",
    "# moderately distributed across job types-admin,services and least distributed across job types- entrepreneur,unknown,\n",
    "#retired,self-employed,unemployed,housemaid,student.\n",
    "# Job has 'unknown' as one of category. \n",
    "#As this is very negligible when compared to other categories, we will retain it as it is"
   ]
  },
  {
   "cell_type": "code",
   "execution_count": 1935,
   "metadata": {},
   "outputs": [
    {
     "data": {
      "text/plain": [
       "<matplotlib.axes._subplots.AxesSubplot at 0x1bc4118090>"
      ]
     },
     "execution_count": 1935,
     "metadata": {},
     "output_type": "execute_result"
    },
    {
     "data": {
      "image/png": "[encoded data removed]",
      "text/plain": [
       "<Figure size 432x288 with 1 Axes>"
      ]
     },
     "metadata": {
      "needs_background": "light"
     },
     "output_type": "display_data"
    }
   ],
   "source": [
    "sns.countplot(BankRaw['marital'])\n",
    "#Inference: Data has more representation of married customers, moderate distribution of single customers and \n",
    "#least representation of divorced customers"
   ]
  },
  {
   "cell_type": "code",
   "execution_count": 1936,
   "metadata": {},
   "outputs": [
    {
     "data": {
      "text/plain": [
       "<matplotlib.axes._subplots.AxesSubplot at 0x1bc40cd690>"
      ]
     },
     "execution_count": 1936,
     "metadata": {},
     "output_type": "execute_result"
    },
    {
     "data": {
      "image/png": "[encoded data removed]",
      "text/plain": [
       "<Figure size 432x288 with 1 Axes>"
      ]
     },
     "metadata": {
      "needs_background": "light"
     },
     "output_type": "display_data"
    }
   ],
   "source": [
    "sns.countplot(BankRaw['education'])\n",
    "#Inference: Data has more representation of customers with secondary degree, moderate distribution of customers with teriary degree\n",
    "#and less representation of customers with primary degree and least customers with unknown degree. \n",
    "#As the number of unknown is least, we will retain it as it is"
   ]
  },
  {
   "cell_type": "code",
   "execution_count": 1937,
   "metadata": {},
   "outputs": [
    {
     "data": {
      "text/plain": [
       "<matplotlib.axes._subplots.AxesSubplot at 0x1bc439da10>"
      ]
     },
     "execution_count": 1937,
     "metadata": {},
     "output_type": "execute_result"
    },
    {
     "data": {
      "image/png": "[encoded data removed]",
      "text/plain": [
       "<Figure size 432x288 with 1 Axes>"
      ]
     },
     "metadata": {
      "needs_background": "light"
     },
     "output_type": "display_data"
    }
   ],
   "source": [
    "sns.countplot(BankRaw['default'])\n",
    "#Inference: Data set has more non-defaulters and very least defaulters"
   ]
  },
  {
   "cell_type": "code",
   "execution_count": 1938,
   "metadata": {},
   "outputs": [
    {
     "data": {
      "text/plain": [
       "<matplotlib.axes._subplots.AxesSubplot at 0x1bc448fd50>"
      ]
     },
     "execution_count": 1938,
     "metadata": {},
     "output_type": "execute_result"
    },
    {
     "data": {
      "image/png": "[encoded data removed]",
      "text/plain": [
       "<Figure size 432x288 with 1 Axes>"
      ]
     },
     "metadata": {
      "needs_background": "light"
     },
     "output_type": "display_data"
    }
   ],
   "source": [
    "sns.countplot(BankRaw['housing'])\n",
    "#Inference: Data set has somewhat equal representation of customers with housing loan and without housing loan"
   ]
  },
  {
   "cell_type": "code",
   "execution_count": 1939,
   "metadata": {},
   "outputs": [
    {
     "data": {
      "text/plain": [
       "<matplotlib.axes._subplots.AxesSubplot at 0x1bc45c8550>"
      ]
     },
     "execution_count": 1939,
     "metadata": {},
     "output_type": "execute_result"
    },
    {
     "data": {
      "image/png": "[encoded data removed]",
      "text/plain": [
       "<Figure size 432x288 with 1 Axes>"
      ]
     },
     "metadata": {
      "needs_background": "light"
     },
     "output_type": "display_data"
    }
   ],
   "source": [
    "sns.countplot(BankRaw['loan'])\n",
    "#Inference: Majority of customers does not have personal loan"
   ]
  },
  {
   "cell_type": "code",
   "execution_count": 1940,
   "metadata": {},
   "outputs": [
    {
     "data": {
      "text/plain": [
       "<matplotlib.axes._subplots.AxesSubplot at 0x1bc44dc810>"
      ]
     },
     "execution_count": 1940,
     "metadata": {},
     "output_type": "execute_result"
    },
    {
     "data": {
      "image/png": "[encoded data removed]",
      "text/plain": [
       "<Figure size 432x288 with 1 Axes>"
      ]
     },
     "metadata": {
      "needs_background": "light"
     },
     "output_type": "display_data"
    }
   ],
   "source": [
    "sns.countplot(BankRaw['contact'])\n",
    "#Inference: Majority of customers can be contacted with cellular mode in this data set while \n",
    "#moderate amount of customers does not have any mode of contact (\"Unknown\") and least number of customers \n",
    "#can be reached over telephone\n",
    "#We will keep the 'unknown' category as it is since it is more of mode of contact and \n",
    "#customers can be contacted through other modes as well if needed(Ex: email,postal address)"
   ]
  },
  {
   "cell_type": "code",
   "execution_count": 1941,
   "metadata": {},
   "outputs": [
    {
     "data": {
      "text/plain": [
       "<matplotlib.axes._subplots.AxesSubplot at 0x1bc46cc0d0>"
      ]
     },
     "execution_count": 1941,
     "metadata": {},
     "output_type": "execute_result"
    },
    {
     "data": {
      "image/png": "[encoded data removed]",
      "text/plain": [
       "<Figure size 432x288 with 1 Axes>"
      ]
     },
     "metadata": {
      "needs_background": "light"
     },
     "output_type": "display_data"
    }
   ],
   "source": [
    "sns.countplot(BankRaw['month'])\n",
    "#Inference: Most of the customers in data set were previously contacted in the month of may. \n",
    "#Average number of customers were contacted in the month of jun, jul,aug,nov \n",
    "#Least number of customers were contacted in the month of oct,dec,jan,feb,mar,apr,sep\n",
    "#No unknowns found"
   ]
  },
  {
   "cell_type": "code",
   "execution_count": 1942,
   "metadata": {},
   "outputs": [
    {
     "data": {
      "text/plain": [
       "<matplotlib.axes._subplots.AxesSubplot at 0x1bc4971a50>"
      ]
     },
     "execution_count": 1942,
     "metadata": {},
     "output_type": "execute_result"
    },
    {
     "data": {
      "image/png": "[encoded data removed]",
      "text/plain": [
       "<Figure size 432x288 with 1 Axes>"
      ]
     },
     "metadata": {
      "needs_background": "light"
     },
     "output_type": "display_data"
    }
   ],
   "source": [
    "sns.countplot(BankRaw['poutcome'])\n",
    "#Inference: poutcome (outcome of previous campaign) is unknown across majority of data set and \n",
    "#has smaller presence among failure,other and success categories. \n",
    "#This data may not add much value from analysis perspective as for most of the customers it is unknown"
   ]
  },
  {
   "cell_type": "code",
   "execution_count": 1943,
   "metadata": {},
   "outputs": [
    {
     "data": {
      "text/plain": [
       "<matplotlib.axes._subplots.AxesSubplot at 0x1bc4ad9550>"
      ]
     },
     "execution_count": 1943,
     "metadata": {},
     "output_type": "execute_result"
    },
    {
     "data": {
      "image/png": "[encoded data removed]",
      "text/plain": [
       "<Figure size 432x288 with 1 Axes>"
      ]
     },
     "metadata": {
      "needs_background": "light"
     },
     "output_type": "display_data"
    }
   ],
   "source": [
    "sns.countplot(BankRaw['Target'])\n",
    "#Inference: Data set has majority of the customers who has not opted for term deposit"
   ]
  },
  {
   "cell_type": "code",
   "execution_count": 1944,
   "metadata": {},
   "outputs": [
    {
     "data": {
      "text/plain": [
       "<matplotlib.axes._subplots.AxesSubplot at 0x1bc4aaec10>"
      ]
     },
     "execution_count": 1944,
     "metadata": {},
     "output_type": "execute_result"
    },
    {
     "data": {
      "image/png": "[encoded data removed]",
      "text/plain": [
       "<Figure size 432x288 with 1 Axes>"
      ]
     },
     "metadata": {
      "needs_background": "light"
     },
     "output_type": "display_data"
    }
   ],
   "source": [
    "#Bivariate Analysis\n",
    "sns.boxplot(BankRaw['Target'],BankRaw['age'])\n",
    "#Inference: Target column is heavily spread between age group 30-50. \n",
    "#Also there is equal representation of customers who opted for Term deposit and did not opt for it"
   ]
  },
  {
   "cell_type": "code",
   "execution_count": 1945,
   "metadata": {},
   "outputs": [
    {
     "data": {
      "text/plain": [
       "<matplotlib.axes._subplots.AxesSubplot at 0x1bc4d00410>"
      ]
     },
     "execution_count": 1945,
     "metadata": {},
     "output_type": "execute_result"
    },
    {
     "data": {
      "image/png": "[encoded data removed]",
      "text/plain": [
       "<Figure size 432x288 with 1 Axes>"
      ]
     },
     "metadata": {
      "needs_background": "light"
     },
     "output_type": "display_data"
    }
   ],
   "source": [
    "#Bivariate Analysis\n",
    "sns.boxplot(BankRaw['Target'],BankRaw['balance'])\n",
    "#Inference: There is equal distribution of Customers who opted for 'Term deposit' and who has not opted\n",
    "# and this distribution can be found between salary range less that ~15000"
   ]
  },
  {
   "cell_type": "code",
   "execution_count": 1946,
   "metadata": {},
   "outputs": [
    {
     "data": {
      "text/plain": [
       "<matplotlib.axes._subplots.AxesSubplot at 0x1bc4e45510>"
      ]
     },
     "execution_count": 1946,
     "metadata": {},
     "output_type": "execute_result"
    },
    {
     "data": {
      "image/png": "[encoded data removed]",
      "text/plain": [
       "<Figure size 432x288 with 1 Axes>"
      ]
     },
     "metadata": {
      "needs_background": "light"
     },
     "output_type": "display_data"
    }
   ],
   "source": [
    "#Bivariate Analysis\n",
    "sns.boxplot(BankRaw['Target'],BankRaw['day'])\n",
    "#Inference: There is equal distribution of Customers who opted for 'Term deposit' and who has not opted\n",
    "# and distribution is concentrated between 8th-22nd day of month"
   ]
  },
  {
   "cell_type": "code",
   "execution_count": 1947,
   "metadata": {},
   "outputs": [
    {
     "data": {
      "text/plain": [
       "<matplotlib.axes._subplots.AxesSubplot at 0x1bc4f7b310>"
      ]
     },
     "execution_count": 1947,
     "metadata": {},
     "output_type": "execute_result"
    },
    {
     "data": {
      "image/png": "[encoded data removed]",
      "text/plain": [
       "<Figure size 432x288 with 1 Axes>"
      ]
     },
     "metadata": {
      "needs_background": "light"
     },
     "output_type": "display_data"
    }
   ],
   "source": [
    "#Bivariate Analysis\n",
    "sns.boxplot(BankRaw['Target'],BankRaw['duration'])\n",
    "#Inference: The customer who opted for Term deposit and the one's who slightly spend more duration in last call"
   ]
  },
  {
   "cell_type": "code",
   "execution_count": 1948,
   "metadata": {},
   "outputs": [
    {
     "data": {
      "text/plain": [
       "<matplotlib.axes._subplots.AxesSubplot at 0x1bc50aa790>"
      ]
     },
     "execution_count": 1948,
     "metadata": {},
     "output_type": "execute_result"
    },
    {
     "data": {
      "image/png": "[encoded data removed]",
      "text/plain": [
       "<Figure size 432x288 with 1 Axes>"
      ]
     },
     "metadata": {
      "needs_background": "light"
     },
     "output_type": "display_data"
    }
   ],
   "source": [
    "#Bivariate Analysis\n",
    "sns.boxplot(BankRaw['Target'],BankRaw['campaign'])\n",
    "#Inference:There is equal distribution of customers who opted for Term Deposit and not opted w.r.t campaign"
   ]
  },
  {
   "cell_type": "code",
   "execution_count": 1949,
   "metadata": {},
   "outputs": [
    {
     "data": {
      "text/plain": [
       "<matplotlib.axes._subplots.AxesSubplot at 0x1bc51e6d50>"
      ]
     },
     "execution_count": 1949,
     "metadata": {},
     "output_type": "execute_result"
    },
    {
     "data": {
      "image/png": "[encoded data removed]",
      "text/plain": [
       "<Figure size 432x288 with 1 Axes>"
      ]
     },
     "metadata": {
      "needs_background": "light"
     },
     "output_type": "display_data"
    }
   ],
   "source": [
    "#Bivariate Analysis\n",
    "sns.boxplot(BankRaw['Target'],BankRaw['pdays'])\n",
    "#Inference: As per the below distribution, the customers who has opted for Term deposit were contacted recently"
   ]
  },
  {
   "cell_type": "code",
   "execution_count": 1950,
   "metadata": {},
   "outputs": [
    {
     "data": {
      "text/plain": [
       "<matplotlib.axes._subplots.AxesSubplot at 0x1bc530d8d0>"
      ]
     },
     "execution_count": 1950,
     "metadata": {},
     "output_type": "execute_result"
    },
    {
     "data": {
      "image/png": "[encoded data removed]",
      "text/plain": [
       "<Figure size 432x288 with 1 Axes>"
      ]
     },
     "metadata": {
      "needs_background": "light"
     },
     "output_type": "display_data"
    }
   ],
   "source": [
    "#Bivariate Analysis\n",
    "sns.boxplot(BankRaw['Target'],BankRaw['previous'])\n",
    "#Inference: Customers who opted for Term deposit and not opted have equal distribution w.r.t previous contact"
   ]
  },
  {
   "cell_type": "code",
   "execution_count": 1951,
   "metadata": {},
   "outputs": [],
   "source": [
    "#Take appropriate actions for outliers and -ve values"
   ]
  },
  {
   "cell_type": "code",
   "execution_count": 1952,
   "metadata": {},
   "outputs": [
    {
     "data": {
      "text/plain": [
       "<matplotlib.axes._subplots.AxesSubplot at 0x1bc5436310>"
      ]
     },
     "execution_count": 1952,
     "metadata": {},
     "output_type": "execute_result"
    },
    {
     "data": {
      "image/png": "[encoded data removed]",
      "text/plain": [
       "<Figure size 432x288 with 1 Axes>"
      ]
     },
     "metadata": {
      "needs_background": "light"
     },
     "output_type": "display_data"
    }
   ],
   "source": [
    "#Continuing with outliers analysis further\n",
    "sns.boxplot(BankRaw['pdays'])\n",
    "#From below graph, the data does not seems to be correct. Needs further analysis"
   ]
  },
  {
   "cell_type": "code",
   "execution_count": 1953,
   "metadata": {},
   "outputs": [
    {
     "data": {
      "text/plain": [
       "age          36954\n",
       "job          36954\n",
       "marital      36954\n",
       "education    36954\n",
       "default      36954\n",
       "balance      36954\n",
       "housing      36954\n",
       "loan         36954\n",
       "contact      36954\n",
       "day          36954\n",
       "month        36954\n",
       "duration     36954\n",
       "campaign     36954\n",
       "pdays        36954\n",
       "previous     36954\n",
       "poutcome     36954\n",
       "Target       36954\n",
       "dtype: int64"
      ]
     },
     "execution_count": 1953,
     "metadata": {},
     "output_type": "execute_result"
    }
   ],
   "source": [
    "BankRaw[BankRaw['pdays']<0].count()\n",
    "#Inference: There are 36954 rows where the pdays is -ve. Let's analyse it further"
   ]
  },
  {
   "cell_type": "code",
   "execution_count": 1954,
   "metadata": {},
   "outputs": [
    {
     "data": {
      "text/html": [
       "<div>\n",
       "<style scoped>\n",
       "    .dataframe tbody tr th:only-of-type {\n",
       "        vertical-align: middle;\n",
       "    }\n",
       "\n",
       "    .dataframe tbody tr th {\n",
       "        vertical-align: top;\n",
       "    }\n",
       "\n",
       "    .dataframe thead th {\n",
       "        text-align: right;\n",
       "    }\n",
       "</style>\n",
       "<table border=\"1\" class=\"dataframe\">\n",
       "  <thead>\n",
       "    <tr style=\"text-align: right;\">\n",
       "      <th></th>\n",
       "      <th>count</th>\n",
       "      <th>mean</th>\n",
       "      <th>std</th>\n",
       "      <th>min</th>\n",
       "      <th>25%</th>\n",
       "      <th>50%</th>\n",
       "      <th>75%</th>\n",
       "      <th>max</th>\n",
       "    </tr>\n",
       "  </thead>\n",
       "  <tbody>\n",
       "    <tr>\n",
       "      <td>age</td>\n",
       "      <td>36954.0</td>\n",
       "      <td>40.932430</td>\n",
       "      <td>10.430218</td>\n",
       "      <td>18.0</td>\n",
       "      <td>33.0</td>\n",
       "      <td>39.0</td>\n",
       "      <td>49.0</td>\n",
       "      <td>95.0</td>\n",
       "    </tr>\n",
       "    <tr>\n",
       "      <td>balance</td>\n",
       "      <td>36954.0</td>\n",
       "      <td>1318.788846</td>\n",
       "      <td>3039.557077</td>\n",
       "      <td>-8019.0</td>\n",
       "      <td>55.0</td>\n",
       "      <td>414.0</td>\n",
       "      <td>1358.0</td>\n",
       "      <td>102127.0</td>\n",
       "    </tr>\n",
       "    <tr>\n",
       "      <td>day</td>\n",
       "      <td>36954.0</td>\n",
       "      <td>16.145424</td>\n",
       "      <td>8.372554</td>\n",
       "      <td>1.0</td>\n",
       "      <td>9.0</td>\n",
       "      <td>17.0</td>\n",
       "      <td>22.0</td>\n",
       "      <td>31.0</td>\n",
       "    </tr>\n",
       "    <tr>\n",
       "      <td>duration</td>\n",
       "      <td>36954.0</td>\n",
       "      <td>257.726119</td>\n",
       "      <td>262.256406</td>\n",
       "      <td>0.0</td>\n",
       "      <td>101.0</td>\n",
       "      <td>177.0</td>\n",
       "      <td>318.0</td>\n",
       "      <td>4918.0</td>\n",
       "    </tr>\n",
       "    <tr>\n",
       "      <td>campaign</td>\n",
       "      <td>36954.0</td>\n",
       "      <td>2.921957</td>\n",
       "      <td>3.325791</td>\n",
       "      <td>1.0</td>\n",
       "      <td>1.0</td>\n",
       "      <td>2.0</td>\n",
       "      <td>3.0</td>\n",
       "      <td>63.0</td>\n",
       "    </tr>\n",
       "    <tr>\n",
       "      <td>pdays</td>\n",
       "      <td>36954.0</td>\n",
       "      <td>-1.000000</td>\n",
       "      <td>0.000000</td>\n",
       "      <td>-1.0</td>\n",
       "      <td>-1.0</td>\n",
       "      <td>-1.0</td>\n",
       "      <td>-1.0</td>\n",
       "      <td>-1.0</td>\n",
       "    </tr>\n",
       "    <tr>\n",
       "      <td>previous</td>\n",
       "      <td>36954.0</td>\n",
       "      <td>0.000000</td>\n",
       "      <td>0.000000</td>\n",
       "      <td>0.0</td>\n",
       "      <td>0.0</td>\n",
       "      <td>0.0</td>\n",
       "      <td>0.0</td>\n",
       "      <td>0.0</td>\n",
       "    </tr>\n",
       "  </tbody>\n",
       "</table>\n",
       "</div>"
      ],
      "text/plain": [
       "            count         mean          std     min    25%    50%     75%  \\\n",
       "age       36954.0    40.932430    10.430218    18.0   33.0   39.0    49.0   \n",
       "balance   36954.0  1318.788846  3039.557077 -8019.0   55.0  414.0  1358.0   \n",
       "day       36954.0    16.145424     8.372554     1.0    9.0   17.0    22.0   \n",
       "duration  36954.0   257.726119   262.256406     0.0  101.0  177.0   318.0   \n",
       "campaign  36954.0     2.921957     3.325791     1.0    1.0    2.0     3.0   \n",
       "pdays     36954.0    -1.000000     0.000000    -1.0   -1.0   -1.0    -1.0   \n",
       "previous  36954.0     0.000000     0.000000     0.0    0.0    0.0     0.0   \n",
       "\n",
       "               max  \n",
       "age           95.0  \n",
       "balance   102127.0  \n",
       "day           31.0  \n",
       "duration    4918.0  \n",
       "campaign      63.0  \n",
       "pdays         -1.0  \n",
       "previous       0.0  "
      ]
     },
     "execution_count": 1954,
     "metadata": {},
     "output_type": "execute_result"
    }
   ],
   "source": [
    "BankRaw[BankRaw['pdays']<0].describe().transpose()\n",
    "#Inference: From below data we can see that for all -ve value of 'pdays', the 'previous' value is 0, which means \n",
    "#customers was not previously contacted. Hence my previous assumption around -1 value of pdays holds good \n",
    "# i.e., 'pdays' = '-ve' means customers was not previously contacted. \n",
    "#We will replace this -ve value with 0 for now so that we can proceed with assumption that these are the customers \n",
    "# not contacted previusly and hence pdays is also 0 \n",
    "#Note: We cannot replace it with 25%, median and 75% value as all are -1 in this case"
   ]
  },
  {
   "cell_type": "code",
   "execution_count": 1955,
   "metadata": {},
   "outputs": [
    {
     "data": {
      "text/plain": [
       "(-1.0, count    45211.000000\n",
       " mean        40.197828\n",
       " std        100.128746\n",
       " min         -1.000000\n",
       " 25%         -1.000000\n",
       " 50%         -1.000000\n",
       " 75%         -1.000000\n",
       " max        871.000000\n",
       " Name: pdays, dtype: float64)"
      ]
     },
     "execution_count": 1955,
     "metadata": {},
     "output_type": "execute_result"
    }
   ],
   "source": [
    "BankRaw.pdays.median(),BankRaw.pdays.describe().transpose()"
   ]
  },
  {
   "cell_type": "code",
   "execution_count": 1956,
   "metadata": {},
   "outputs": [
    {
     "data": {
      "text/plain": [
       "count    45211.000000\n",
       "mean        41.015195\n",
       "std         99.792615\n",
       "min          0.000000\n",
       "25%          0.000000\n",
       "50%          0.000000\n",
       "75%          0.000000\n",
       "max        871.000000\n",
       "Name: pdays, dtype: float64"
      ]
     },
     "execution_count": 1956,
     "metadata": {},
     "output_type": "execute_result"
    }
   ],
   "source": [
    "BankRaw[\"pdays\"]=np.where(BankRaw[\"pdays\"]<0, 0,BankRaw['pdays'])\n",
    "BankRaw.pdays.describe().transpose()\n",
    "#Inference: 45211 records of data having pdays <0"
   ]
  },
  {
   "cell_type": "code",
   "execution_count": 1957,
   "metadata": {},
   "outputs": [
    {
     "data": {
      "text/plain": [
       "count    45211.000000\n",
       "mean        28.440579\n",
       "std         62.910455\n",
       "min          0.000000\n",
       "25%          0.000000\n",
       "50%          0.000000\n",
       "75%          0.000000\n",
       "max        182.000000\n",
       "Name: pdays, dtype: float64"
      ]
     },
     "execution_count": 1957,
     "metadata": {},
     "output_type": "execute_result"
    }
   ],
   "source": [
    "#Outliers treatment for 'pdays'\n",
    "#In general, a reputed bank will maintain the relationship between customers by contacting them atleast once in 6 months.\n",
    "#So we can consider anything > 6 months (182 days) as outlier and let's replace those values with this 180 days \n",
    "BankRaw[\"pdays\"]=np.where(BankRaw[\"pdays\"]>182, 182,BankRaw['pdays'])\n",
    "BankRaw.pdays.describe().transpose()\n",
    "# Inference: We can see that after replacement, std has reduced and replacement is successful"
   ]
  },
  {
   "cell_type": "code",
   "execution_count": 1958,
   "metadata": {},
   "outputs": [
    {
     "data": {
      "text/plain": [
       "<matplotlib.axes._subplots.AxesSubplot at 0x1bc54eafd0>"
      ]
     },
     "execution_count": 1958,
     "metadata": {},
     "output_type": "execute_result"
    },
    {
     "data": {
      "image/png": "[encoded data removed]",
      "text/plain": [
       "<Figure size 432x288 with 1 Axes>"
      ]
     },
     "metadata": {
      "needs_background": "light"
     },
     "output_type": "display_data"
    }
   ],
   "source": [
    "#Checking the presence of outliers\n",
    "sns.boxplot(BankRaw['age'])\n",
    "#From boxplot, we can see the presence of outliers ie.,age>70 needs to be replaced with median value."
   ]
  },
  {
   "cell_type": "code",
   "execution_count": 1959,
   "metadata": {},
   "outputs": [],
   "source": [
    "#Replacing the outliers with median value ie., 39 in this case\n",
    "BankRaw[\"age\"]=np.where(BankRaw[\"age\"]>70, 39,BankRaw['age'])"
   ]
  },
  {
   "cell_type": "code",
   "execution_count": 1960,
   "metadata": {},
   "outputs": [
    {
     "data": {
      "text/html": [
       "<div>\n",
       "<style scoped>\n",
       "    .dataframe tbody tr th:only-of-type {\n",
       "        vertical-align: middle;\n",
       "    }\n",
       "\n",
       "    .dataframe tbody tr th {\n",
       "        vertical-align: top;\n",
       "    }\n",
       "\n",
       "    .dataframe thead th {\n",
       "        text-align: right;\n",
       "    }\n",
       "</style>\n",
       "<table border=\"1\" class=\"dataframe\">\n",
       "  <thead>\n",
       "    <tr style=\"text-align: right;\">\n",
       "      <th></th>\n",
       "      <th>count</th>\n",
       "      <th>mean</th>\n",
       "      <th>std</th>\n",
       "      <th>min</th>\n",
       "      <th>25%</th>\n",
       "      <th>50%</th>\n",
       "      <th>75%</th>\n",
       "      <th>max</th>\n",
       "    </tr>\n",
       "  </thead>\n",
       "  <tbody>\n",
       "    <tr>\n",
       "      <td>age</td>\n",
       "      <td>45211.0</td>\n",
       "      <td>40.528876</td>\n",
       "      <td>9.925626</td>\n",
       "      <td>18.0</td>\n",
       "      <td>33.0</td>\n",
       "      <td>39.0</td>\n",
       "      <td>48.0</td>\n",
       "      <td>70.0</td>\n",
       "    </tr>\n",
       "    <tr>\n",
       "      <td>balance</td>\n",
       "      <td>45211.0</td>\n",
       "      <td>1362.272058</td>\n",
       "      <td>3044.765829</td>\n",
       "      <td>-8019.0</td>\n",
       "      <td>72.0</td>\n",
       "      <td>448.0</td>\n",
       "      <td>1428.0</td>\n",
       "      <td>102127.0</td>\n",
       "    </tr>\n",
       "    <tr>\n",
       "      <td>day</td>\n",
       "      <td>45211.0</td>\n",
       "      <td>15.806419</td>\n",
       "      <td>8.322476</td>\n",
       "      <td>1.0</td>\n",
       "      <td>8.0</td>\n",
       "      <td>16.0</td>\n",
       "      <td>21.0</td>\n",
       "      <td>31.0</td>\n",
       "    </tr>\n",
       "    <tr>\n",
       "      <td>duration</td>\n",
       "      <td>45211.0</td>\n",
       "      <td>258.163080</td>\n",
       "      <td>257.527812</td>\n",
       "      <td>0.0</td>\n",
       "      <td>103.0</td>\n",
       "      <td>180.0</td>\n",
       "      <td>319.0</td>\n",
       "      <td>4918.0</td>\n",
       "    </tr>\n",
       "    <tr>\n",
       "      <td>campaign</td>\n",
       "      <td>45211.0</td>\n",
       "      <td>2.763841</td>\n",
       "      <td>3.098021</td>\n",
       "      <td>1.0</td>\n",
       "      <td>1.0</td>\n",
       "      <td>2.0</td>\n",
       "      <td>3.0</td>\n",
       "      <td>63.0</td>\n",
       "    </tr>\n",
       "    <tr>\n",
       "      <td>pdays</td>\n",
       "      <td>45211.0</td>\n",
       "      <td>28.440579</td>\n",
       "      <td>62.910455</td>\n",
       "      <td>0.0</td>\n",
       "      <td>0.0</td>\n",
       "      <td>0.0</td>\n",
       "      <td>0.0</td>\n",
       "      <td>182.0</td>\n",
       "    </tr>\n",
       "    <tr>\n",
       "      <td>previous</td>\n",
       "      <td>45211.0</td>\n",
       "      <td>0.580323</td>\n",
       "      <td>2.303441</td>\n",
       "      <td>0.0</td>\n",
       "      <td>0.0</td>\n",
       "      <td>0.0</td>\n",
       "      <td>0.0</td>\n",
       "      <td>275.0</td>\n",
       "    </tr>\n",
       "  </tbody>\n",
       "</table>\n",
       "</div>"
      ],
      "text/plain": [
       "            count         mean          std     min    25%    50%     75%  \\\n",
       "age       45211.0    40.528876     9.925626    18.0   33.0   39.0    48.0   \n",
       "balance   45211.0  1362.272058  3044.765829 -8019.0   72.0  448.0  1428.0   \n",
       "day       45211.0    15.806419     8.322476     1.0    8.0   16.0    21.0   \n",
       "duration  45211.0   258.163080   257.527812     0.0  103.0  180.0   319.0   \n",
       "campaign  45211.0     2.763841     3.098021     1.0    1.0    2.0     3.0   \n",
       "pdays     45211.0    28.440579    62.910455     0.0    0.0    0.0     0.0   \n",
       "previous  45211.0     0.580323     2.303441     0.0    0.0    0.0     0.0   \n",
       "\n",
       "               max  \n",
       "age           70.0  \n",
       "balance   102127.0  \n",
       "day           31.0  \n",
       "duration    4918.0  \n",
       "campaign      63.0  \n",
       "pdays        182.0  \n",
       "previous     275.0  "
      ]
     },
     "execution_count": 1960,
     "metadata": {},
     "output_type": "execute_result"
    }
   ],
   "source": [
    "#Checking if the outliers is replaced correctly\n",
    "BankRaw[BankRaw['age']<=70]. describe().transpose()\n",
    "# We can conclude that  after replacing the outliers, all 45211 records have age <=70"
   ]
  },
  {
   "cell_type": "code",
   "execution_count": 1961,
   "metadata": {},
   "outputs": [
    {
     "data": {
      "text/plain": [
       "<matplotlib.axes._subplots.AxesSubplot at 0x1bc585e850>"
      ]
     },
     "execution_count": 1961,
     "metadata": {},
     "output_type": "execute_result"
    },
    {
     "data": {
      "image/png": "[encoded data removed]",
      "text/plain": [
       "<Figure size 432x288 with 1 Axes>"
      ]
     },
     "metadata": {
      "needs_background": "light"
     },
     "output_type": "display_data"
    }
   ],
   "source": [
    "#Checking the presence of outliers\n",
    "sns.boxplot(BankRaw['balance'])\n",
    "#From boxplot, we can see the presence of outliers. Also this has -ve values.\n",
    "#A balance of negetive value may also be indication of existence of loan"
   ]
  },
  {
   "cell_type": "code",
   "execution_count": 1962,
   "metadata": {},
   "outputs": [
    {
     "data": {
      "text/html": [
       "<div>\n",
       "<style scoped>\n",
       "    .dataframe tbody tr th:only-of-type {\n",
       "        vertical-align: middle;\n",
       "    }\n",
       "\n",
       "    .dataframe tbody tr th {\n",
       "        vertical-align: top;\n",
       "    }\n",
       "\n",
       "    .dataframe thead th {\n",
       "        text-align: right;\n",
       "    }\n",
       "</style>\n",
       "<table border=\"1\" class=\"dataframe\">\n",
       "  <thead>\n",
       "    <tr style=\"text-align: right;\">\n",
       "      <th></th>\n",
       "      <th>count</th>\n",
       "      <th>mean</th>\n",
       "      <th>std</th>\n",
       "      <th>min</th>\n",
       "      <th>25%</th>\n",
       "      <th>50%</th>\n",
       "      <th>75%</th>\n",
       "      <th>max</th>\n",
       "    </tr>\n",
       "  </thead>\n",
       "  <tbody>\n",
       "    <tr>\n",
       "      <td>age</td>\n",
       "      <td>3766.0</td>\n",
       "      <td>39.480351</td>\n",
       "      <td>9.068517</td>\n",
       "      <td>20.0</td>\n",
       "      <td>32.0</td>\n",
       "      <td>38.0</td>\n",
       "      <td>46.0</td>\n",
       "      <td>63.0</td>\n",
       "    </tr>\n",
       "    <tr>\n",
       "      <td>balance</td>\n",
       "      <td>3766.0</td>\n",
       "      <td>-317.677642</td>\n",
       "      <td>368.994983</td>\n",
       "      <td>-8019.0</td>\n",
       "      <td>-422.0</td>\n",
       "      <td>-230.0</td>\n",
       "      <td>-93.0</td>\n",
       "      <td>-1.0</td>\n",
       "    </tr>\n",
       "    <tr>\n",
       "      <td>day</td>\n",
       "      <td>3766.0</td>\n",
       "      <td>16.439724</td>\n",
       "      <td>8.578670</td>\n",
       "      <td>1.0</td>\n",
       "      <td>9.0</td>\n",
       "      <td>16.0</td>\n",
       "      <td>24.0</td>\n",
       "      <td>31.0</td>\n",
       "    </tr>\n",
       "    <tr>\n",
       "      <td>duration</td>\n",
       "      <td>3766.0</td>\n",
       "      <td>252.096389</td>\n",
       "      <td>250.280003</td>\n",
       "      <td>4.0</td>\n",
       "      <td>105.0</td>\n",
       "      <td>176.0</td>\n",
       "      <td>305.0</td>\n",
       "      <td>3253.0</td>\n",
       "    </tr>\n",
       "    <tr>\n",
       "      <td>campaign</td>\n",
       "      <td>3766.0</td>\n",
       "      <td>2.926713</td>\n",
       "      <td>3.474046</td>\n",
       "      <td>1.0</td>\n",
       "      <td>1.0</td>\n",
       "      <td>2.0</td>\n",
       "      <td>3.0</td>\n",
       "      <td>43.0</td>\n",
       "    </tr>\n",
       "    <tr>\n",
       "      <td>pdays</td>\n",
       "      <td>3766.0</td>\n",
       "      <td>22.245884</td>\n",
       "      <td>58.879697</td>\n",
       "      <td>0.0</td>\n",
       "      <td>0.0</td>\n",
       "      <td>0.0</td>\n",
       "      <td>0.0</td>\n",
       "      <td>182.0</td>\n",
       "    </tr>\n",
       "    <tr>\n",
       "      <td>previous</td>\n",
       "      <td>3766.0</td>\n",
       "      <td>0.406798</td>\n",
       "      <td>1.609466</td>\n",
       "      <td>0.0</td>\n",
       "      <td>0.0</td>\n",
       "      <td>0.0</td>\n",
       "      <td>0.0</td>\n",
       "      <td>25.0</td>\n",
       "    </tr>\n",
       "  </tbody>\n",
       "</table>\n",
       "</div>"
      ],
      "text/plain": [
       "           count        mean         std     min    25%    50%    75%     max\n",
       "age       3766.0   39.480351    9.068517    20.0   32.0   38.0   46.0    63.0\n",
       "balance   3766.0 -317.677642  368.994983 -8019.0 -422.0 -230.0  -93.0    -1.0\n",
       "day       3766.0   16.439724    8.578670     1.0    9.0   16.0   24.0    31.0\n",
       "duration  3766.0  252.096389  250.280003     4.0  105.0  176.0  305.0  3253.0\n",
       "campaign  3766.0    2.926713    3.474046     1.0    1.0    2.0    3.0    43.0\n",
       "pdays     3766.0   22.245884   58.879697     0.0    0.0    0.0    0.0   182.0\n",
       "previous  3766.0    0.406798    1.609466     0.0    0.0    0.0    0.0    25.0"
      ]
     },
     "execution_count": 1962,
     "metadata": {},
     "output_type": "execute_result"
    }
   ],
   "source": [
    "BankRaw[BankRaw['balance']<0].describe().transpose()\n",
    "#There are 3766 customer records with -ve balance "
   ]
  },
  {
   "cell_type": "code",
   "execution_count": 1963,
   "metadata": {},
   "outputs": [
    {
     "data": {
      "text/plain": [
       "<matplotlib.axes._subplots.AxesSubplot at 0x1bc5fdc5d0>"
      ]
     },
     "execution_count": 1963,
     "metadata": {},
     "output_type": "execute_result"
    },
    {
     "data": {
      "image/png": "[encoded data removed]",
      "text/plain": [
       "<Figure size 432x288 with 1 Axes>"
      ]
     },
     "metadata": {
      "needs_background": "light"
     },
     "output_type": "display_data"
    }
   ],
   "source": [
    "#Lets analyze 'balance' and 'loan' and housing together as I am suspecting/assuming customers with negetive balance may have\n",
    "#either housing loan/personal loan\n",
    "sns.barplot(BankRaw['loan'], BankRaw['balance']<0) \n",
    "#Inference: From below graph, it gives sense that more number of customers with balance <0 has opted for loan"
   ]
  },
  {
   "cell_type": "code",
   "execution_count": 1964,
   "metadata": {},
   "outputs": [
    {
     "data": {
      "text/plain": [
       "<matplotlib.axes._subplots.AxesSubplot at 0x1bc609cb10>"
      ]
     },
     "execution_count": 1964,
     "metadata": {},
     "output_type": "execute_result"
    },
    {
     "data": {
      "image/png": "[encoded data removed]",
      "text/plain": [
       "<Figure size 432x288 with 1 Axes>"
      ]
     },
     "metadata": {
      "needs_background": "light"
     },
     "output_type": "display_data"
    }
   ],
   "source": [
    "#Let's perform similar analysis with housing loan as well\n",
    "sns.barplot(BankRaw['housing'], BankRaw['balance']<0)\n",
    "# From below graph, it gives sense that more number of customers with balance <0 has opted for housing loan as well\n",
    "# Overall we can conclude that customers with -ve balance are the ones who opted for either personal loan or housing loan"
   ]
  },
  {
   "cell_type": "code",
   "execution_count": 1965,
   "metadata": {},
   "outputs": [
    {
     "data": {
      "text/plain": [
       "count     45211.000000\n",
       "mean       1362.272058\n",
       "std        3044.765829\n",
       "min       -8019.000000\n",
       "25%          72.000000\n",
       "50%         448.000000\n",
       "75%        1428.000000\n",
       "max      102127.000000\n",
       "Name: balance, dtype: float64"
      ]
     },
     "execution_count": 1965,
     "metadata": {},
     "output_type": "execute_result"
    }
   ],
   "source": [
    "#Let's replace the -ve values with 25% for balance \n",
    "BankRaw.balance.describe().transpose()\n",
    "#So 25% value is 72"
   ]
  },
  {
   "cell_type": "code",
   "execution_count": 1966,
   "metadata": {},
   "outputs": [],
   "source": [
    "BankRaw[\"balance\"]=np.where(BankRaw[\"balance\"]<0, 72,BankRaw['balance'])"
   ]
  },
  {
   "cell_type": "code",
   "execution_count": 1967,
   "metadata": {},
   "outputs": [
    {
     "data": {
      "text/plain": [
       "count     45211.000000\n",
       "mean       1394.731548\n",
       "std        3026.845286\n",
       "min           0.000000\n",
       "25%          72.000000\n",
       "50%         448.000000\n",
       "75%        1428.000000\n",
       "max      102127.000000\n",
       "Name: balance, dtype: float64"
      ]
     },
     "execution_count": 1967,
     "metadata": {},
     "output_type": "execute_result"
    }
   ],
   "source": [
    "BankRaw.balance.describe().transpose() # the -ve value is replaced successfully"
   ]
  },
  {
   "cell_type": "code",
   "execution_count": 1968,
   "metadata": {},
   "outputs": [
    {
     "data": {
      "text/html": [
       "<div>\n",
       "<style scoped>\n",
       "    .dataframe tbody tr th:only-of-type {\n",
       "        vertical-align: middle;\n",
       "    }\n",
       "\n",
       "    .dataframe tbody tr th {\n",
       "        vertical-align: top;\n",
       "    }\n",
       "\n",
       "    .dataframe thead th {\n",
       "        text-align: right;\n",
       "    }\n",
       "</style>\n",
       "<table border=\"1\" class=\"dataframe\">\n",
       "  <thead>\n",
       "    <tr style=\"text-align: right;\">\n",
       "      <th></th>\n",
       "      <th>count</th>\n",
       "      <th>mean</th>\n",
       "      <th>std</th>\n",
       "      <th>min</th>\n",
       "      <th>25%</th>\n",
       "      <th>50%</th>\n",
       "      <th>75%</th>\n",
       "      <th>max</th>\n",
       "    </tr>\n",
       "  </thead>\n",
       "  <tbody>\n",
       "    <tr>\n",
       "      <td>age</td>\n",
       "      <td>2845.0</td>\n",
       "      <td>42.808436</td>\n",
       "      <td>10.279132</td>\n",
       "      <td>19.0</td>\n",
       "      <td>34.0</td>\n",
       "      <td>41.0</td>\n",
       "      <td>51.0</td>\n",
       "      <td>70.0</td>\n",
       "    </tr>\n",
       "    <tr>\n",
       "      <td>balance</td>\n",
       "      <td>2845.0</td>\n",
       "      <td>9826.109666</td>\n",
       "      <td>7263.815214</td>\n",
       "      <td>5003.0</td>\n",
       "      <td>5961.0</td>\n",
       "      <td>7578.0</td>\n",
       "      <td>10758.0</td>\n",
       "      <td>102127.0</td>\n",
       "    </tr>\n",
       "    <tr>\n",
       "      <td>day</td>\n",
       "      <td>2845.0</td>\n",
       "      <td>16.099473</td>\n",
       "      <td>7.896902</td>\n",
       "      <td>1.0</td>\n",
       "      <td>9.0</td>\n",
       "      <td>18.0</td>\n",
       "      <td>21.0</td>\n",
       "      <td>31.0</td>\n",
       "    </tr>\n",
       "    <tr>\n",
       "      <td>duration</td>\n",
       "      <td>2845.0</td>\n",
       "      <td>276.048858</td>\n",
       "      <td>282.555242</td>\n",
       "      <td>0.0</td>\n",
       "      <td>107.0</td>\n",
       "      <td>189.0</td>\n",
       "      <td>340.0</td>\n",
       "      <td>4918.0</td>\n",
       "    </tr>\n",
       "    <tr>\n",
       "      <td>campaign</td>\n",
       "      <td>2845.0</td>\n",
       "      <td>2.666432</td>\n",
       "      <td>3.030578</td>\n",
       "      <td>1.0</td>\n",
       "      <td>1.0</td>\n",
       "      <td>2.0</td>\n",
       "      <td>3.0</td>\n",
       "      <td>63.0</td>\n",
       "    </tr>\n",
       "    <tr>\n",
       "      <td>pdays</td>\n",
       "      <td>2845.0</td>\n",
       "      <td>31.634446</td>\n",
       "      <td>63.857502</td>\n",
       "      <td>0.0</td>\n",
       "      <td>0.0</td>\n",
       "      <td>0.0</td>\n",
       "      <td>0.0</td>\n",
       "      <td>182.0</td>\n",
       "    </tr>\n",
       "    <tr>\n",
       "      <td>previous</td>\n",
       "      <td>2845.0</td>\n",
       "      <td>0.686116</td>\n",
       "      <td>2.166480</td>\n",
       "      <td>0.0</td>\n",
       "      <td>0.0</td>\n",
       "      <td>0.0</td>\n",
       "      <td>0.0</td>\n",
       "      <td>35.0</td>\n",
       "    </tr>\n",
       "  </tbody>\n",
       "</table>\n",
       "</div>"
      ],
      "text/plain": [
       "           count         mean          std     min     25%     50%      75%  \\\n",
       "age       2845.0    42.808436    10.279132    19.0    34.0    41.0     51.0   \n",
       "balance   2845.0  9826.109666  7263.815214  5003.0  5961.0  7578.0  10758.0   \n",
       "day       2845.0    16.099473     7.896902     1.0     9.0    18.0     21.0   \n",
       "duration  2845.0   276.048858   282.555242     0.0   107.0   189.0    340.0   \n",
       "campaign  2845.0     2.666432     3.030578     1.0     1.0     2.0      3.0   \n",
       "pdays     2845.0    31.634446    63.857502     0.0     0.0     0.0      0.0   \n",
       "previous  2845.0     0.686116     2.166480     0.0     0.0     0.0      0.0   \n",
       "\n",
       "               max  \n",
       "age           70.0  \n",
       "balance   102127.0  \n",
       "day           31.0  \n",
       "duration    4918.0  \n",
       "campaign      63.0  \n",
       "pdays        182.0  \n",
       "previous      35.0  "
      ]
     },
     "execution_count": 1968,
     "metadata": {},
     "output_type": "execute_result"
    }
   ],
   "source": [
    "# From boxplot, we could sense that balance also has outliers (i.e balance >5000)hence needs replacement\n",
    "BankRaw[BankRaw['balance']>5000].describe().transpose()\n",
    "#There are 2845 records with balance >5000, lets replace this with 75% value i.e., 1428"
   ]
  },
  {
   "cell_type": "code",
   "execution_count": 1969,
   "metadata": {},
   "outputs": [
    {
     "data": {
      "text/plain": [
       "count    45211.000000\n",
       "mean       866.262326\n",
       "std       1044.015957\n",
       "min          0.000000\n",
       "25%         72.000000\n",
       "50%        448.000000\n",
       "75%       1428.000000\n",
       "max       5000.000000\n",
       "Name: balance, dtype: float64"
      ]
     },
     "execution_count": 1969,
     "metadata": {},
     "output_type": "execute_result"
    }
   ],
   "source": [
    "BankRaw[\"balance\"]=np.where(BankRaw[\"balance\"]>5000, 1428,BankRaw['balance'])\n",
    "BankRaw.balance.describe().transpose() # the outliers are replaced successfully"
   ]
  },
  {
   "cell_type": "code",
   "execution_count": 1970,
   "metadata": {},
   "outputs": [
    {
     "data": {
      "text/plain": [
       "<matplotlib.axes._subplots.AxesSubplot at 0x1bc60eb210>"
      ]
     },
     "execution_count": 1970,
     "metadata": {},
     "output_type": "execute_result"
    },
    {
     "data": {
      "image/png": "[encoded data removed]",
      "text/plain": [
       "<Figure size 432x288 with 1 Axes>"
      ]
     },
     "metadata": {
      "needs_background": "light"
     },
     "output_type": "display_data"
    }
   ],
   "source": [
    "#Checking the presence of outliers\n",
    "sns.boxplot(BankRaw['duration'])\n",
    "#Inference: Presence of outliers confirmed which needs to be treated ideally. However as per the information provided\n",
    "#in the assignment this variable needs to be ignored during preparing model as it may impact the accuracy of prediction."
   ]
  },
  {
   "cell_type": "code",
   "execution_count": 1971,
   "metadata": {},
   "outputs": [
    {
     "data": {
      "text/plain": [
       "<matplotlib.axes._subplots.AxesSubplot at 0x1bc5ae7a10>"
      ]
     },
     "execution_count": 1971,
     "metadata": {},
     "output_type": "execute_result"
    },
    {
     "data": {
      "image/png": "[encoded data removed]",
      "text/plain": [
       "<Figure size 432x288 with 1 Axes>"
      ]
     },
     "metadata": {
      "needs_background": "light"
     },
     "output_type": "display_data"
    }
   ],
   "source": [
    "#Checking the presence of outliers\n",
    "sns.boxplot(BankRaw['campaign'])\n",
    "#From boxplot, we can see the presence of outliers which needs to be replaced with median value."
   ]
  },
  {
   "cell_type": "code",
   "execution_count": 1972,
   "metadata": {},
   "outputs": [
    {
     "data": {
      "text/plain": [
       "count    45211.000000\n",
       "mean         2.763841\n",
       "std          3.098021\n",
       "min          1.000000\n",
       "25%          1.000000\n",
       "50%          2.000000\n",
       "75%          3.000000\n",
       "max         63.000000\n",
       "Name: campaign, dtype: float64"
      ]
     },
     "execution_count": 1972,
     "metadata": {},
     "output_type": "execute_result"
    }
   ],
   "source": [
    "BankRaw.campaign.describe().transpose()\n",
    "#Presence of outliers is evident and we can assume campaign >6 as outliers and replace it with 75% value, i.e., 3"
   ]
  },
  {
   "cell_type": "code",
   "execution_count": 1973,
   "metadata": {},
   "outputs": [
    {
     "data": {
      "text/plain": [
       "count    45211.000000\n",
       "mean         2.188914\n",
       "std          1.289155\n",
       "min          1.000000\n",
       "25%          1.000000\n",
       "50%          2.000000\n",
       "75%          3.000000\n",
       "max          6.000000\n",
       "Name: campaign, dtype: float64"
      ]
     },
     "execution_count": 1973,
     "metadata": {},
     "output_type": "execute_result"
    }
   ],
   "source": [
    "BankRaw[\"campaign\"]=np.where(BankRaw[\"campaign\"]>6, 3,BankRaw['campaign'])\n",
    "BankRaw.campaign.describe().transpose() # the outliers are replaced successfully"
   ]
  },
  {
   "cell_type": "code",
   "execution_count": 1974,
   "metadata": {},
   "outputs": [
    {
     "data": {
      "text/plain": [
       "<matplotlib.axes._subplots.AxesSubplot at 0x1bc6132a90>"
      ]
     },
     "execution_count": 1974,
     "metadata": {},
     "output_type": "execute_result"
    },
    {
     "data": {
      "image/png": "[encoded data removed]",
      "text/plain": [
       "<Figure size 432x288 with 1 Axes>"
      ]
     },
     "metadata": {
      "needs_background": "light"
     },
     "output_type": "display_data"
    }
   ],
   "source": [
    "#Checking the presence of outliers\n",
    "sns.boxplot(BankRaw['previous'])\n",
    "#Inference: Too many outliers, needs to be treated"
   ]
  },
  {
   "cell_type": "code",
   "execution_count": 1975,
   "metadata": {},
   "outputs": [
    {
     "data": {
      "text/html": [
       "<div>\n",
       "<style scoped>\n",
       "    .dataframe tbody tr th:only-of-type {\n",
       "        vertical-align: middle;\n",
       "    }\n",
       "\n",
       "    .dataframe tbody tr th {\n",
       "        vertical-align: top;\n",
       "    }\n",
       "\n",
       "    .dataframe thead th {\n",
       "        text-align: right;\n",
       "    }\n",
       "</style>\n",
       "<table border=\"1\" class=\"dataframe\">\n",
       "  <thead>\n",
       "    <tr style=\"text-align: right;\">\n",
       "      <th></th>\n",
       "      <th>count</th>\n",
       "      <th>mean</th>\n",
       "      <th>std</th>\n",
       "      <th>min</th>\n",
       "      <th>25%</th>\n",
       "      <th>50%</th>\n",
       "      <th>75%</th>\n",
       "      <th>max</th>\n",
       "    </tr>\n",
       "  </thead>\n",
       "  <tbody>\n",
       "    <tr>\n",
       "      <td>age</td>\n",
       "      <td>8257.0</td>\n",
       "      <td>40.127528</td>\n",
       "      <td>10.075831</td>\n",
       "      <td>18.0</td>\n",
       "      <td>33.0</td>\n",
       "      <td>38.0</td>\n",
       "      <td>47.0</td>\n",
       "      <td>70.0</td>\n",
       "    </tr>\n",
       "    <tr>\n",
       "      <td>balance</td>\n",
       "      <td>8257.0</td>\n",
       "      <td>992.242340</td>\n",
       "      <td>1077.094304</td>\n",
       "      <td>0.0</td>\n",
       "      <td>168.0</td>\n",
       "      <td>602.0</td>\n",
       "      <td>1428.0</td>\n",
       "      <td>5000.0</td>\n",
       "    </tr>\n",
       "    <tr>\n",
       "      <td>day</td>\n",
       "      <td>8257.0</td>\n",
       "      <td>14.289209</td>\n",
       "      <td>7.919176</td>\n",
       "      <td>1.0</td>\n",
       "      <td>7.0</td>\n",
       "      <td>14.0</td>\n",
       "      <td>20.0</td>\n",
       "      <td>31.0</td>\n",
       "    </tr>\n",
       "    <tr>\n",
       "      <td>duration</td>\n",
       "      <td>8257.0</td>\n",
       "      <td>260.118687</td>\n",
       "      <td>235.208105</td>\n",
       "      <td>1.0</td>\n",
       "      <td>113.0</td>\n",
       "      <td>193.0</td>\n",
       "      <td>324.0</td>\n",
       "      <td>2219.0</td>\n",
       "    </tr>\n",
       "    <tr>\n",
       "      <td>campaign</td>\n",
       "      <td>8257.0</td>\n",
       "      <td>1.924549</td>\n",
       "      <td>1.190543</td>\n",
       "      <td>1.0</td>\n",
       "      <td>1.0</td>\n",
       "      <td>2.0</td>\n",
       "      <td>2.0</td>\n",
       "      <td>6.0</td>\n",
       "    </tr>\n",
       "    <tr>\n",
       "      <td>pdays</td>\n",
       "      <td>8257.0</td>\n",
       "      <td>155.725687</td>\n",
       "      <td>42.995481</td>\n",
       "      <td>1.0</td>\n",
       "      <td>133.0</td>\n",
       "      <td>182.0</td>\n",
       "      <td>182.0</td>\n",
       "      <td>182.0</td>\n",
       "    </tr>\n",
       "    <tr>\n",
       "      <td>previous</td>\n",
       "      <td>8257.0</td>\n",
       "      <td>3.177546</td>\n",
       "      <td>4.560820</td>\n",
       "      <td>1.0</td>\n",
       "      <td>1.0</td>\n",
       "      <td>2.0</td>\n",
       "      <td>4.0</td>\n",
       "      <td>275.0</td>\n",
       "    </tr>\n",
       "  </tbody>\n",
       "</table>\n",
       "</div>"
      ],
      "text/plain": [
       "           count        mean          std   min    25%    50%     75%     max\n",
       "age       8257.0   40.127528    10.075831  18.0   33.0   38.0    47.0    70.0\n",
       "balance   8257.0  992.242340  1077.094304   0.0  168.0  602.0  1428.0  5000.0\n",
       "day       8257.0   14.289209     7.919176   1.0    7.0   14.0    20.0    31.0\n",
       "duration  8257.0  260.118687   235.208105   1.0  113.0  193.0   324.0  2219.0\n",
       "campaign  8257.0    1.924549     1.190543   1.0    1.0    2.0     2.0     6.0\n",
       "pdays     8257.0  155.725687    42.995481   1.0  133.0  182.0   182.0   182.0\n",
       "previous  8257.0    3.177546     4.560820   1.0    1.0    2.0     4.0   275.0"
      ]
     },
     "execution_count": 1975,
     "metadata": {},
     "output_type": "execute_result"
    }
   ],
   "source": [
    "BankRaw.previous.describe().transpose()\n",
    "BankRaw[BankRaw['previous']>0].describe().transpose()\n",
    "#There are 8257 records with previous value >0, which is very small representation\n",
    "# Let's replace it with median value"
   ]
  },
  {
   "cell_type": "code",
   "execution_count": 1976,
   "metadata": {},
   "outputs": [
    {
     "data": {
      "text/plain": [
       "0.0"
      ]
     },
     "execution_count": 1976,
     "metadata": {},
     "output_type": "execute_result"
    }
   ],
   "source": [
    "BankRaw.previous.median()#Replacing  outliers with median value "
   ]
  },
  {
   "cell_type": "code",
   "execution_count": 1977,
   "metadata": {},
   "outputs": [
    {
     "data": {
      "text/plain": [
       "count    45211.0\n",
       "mean         0.0\n",
       "std          0.0\n",
       "min          0.0\n",
       "25%          0.0\n",
       "50%          0.0\n",
       "75%          0.0\n",
       "max          0.0\n",
       "Name: previous, dtype: float64"
      ]
     },
     "execution_count": 1977,
     "metadata": {},
     "output_type": "execute_result"
    }
   ],
   "source": [
    "BankRaw[\"previous\"]=np.where(BankRaw[\"previous\"]>0, 0,BankRaw['previous'])\n",
    "BankRaw.previous.describe().transpose()"
   ]
  },
  {
   "cell_type": "code",
   "execution_count": 1978,
   "metadata": {},
   "outputs": [
    {
     "data": {
      "text/html": [
       "<div>\n",
       "<style scoped>\n",
       "    .dataframe tbody tr th:only-of-type {\n",
       "        vertical-align: middle;\n",
       "    }\n",
       "\n",
       "    .dataframe tbody tr th {\n",
       "        vertical-align: top;\n",
       "    }\n",
       "\n",
       "    .dataframe thead th {\n",
       "        text-align: right;\n",
       "    }\n",
       "</style>\n",
       "<table border=\"1\" class=\"dataframe\">\n",
       "  <thead>\n",
       "    <tr style=\"text-align: right;\">\n",
       "      <th></th>\n",
       "      <th>count</th>\n",
       "      <th>mean</th>\n",
       "      <th>std</th>\n",
       "      <th>min</th>\n",
       "      <th>25%</th>\n",
       "      <th>50%</th>\n",
       "      <th>75%</th>\n",
       "      <th>max</th>\n",
       "    </tr>\n",
       "  </thead>\n",
       "  <tbody>\n",
       "    <tr>\n",
       "      <td>age</td>\n",
       "      <td>45211.0</td>\n",
       "      <td>40.528876</td>\n",
       "      <td>9.925626</td>\n",
       "      <td>18.0</td>\n",
       "      <td>33.0</td>\n",
       "      <td>39.0</td>\n",
       "      <td>48.0</td>\n",
       "      <td>70.0</td>\n",
       "    </tr>\n",
       "    <tr>\n",
       "      <td>balance</td>\n",
       "      <td>45211.0</td>\n",
       "      <td>866.262326</td>\n",
       "      <td>1044.015957</td>\n",
       "      <td>0.0</td>\n",
       "      <td>72.0</td>\n",
       "      <td>448.0</td>\n",
       "      <td>1428.0</td>\n",
       "      <td>5000.0</td>\n",
       "    </tr>\n",
       "    <tr>\n",
       "      <td>day</td>\n",
       "      <td>45211.0</td>\n",
       "      <td>15.806419</td>\n",
       "      <td>8.322476</td>\n",
       "      <td>1.0</td>\n",
       "      <td>8.0</td>\n",
       "      <td>16.0</td>\n",
       "      <td>21.0</td>\n",
       "      <td>31.0</td>\n",
       "    </tr>\n",
       "    <tr>\n",
       "      <td>duration</td>\n",
       "      <td>45211.0</td>\n",
       "      <td>258.163080</td>\n",
       "      <td>257.527812</td>\n",
       "      <td>0.0</td>\n",
       "      <td>103.0</td>\n",
       "      <td>180.0</td>\n",
       "      <td>319.0</td>\n",
       "      <td>4918.0</td>\n",
       "    </tr>\n",
       "    <tr>\n",
       "      <td>campaign</td>\n",
       "      <td>45211.0</td>\n",
       "      <td>2.188914</td>\n",
       "      <td>1.289155</td>\n",
       "      <td>1.0</td>\n",
       "      <td>1.0</td>\n",
       "      <td>2.0</td>\n",
       "      <td>3.0</td>\n",
       "      <td>6.0</td>\n",
       "    </tr>\n",
       "    <tr>\n",
       "      <td>pdays</td>\n",
       "      <td>45211.0</td>\n",
       "      <td>28.440579</td>\n",
       "      <td>62.910455</td>\n",
       "      <td>0.0</td>\n",
       "      <td>0.0</td>\n",
       "      <td>0.0</td>\n",
       "      <td>0.0</td>\n",
       "      <td>182.0</td>\n",
       "    </tr>\n",
       "    <tr>\n",
       "      <td>previous</td>\n",
       "      <td>45211.0</td>\n",
       "      <td>0.000000</td>\n",
       "      <td>0.000000</td>\n",
       "      <td>0.0</td>\n",
       "      <td>0.0</td>\n",
       "      <td>0.0</td>\n",
       "      <td>0.0</td>\n",
       "      <td>0.0</td>\n",
       "    </tr>\n",
       "  </tbody>\n",
       "</table>\n",
       "</div>"
      ],
      "text/plain": [
       "            count        mean          std   min    25%    50%     75%     max\n",
       "age       45211.0   40.528876     9.925626  18.0   33.0   39.0    48.0    70.0\n",
       "balance   45211.0  866.262326  1044.015957   0.0   72.0  448.0  1428.0  5000.0\n",
       "day       45211.0   15.806419     8.322476   1.0    8.0   16.0    21.0    31.0\n",
       "duration  45211.0  258.163080   257.527812   0.0  103.0  180.0   319.0  4918.0\n",
       "campaign  45211.0    2.188914     1.289155   1.0    1.0    2.0     3.0     6.0\n",
       "pdays     45211.0   28.440579    62.910455   0.0    0.0    0.0     0.0   182.0\n",
       "previous  45211.0    0.000000     0.000000   0.0    0.0    0.0     0.0     0.0"
      ]
     },
     "execution_count": 1978,
     "metadata": {},
     "output_type": "execute_result"
    }
   ],
   "source": [
    "BankRaw.describe().transpose()#Verifying if all -ve values and outliers are replaced in data set"
   ]
  },
  {
   "cell_type": "code",
   "execution_count": 1979,
   "metadata": {},
   "outputs": [
    {
     "data": {
      "text/plain": [
       "(False, False, <matplotlib.axes._subplots.AxesSubplot at 0x1bc60dc550>)"
      ]
     },
     "execution_count": 1979,
     "metadata": {},
     "output_type": "execute_result"
    },
    {
     "data": {
      "image/png": "[encoded data removed]",
      "text/plain": [
       "<Figure size 432x288 with 1 Axes>"
      ]
     },
     "metadata": {
      "needs_background": "light"
     },
     "output_type": "display_data"
    }
   ],
   "source": [
    "#Confirming if any na/nan/null values are not added to data set after replacement\n",
    "BankRaw.isna().sum()\n",
    "BankRaw.isnull().values.any(),BankRaw.isna().values.any()\n",
    "BankRaw.isnull().values.any(),BankRaw.isna().values.any(),sns.heatmap(BankRaw.isnull(),yticklabels=False,cbar=False,cmap='viridis')"
   ]
  },
  {
   "cell_type": "code",
   "execution_count": 1980,
   "metadata": {},
   "outputs": [
    {
     "data": {
      "text/html": [
       "<div>\n",
       "<style scoped>\n",
       "    .dataframe tbody tr th:only-of-type {\n",
       "        vertical-align: middle;\n",
       "    }\n",
       "\n",
       "    .dataframe tbody tr th {\n",
       "        vertical-align: top;\n",
       "    }\n",
       "\n",
       "    .dataframe thead th {\n",
       "        text-align: right;\n",
       "    }\n",
       "</style>\n",
       "<table border=\"1\" class=\"dataframe\">\n",
       "  <thead>\n",
       "    <tr style=\"text-align: right;\">\n",
       "      <th></th>\n",
       "      <th>age</th>\n",
       "      <th>job</th>\n",
       "      <th>marital</th>\n",
       "      <th>education</th>\n",
       "      <th>default</th>\n",
       "      <th>balance</th>\n",
       "      <th>housing</th>\n",
       "      <th>loan</th>\n",
       "      <th>contact</th>\n",
       "      <th>day</th>\n",
       "      <th>month</th>\n",
       "      <th>duration</th>\n",
       "      <th>campaign</th>\n",
       "      <th>pdays</th>\n",
       "      <th>previous</th>\n",
       "      <th>poutcome</th>\n",
       "      <th>Target</th>\n",
       "    </tr>\n",
       "  </thead>\n",
       "  <tbody>\n",
       "    <tr>\n",
       "      <td>0</td>\n",
       "      <td>58</td>\n",
       "      <td>management</td>\n",
       "      <td>married</td>\n",
       "      <td>tertiary</td>\n",
       "      <td>no</td>\n",
       "      <td>2143</td>\n",
       "      <td>yes</td>\n",
       "      <td>no</td>\n",
       "      <td>unknown</td>\n",
       "      <td>5</td>\n",
       "      <td>may</td>\n",
       "      <td>261</td>\n",
       "      <td>1</td>\n",
       "      <td>0</td>\n",
       "      <td>0</td>\n",
       "      <td>unknown</td>\n",
       "      <td>no</td>\n",
       "    </tr>\n",
       "    <tr>\n",
       "      <td>1</td>\n",
       "      <td>44</td>\n",
       "      <td>technician</td>\n",
       "      <td>single</td>\n",
       "      <td>secondary</td>\n",
       "      <td>no</td>\n",
       "      <td>29</td>\n",
       "      <td>yes</td>\n",
       "      <td>no</td>\n",
       "      <td>unknown</td>\n",
       "      <td>5</td>\n",
       "      <td>may</td>\n",
       "      <td>151</td>\n",
       "      <td>1</td>\n",
       "      <td>0</td>\n",
       "      <td>0</td>\n",
       "      <td>unknown</td>\n",
       "      <td>no</td>\n",
       "    </tr>\n",
       "    <tr>\n",
       "      <td>2</td>\n",
       "      <td>33</td>\n",
       "      <td>entrepreneur</td>\n",
       "      <td>married</td>\n",
       "      <td>secondary</td>\n",
       "      <td>no</td>\n",
       "      <td>2</td>\n",
       "      <td>yes</td>\n",
       "      <td>yes</td>\n",
       "      <td>unknown</td>\n",
       "      <td>5</td>\n",
       "      <td>may</td>\n",
       "      <td>76</td>\n",
       "      <td>1</td>\n",
       "      <td>0</td>\n",
       "      <td>0</td>\n",
       "      <td>unknown</td>\n",
       "      <td>no</td>\n",
       "    </tr>\n",
       "    <tr>\n",
       "      <td>3</td>\n",
       "      <td>47</td>\n",
       "      <td>blue-collar</td>\n",
       "      <td>married</td>\n",
       "      <td>unknown</td>\n",
       "      <td>no</td>\n",
       "      <td>1506</td>\n",
       "      <td>yes</td>\n",
       "      <td>no</td>\n",
       "      <td>unknown</td>\n",
       "      <td>5</td>\n",
       "      <td>may</td>\n",
       "      <td>92</td>\n",
       "      <td>1</td>\n",
       "      <td>0</td>\n",
       "      <td>0</td>\n",
       "      <td>unknown</td>\n",
       "      <td>no</td>\n",
       "    </tr>\n",
       "    <tr>\n",
       "      <td>4</td>\n",
       "      <td>33</td>\n",
       "      <td>unknown</td>\n",
       "      <td>single</td>\n",
       "      <td>unknown</td>\n",
       "      <td>no</td>\n",
       "      <td>1</td>\n",
       "      <td>no</td>\n",
       "      <td>no</td>\n",
       "      <td>unknown</td>\n",
       "      <td>5</td>\n",
       "      <td>may</td>\n",
       "      <td>198</td>\n",
       "      <td>1</td>\n",
       "      <td>0</td>\n",
       "      <td>0</td>\n",
       "      <td>unknown</td>\n",
       "      <td>no</td>\n",
       "    </tr>\n",
       "  </tbody>\n",
       "</table>\n",
       "</div>"
      ],
      "text/plain": [
       "   age           job  marital  education default  balance housing loan  \\\n",
       "0   58    management  married   tertiary      no     2143     yes   no   \n",
       "1   44    technician   single  secondary      no       29     yes   no   \n",
       "2   33  entrepreneur  married  secondary      no        2     yes  yes   \n",
       "3   47   blue-collar  married    unknown      no     1506     yes   no   \n",
       "4   33       unknown   single    unknown      no        1      no   no   \n",
       "\n",
       "   contact  day month  duration  campaign  pdays  previous poutcome Target  \n",
       "0  unknown    5   may       261         1      0         0  unknown     no  \n",
       "1  unknown    5   may       151         1      0         0  unknown     no  \n",
       "2  unknown    5   may        76         1      0         0  unknown     no  \n",
       "3  unknown    5   may        92         1      0         0  unknown     no  \n",
       "4  unknown    5   may       198         1      0         0  unknown     no  "
      ]
     },
     "execution_count": 1980,
     "metadata": {},
     "output_type": "execute_result"
    }
   ],
   "source": [
    "#Confirming all columns are present after data treatment\n",
    "BankRaw.head()"
   ]
  },
  {
   "cell_type": "code",
   "execution_count": 1981,
   "metadata": {},
   "outputs": [],
   "source": [
    "#Check for appropriate data types and make changes if required\n",
    "#We have categorical values which needs to be represnted in numeric format\n",
    "#We will use labelling for variables like education, month,default,housing,loan and target as these variables has significance w.r.t sequence/ranking involved\n",
    "#We will use one-hot encoding for variables like job,marital,contact,poutcome as these variables \n",
    "#does not have any significance w.r.t sequence/ranking"
   ]
  },
  {
   "cell_type": "code",
   "execution_count": 1982,
   "metadata": {},
   "outputs": [],
   "source": [
    "#Labelling the categorical variables\n",
    "cleanup_nums = { \"education\":     {\"primary\": 1, \"secondary\": 2 ,\"tertiary\": 3 ,\"unknown\": -1},\n",
    "                 \"housing\":       {\"no\": 0,\"yes\": 1},\n",
    "                 \"loan\":          {\"no\": 0, \"yes\": 1},\n",
    "                 \"default\":       {\"no\": 0, \"yes\": 1},\n",
    "                 \"Target\":        {\"no\": 0, \"yes\": 1},\n",
    "                 \"month\":         {\"jan\": 1, \"feb\": 2, \"mar\": 3, \"apr\": 4, \"may\": 5, \"jun\": 6,\n",
    "                                  \"jul\": 7, \"aug\": 8, \"sep\": 9, \"oct\": 10, \"nov\": 11, \"dec\": 12}}\n",
    "               \n"
   ]
  },
  {
   "cell_type": "code",
   "execution_count": 1983,
   "metadata": {},
   "outputs": [
    {
     "data": {
      "text/html": [
       "<div>\n",
       "<style scoped>\n",
       "    .dataframe tbody tr th:only-of-type {\n",
       "        vertical-align: middle;\n",
       "    }\n",
       "\n",
       "    .dataframe tbody tr th {\n",
       "        vertical-align: top;\n",
       "    }\n",
       "\n",
       "    .dataframe thead th {\n",
       "        text-align: right;\n",
       "    }\n",
       "</style>\n",
       "<table border=\"1\" class=\"dataframe\">\n",
       "  <thead>\n",
       "    <tr style=\"text-align: right;\">\n",
       "      <th></th>\n",
       "      <th>age</th>\n",
       "      <th>job</th>\n",
       "      <th>marital</th>\n",
       "      <th>education</th>\n",
       "      <th>default</th>\n",
       "      <th>balance</th>\n",
       "      <th>housing</th>\n",
       "      <th>loan</th>\n",
       "      <th>contact</th>\n",
       "      <th>day</th>\n",
       "      <th>month</th>\n",
       "      <th>duration</th>\n",
       "      <th>campaign</th>\n",
       "      <th>pdays</th>\n",
       "      <th>previous</th>\n",
       "      <th>poutcome</th>\n",
       "      <th>Target</th>\n",
       "    </tr>\n",
       "  </thead>\n",
       "  <tbody>\n",
       "    <tr>\n",
       "      <td>0</td>\n",
       "      <td>58</td>\n",
       "      <td>management</td>\n",
       "      <td>married</td>\n",
       "      <td>3</td>\n",
       "      <td>0</td>\n",
       "      <td>2143</td>\n",
       "      <td>1</td>\n",
       "      <td>0</td>\n",
       "      <td>unknown</td>\n",
       "      <td>5</td>\n",
       "      <td>5</td>\n",
       "      <td>261</td>\n",
       "      <td>1</td>\n",
       "      <td>0</td>\n",
       "      <td>0</td>\n",
       "      <td>unknown</td>\n",
       "      <td>0</td>\n",
       "    </tr>\n",
       "    <tr>\n",
       "      <td>1</td>\n",
       "      <td>44</td>\n",
       "      <td>technician</td>\n",
       "      <td>single</td>\n",
       "      <td>2</td>\n",
       "      <td>0</td>\n",
       "      <td>29</td>\n",
       "      <td>1</td>\n",
       "      <td>0</td>\n",
       "      <td>unknown</td>\n",
       "      <td>5</td>\n",
       "      <td>5</td>\n",
       "      <td>151</td>\n",
       "      <td>1</td>\n",
       "      <td>0</td>\n",
       "      <td>0</td>\n",
       "      <td>unknown</td>\n",
       "      <td>0</td>\n",
       "    </tr>\n",
       "    <tr>\n",
       "      <td>2</td>\n",
       "      <td>33</td>\n",
       "      <td>entrepreneur</td>\n",
       "      <td>married</td>\n",
       "      <td>2</td>\n",
       "      <td>0</td>\n",
       "      <td>2</td>\n",
       "      <td>1</td>\n",
       "      <td>1</td>\n",
       "      <td>unknown</td>\n",
       "      <td>5</td>\n",
       "      <td>5</td>\n",
       "      <td>76</td>\n",
       "      <td>1</td>\n",
       "      <td>0</td>\n",
       "      <td>0</td>\n",
       "      <td>unknown</td>\n",
       "      <td>0</td>\n",
       "    </tr>\n",
       "    <tr>\n",
       "      <td>3</td>\n",
       "      <td>47</td>\n",
       "      <td>blue-collar</td>\n",
       "      <td>married</td>\n",
       "      <td>-1</td>\n",
       "      <td>0</td>\n",
       "      <td>1506</td>\n",
       "      <td>1</td>\n",
       "      <td>0</td>\n",
       "      <td>unknown</td>\n",
       "      <td>5</td>\n",
       "      <td>5</td>\n",
       "      <td>92</td>\n",
       "      <td>1</td>\n",
       "      <td>0</td>\n",
       "      <td>0</td>\n",
       "      <td>unknown</td>\n",
       "      <td>0</td>\n",
       "    </tr>\n",
       "    <tr>\n",
       "      <td>4</td>\n",
       "      <td>33</td>\n",
       "      <td>unknown</td>\n",
       "      <td>single</td>\n",
       "      <td>-1</td>\n",
       "      <td>0</td>\n",
       "      <td>1</td>\n",
       "      <td>0</td>\n",
       "      <td>0</td>\n",
       "      <td>unknown</td>\n",
       "      <td>5</td>\n",
       "      <td>5</td>\n",
       "      <td>198</td>\n",
       "      <td>1</td>\n",
       "      <td>0</td>\n",
       "      <td>0</td>\n",
       "      <td>unknown</td>\n",
       "      <td>0</td>\n",
       "    </tr>\n",
       "    <tr>\n",
       "      <td>5</td>\n",
       "      <td>35</td>\n",
       "      <td>management</td>\n",
       "      <td>married</td>\n",
       "      <td>3</td>\n",
       "      <td>0</td>\n",
       "      <td>231</td>\n",
       "      <td>1</td>\n",
       "      <td>0</td>\n",
       "      <td>unknown</td>\n",
       "      <td>5</td>\n",
       "      <td>5</td>\n",
       "      <td>139</td>\n",
       "      <td>1</td>\n",
       "      <td>0</td>\n",
       "      <td>0</td>\n",
       "      <td>unknown</td>\n",
       "      <td>0</td>\n",
       "    </tr>\n",
       "    <tr>\n",
       "      <td>6</td>\n",
       "      <td>28</td>\n",
       "      <td>management</td>\n",
       "      <td>single</td>\n",
       "      <td>3</td>\n",
       "      <td>0</td>\n",
       "      <td>447</td>\n",
       "      <td>1</td>\n",
       "      <td>1</td>\n",
       "      <td>unknown</td>\n",
       "      <td>5</td>\n",
       "      <td>5</td>\n",
       "      <td>217</td>\n",
       "      <td>1</td>\n",
       "      <td>0</td>\n",
       "      <td>0</td>\n",
       "      <td>unknown</td>\n",
       "      <td>0</td>\n",
       "    </tr>\n",
       "    <tr>\n",
       "      <td>7</td>\n",
       "      <td>42</td>\n",
       "      <td>entrepreneur</td>\n",
       "      <td>divorced</td>\n",
       "      <td>3</td>\n",
       "      <td>1</td>\n",
       "      <td>2</td>\n",
       "      <td>1</td>\n",
       "      <td>0</td>\n",
       "      <td>unknown</td>\n",
       "      <td>5</td>\n",
       "      <td>5</td>\n",
       "      <td>380</td>\n",
       "      <td>1</td>\n",
       "      <td>0</td>\n",
       "      <td>0</td>\n",
       "      <td>unknown</td>\n",
       "      <td>0</td>\n",
       "    </tr>\n",
       "    <tr>\n",
       "      <td>8</td>\n",
       "      <td>58</td>\n",
       "      <td>retired</td>\n",
       "      <td>married</td>\n",
       "      <td>1</td>\n",
       "      <td>0</td>\n",
       "      <td>121</td>\n",
       "      <td>1</td>\n",
       "      <td>0</td>\n",
       "      <td>unknown</td>\n",
       "      <td>5</td>\n",
       "      <td>5</td>\n",
       "      <td>50</td>\n",
       "      <td>1</td>\n",
       "      <td>0</td>\n",
       "      <td>0</td>\n",
       "      <td>unknown</td>\n",
       "      <td>0</td>\n",
       "    </tr>\n",
       "    <tr>\n",
       "      <td>9</td>\n",
       "      <td>43</td>\n",
       "      <td>technician</td>\n",
       "      <td>single</td>\n",
       "      <td>2</td>\n",
       "      <td>0</td>\n",
       "      <td>593</td>\n",
       "      <td>1</td>\n",
       "      <td>0</td>\n",
       "      <td>unknown</td>\n",
       "      <td>5</td>\n",
       "      <td>5</td>\n",
       "      <td>55</td>\n",
       "      <td>1</td>\n",
       "      <td>0</td>\n",
       "      <td>0</td>\n",
       "      <td>unknown</td>\n",
       "      <td>0</td>\n",
       "    </tr>\n",
       "  </tbody>\n",
       "</table>\n",
       "</div>"
      ],
      "text/plain": [
       "   age           job   marital  education  default  balance  housing  loan  \\\n",
       "0   58    management   married          3        0     2143        1     0   \n",
       "1   44    technician    single          2        0       29        1     0   \n",
       "2   33  entrepreneur   married          2        0        2        1     1   \n",
       "3   47   blue-collar   married         -1        0     1506        1     0   \n",
       "4   33       unknown    single         -1        0        1        0     0   \n",
       "5   35    management   married          3        0      231        1     0   \n",
       "6   28    management    single          3        0      447        1     1   \n",
       "7   42  entrepreneur  divorced          3        1        2        1     0   \n",
       "8   58       retired   married          1        0      121        1     0   \n",
       "9   43    technician    single          2        0      593        1     0   \n",
       "\n",
       "   contact  day  month  duration  campaign  pdays  previous poutcome  Target  \n",
       "0  unknown    5      5       261         1      0         0  unknown       0  \n",
       "1  unknown    5      5       151         1      0         0  unknown       0  \n",
       "2  unknown    5      5        76         1      0         0  unknown       0  \n",
       "3  unknown    5      5        92         1      0         0  unknown       0  \n",
       "4  unknown    5      5       198         1      0         0  unknown       0  \n",
       "5  unknown    5      5       139         1      0         0  unknown       0  \n",
       "6  unknown    5      5       217         1      0         0  unknown       0  \n",
       "7  unknown    5      5       380         1      0         0  unknown       0  \n",
       "8  unknown    5      5        50         1      0         0  unknown       0  \n",
       "9  unknown    5      5        55         1      0         0  unknown       0  "
      ]
     },
     "execution_count": 1983,
     "metadata": {},
     "output_type": "execute_result"
    }
   ],
   "source": [
    "#Replacing in the data set\n",
    "BankRaw.replace(cleanup_nums, inplace=True)\n",
    "BankRaw.head(10)\n",
    "#Inference: Labelling and replacement is reflecting successfully"
   ]
  },
  {
   "cell_type": "code",
   "execution_count": 1984,
   "metadata": {},
   "outputs": [
    {
     "data": {
      "text/html": [
       "<div>\n",
       "<style scoped>\n",
       "    .dataframe tbody tr th:only-of-type {\n",
       "        vertical-align: middle;\n",
       "    }\n",
       "\n",
       "    .dataframe tbody tr th {\n",
       "        vertical-align: top;\n",
       "    }\n",
       "\n",
       "    .dataframe thead th {\n",
       "        text-align: right;\n",
       "    }\n",
       "</style>\n",
       "<table border=\"1\" class=\"dataframe\">\n",
       "  <thead>\n",
       "    <tr style=\"text-align: right;\">\n",
       "      <th></th>\n",
       "      <th>age</th>\n",
       "      <th>education</th>\n",
       "      <th>default</th>\n",
       "      <th>balance</th>\n",
       "      <th>housing</th>\n",
       "      <th>loan</th>\n",
       "      <th>day</th>\n",
       "      <th>month</th>\n",
       "      <th>duration</th>\n",
       "      <th>campaign</th>\n",
       "      <th>...</th>\n",
       "      <th>marital_divorced</th>\n",
       "      <th>marital_married</th>\n",
       "      <th>marital_single</th>\n",
       "      <th>contact_cellular</th>\n",
       "      <th>contact_telephone</th>\n",
       "      <th>contact_unknown</th>\n",
       "      <th>poutcome_failure</th>\n",
       "      <th>poutcome_other</th>\n",
       "      <th>poutcome_success</th>\n",
       "      <th>poutcome_unknown</th>\n",
       "    </tr>\n",
       "  </thead>\n",
       "  <tbody>\n",
       "    <tr>\n",
       "      <td>0</td>\n",
       "      <td>58</td>\n",
       "      <td>3</td>\n",
       "      <td>0</td>\n",
       "      <td>2143</td>\n",
       "      <td>1</td>\n",
       "      <td>0</td>\n",
       "      <td>5</td>\n",
       "      <td>5</td>\n",
       "      <td>261</td>\n",
       "      <td>1</td>\n",
       "      <td>...</td>\n",
       "      <td>0</td>\n",
       "      <td>1</td>\n",
       "      <td>0</td>\n",
       "      <td>0</td>\n",
       "      <td>0</td>\n",
       "      <td>1</td>\n",
       "      <td>0</td>\n",
       "      <td>0</td>\n",
       "      <td>0</td>\n",
       "      <td>1</td>\n",
       "    </tr>\n",
       "    <tr>\n",
       "      <td>1</td>\n",
       "      <td>44</td>\n",
       "      <td>2</td>\n",
       "      <td>0</td>\n",
       "      <td>29</td>\n",
       "      <td>1</td>\n",
       "      <td>0</td>\n",
       "      <td>5</td>\n",
       "      <td>5</td>\n",
       "      <td>151</td>\n",
       "      <td>1</td>\n",
       "      <td>...</td>\n",
       "      <td>0</td>\n",
       "      <td>0</td>\n",
       "      <td>1</td>\n",
       "      <td>0</td>\n",
       "      <td>0</td>\n",
       "      <td>1</td>\n",
       "      <td>0</td>\n",
       "      <td>0</td>\n",
       "      <td>0</td>\n",
       "      <td>1</td>\n",
       "    </tr>\n",
       "    <tr>\n",
       "      <td>2</td>\n",
       "      <td>33</td>\n",
       "      <td>2</td>\n",
       "      <td>0</td>\n",
       "      <td>2</td>\n",
       "      <td>1</td>\n",
       "      <td>1</td>\n",
       "      <td>5</td>\n",
       "      <td>5</td>\n",
       "      <td>76</td>\n",
       "      <td>1</td>\n",
       "      <td>...</td>\n",
       "      <td>0</td>\n",
       "      <td>1</td>\n",
       "      <td>0</td>\n",
       "      <td>0</td>\n",
       "      <td>0</td>\n",
       "      <td>1</td>\n",
       "      <td>0</td>\n",
       "      <td>0</td>\n",
       "      <td>0</td>\n",
       "      <td>1</td>\n",
       "    </tr>\n",
       "    <tr>\n",
       "      <td>3</td>\n",
       "      <td>47</td>\n",
       "      <td>-1</td>\n",
       "      <td>0</td>\n",
       "      <td>1506</td>\n",
       "      <td>1</td>\n",
       "      <td>0</td>\n",
       "      <td>5</td>\n",
       "      <td>5</td>\n",
       "      <td>92</td>\n",
       "      <td>1</td>\n",
       "      <td>...</td>\n",
       "      <td>0</td>\n",
       "      <td>1</td>\n",
       "      <td>0</td>\n",
       "      <td>0</td>\n",
       "      <td>0</td>\n",
       "      <td>1</td>\n",
       "      <td>0</td>\n",
       "      <td>0</td>\n",
       "      <td>0</td>\n",
       "      <td>1</td>\n",
       "    </tr>\n",
       "    <tr>\n",
       "      <td>4</td>\n",
       "      <td>33</td>\n",
       "      <td>-1</td>\n",
       "      <td>0</td>\n",
       "      <td>1</td>\n",
       "      <td>0</td>\n",
       "      <td>0</td>\n",
       "      <td>5</td>\n",
       "      <td>5</td>\n",
       "      <td>198</td>\n",
       "      <td>1</td>\n",
       "      <td>...</td>\n",
       "      <td>0</td>\n",
       "      <td>0</td>\n",
       "      <td>1</td>\n",
       "      <td>0</td>\n",
       "      <td>0</td>\n",
       "      <td>1</td>\n",
       "      <td>0</td>\n",
       "      <td>0</td>\n",
       "      <td>0</td>\n",
       "      <td>1</td>\n",
       "    </tr>\n",
       "  </tbody>\n",
       "</table>\n",
       "<p>5 rows × 35 columns</p>\n",
       "</div>"
      ],
      "text/plain": [
       "   age  education  default  balance  housing  loan  day  month  duration  \\\n",
       "0   58          3        0     2143        1     0    5      5       261   \n",
       "1   44          2        0       29        1     0    5      5       151   \n",
       "2   33          2        0        2        1     1    5      5        76   \n",
       "3   47         -1        0     1506        1     0    5      5        92   \n",
       "4   33         -1        0        1        0     0    5      5       198   \n",
       "\n",
       "   campaign  ...  marital_divorced  marital_married  marital_single  \\\n",
       "0         1  ...                 0                1               0   \n",
       "1         1  ...                 0                0               1   \n",
       "2         1  ...                 0                1               0   \n",
       "3         1  ...                 0                1               0   \n",
       "4         1  ...                 0                0               1   \n",
       "\n",
       "   contact_cellular  contact_telephone  contact_unknown  poutcome_failure  \\\n",
       "0                 0                  0                1                 0   \n",
       "1                 0                  0                1                 0   \n",
       "2                 0                  0                1                 0   \n",
       "3                 0                  0                1                 0   \n",
       "4                 0                  0                1                 0   \n",
       "\n",
       "   poutcome_other  poutcome_success  poutcome_unknown  \n",
       "0               0                 0                 1  \n",
       "1               0                 0                 1  \n",
       "2               0                 0                 1  \n",
       "3               0                 0                 1  \n",
       "4               0                 0                 1  \n",
       "\n",
       "[5 rows x 35 columns]"
      ]
     },
     "execution_count": 1984,
     "metadata": {},
     "output_type": "execute_result"
    }
   ],
   "source": [
    "#Proceeding with one hot encoding\n",
    "#from sklearn.feature_extraction.text import CountVectorizer \n",
    "oneHotCols= [\"job\",\"marital\",\"contact\",\"poutcome\"]\n",
    "BankRaw=pd.get_dummies(BankRaw, columns=oneHotCols)\n",
    "BankRaw.head()"
   ]
  },
  {
   "cell_type": "code",
   "execution_count": 1985,
   "metadata": {},
   "outputs": [
    {
     "name": "stdout",
     "output_type": "stream",
     "text": [
      "<class 'pandas.core.frame.DataFrame'>\n",
      "RangeIndex: 45211 entries, 0 to 45210\n",
      "Data columns (total 35 columns):\n",
      "age                  45211 non-null int64\n",
      "education            45211 non-null int64\n",
      "default              45211 non-null int64\n",
      "balance              45211 non-null int64\n",
      "housing              45211 non-null int64\n",
      "loan                 45211 non-null int64\n",
      "day                  45211 non-null int64\n",
      "month                45211 non-null int64\n",
      "duration             45211 non-null int64\n",
      "campaign             45211 non-null int64\n",
      "pdays                45211 non-null int64\n",
      "previous             45211 non-null int64\n",
      "Target               45211 non-null int64\n",
      "job_admin.           45211 non-null uint8\n",
      "job_blue-collar      45211 non-null uint8\n",
      "job_entrepreneur     45211 non-null uint8\n",
      "job_housemaid        45211 non-null uint8\n",
      "job_management       45211 non-null uint8\n",
      "job_retired          45211 non-null uint8\n",
      "job_self-employed    45211 non-null uint8\n",
      "job_services         45211 non-null uint8\n",
      "job_student          45211 non-null uint8\n",
      "job_technician       45211 non-null uint8\n",
      "job_unemployed       45211 non-null uint8\n",
      "job_unknown          45211 non-null uint8\n",
      "marital_divorced     45211 non-null uint8\n",
      "marital_married      45211 non-null uint8\n",
      "marital_single       45211 non-null uint8\n",
      "contact_cellular     45211 non-null uint8\n",
      "contact_telephone    45211 non-null uint8\n",
      "contact_unknown      45211 non-null uint8\n",
      "poutcome_failure     45211 non-null uint8\n",
      "poutcome_other       45211 non-null uint8\n",
      "poutcome_success     45211 non-null uint8\n",
      "poutcome_unknown     45211 non-null uint8\n",
      "dtypes: int64(13), uint8(22)\n",
      "memory usage: 5.4 MB\n"
     ]
    }
   ],
   "source": [
    "BankRaw.info()\n",
    "#Inference: All categorical values are replaced with numeric values and same is confirmed below\n",
    "#We are all set to proceed with modelling as all required data treatments are completed"
   ]
  },
  {
   "cell_type": "code",
   "execution_count": 1986,
   "metadata": {},
   "outputs": [],
   "source": [
    "# Droping duration column as it is highly impacting the accuracy of model (mentioned in the instructions)\n",
    "Bank=BankRaw.drop('duration',axis=1)"
   ]
  },
  {
   "cell_type": "code",
   "execution_count": 1987,
   "metadata": {},
   "outputs": [
    {
     "data": {
      "text/plain": [
       "(       age  education  default  balance  housing  loan  day  month  campaign  \\\n",
       " 24951   58          1        0     1021        0     0   18     11         1   \n",
       " 22129   55         -1        0      196        0     0   21      8         2   \n",
       " 986     50          2        0      159        1     0    7      5         2   \n",
       " 14999   43          1        0     1880        1     0   17      7         6   \n",
       " 4027    53          3        0      647        1     0   16      5         6   \n",
       " ...    ...        ...      ...      ...      ...   ...  ...    ...       ...   \n",
       " 30403   35          3        0      995        0     0    5      2         1   \n",
       " 21243   35          3        0      750        1     0   18      8         3   \n",
       " 42613   35          3        0      323        0     0   11      1         2   \n",
       " 43567   70          2        0      616        0     0   27      4         2   \n",
       " 2732    46          2        0       57        1     0   14      5         4   \n",
       " \n",
       "        pdays  ...  marital_divorced  marital_married  marital_single  \\\n",
       " 24951      0  ...                 0                1               0   \n",
       " 22129      0  ...                 0                1               0   \n",
       " 986        0  ...                 0                1               0   \n",
       " 14999      0  ...                 0                1               0   \n",
       " 4027       0  ...                 1                0               0   \n",
       " ...      ...  ...               ...              ...             ...   \n",
       " 30403      0  ...                 0                0               1   \n",
       " 21243      0  ...                 0                1               0   \n",
       " 42613      0  ...                 0                1               0   \n",
       " 43567    182  ...                 0                1               0   \n",
       " 2732       0  ...                 0                0               1   \n",
       " \n",
       "        contact_cellular  contact_telephone  contact_unknown  poutcome_failure  \\\n",
       " 24951                 0                  0                1                 0   \n",
       " 22129                 1                  0                0                 0   \n",
       " 986                   0                  0                1                 0   \n",
       " 14999                 1                  0                0                 0   \n",
       " 4027                  0                  0                1                 0   \n",
       " ...                 ...                ...              ...               ...   \n",
       " 30403                 1                  0                0                 0   \n",
       " 21243                 1                  0                0                 0   \n",
       " 42613                 1                  0                0                 0   \n",
       " 43567                 1                  0                0                 1   \n",
       " 2732                  0                  0                1                 0   \n",
       " \n",
       "        poutcome_other  poutcome_success  poutcome_unknown  \n",
       " 24951               0                 0                 1  \n",
       " 22129               0                 0                 1  \n",
       " 986                 0                 0                 1  \n",
       " 14999               0                 0                 1  \n",
       " 4027                0                 0                 1  \n",
       " ...               ...               ...               ...  \n",
       " 30403               0                 0                 1  \n",
       " 21243               0                 0                 1  \n",
       " 42613               0                 0                 1  \n",
       " 43567               0                 0                 0  \n",
       " 2732                0                 0                 1  \n",
       " \n",
       " [31647 rows x 33 columns],\n",
       "        age  education  default  balance  housing  loan  day  month  campaign  \\\n",
       " 14001   37          3        0     1403        1     0   10      7         3   \n",
       " 32046   36          2        0       72        1     0   14      4         1   \n",
       " 13318   47          1        0       72        0     1    8      7         5   \n",
       " 42991   57          1        0      501        1     1   11      2         3   \n",
       " 14237   33          2        1       72        1     1   14      7         2   \n",
       " ...    ...        ...      ...      ...      ...   ...  ...    ...       ...   \n",
       " 2666    31          3        0        0        1     1   13      5         2   \n",
       " 35730   48          2        0     1428        1     0    8      5         1   \n",
       " 11495   39          3        0        4        1     1   19      6         1   \n",
       " 20975   42          3        0     1428        0     1   14      8         2   \n",
       " 31975   38          2        0     1663        1     0   13      4         3   \n",
       " \n",
       "        pdays  ...  marital_divorced  marital_married  marital_single  \\\n",
       " 14001      0  ...                 0                1               0   \n",
       " 32046      0  ...                 0                0               1   \n",
       " 13318      0  ...                 0                1               0   \n",
       " 42991    182  ...                 0                1               0   \n",
       " 14237      0  ...                 0                1               0   \n",
       " ...      ...  ...               ...              ...             ...   \n",
       " 2666       0  ...                 0                1               0   \n",
       " 35730      0  ...                 0                1               0   \n",
       " 11495      0  ...                 0                1               0   \n",
       " 20975      0  ...                 0                1               0   \n",
       " 31975    182  ...                 0                1               0   \n",
       " \n",
       "        contact_cellular  contact_telephone  contact_unknown  poutcome_failure  \\\n",
       " 14001                 1                  0                0                 0   \n",
       " 32046                 1                  0                0                 0   \n",
       " 13318                 0                  1                0                 0   \n",
       " 42991                 1                  0                0                 1   \n",
       " 14237                 1                  0                0                 0   \n",
       " ...                 ...                ...              ...               ...   \n",
       " 2666                  0                  0                1                 0   \n",
       " 35730                 0                  1                0                 0   \n",
       " 11495                 0                  0                1                 0   \n",
       " 20975                 1                  0                0                 0   \n",
       " 31975                 1                  0                0                 1   \n",
       " \n",
       "        poutcome_other  poutcome_success  poutcome_unknown  \n",
       " 14001               0                 0                 1  \n",
       " 32046               0                 0                 1  \n",
       " 13318               0                 0                 1  \n",
       " 42991               0                 0                 0  \n",
       " 14237               0                 0                 1  \n",
       " ...               ...               ...               ...  \n",
       " 2666                0                 0                 1  \n",
       " 35730               0                 0                 1  \n",
       " 11495               0                 0                 1  \n",
       " 20975               0                 0                 1  \n",
       " 31975               0                 0                 0  \n",
       " \n",
       " [13564 rows x 33 columns],\n",
       " 24951    0\n",
       " 22129    0\n",
       " 986      0\n",
       " 14999    0\n",
       " 4027     0\n",
       "         ..\n",
       " 30403    0\n",
       " 21243    0\n",
       " 42613    1\n",
       " 43567    0\n",
       " 2732     0\n",
       " Name: Target, Length: 31647, dtype: int64,\n",
       " 14001    0\n",
       " 32046    1\n",
       " 13318    0\n",
       " 42991    0\n",
       " 14237    0\n",
       "         ..\n",
       " 2666     0\n",
       " 35730    0\n",
       " 11495    0\n",
       " 20975    0\n",
       " 31975    0\n",
       " Name: Target, Length: 13564, dtype: int64)"
      ]
     },
     "execution_count": 1987,
     "metadata": {},
     "output_type": "execute_result"
    }
   ],
   "source": [
    "#Create the training set and test set in ration of 70:30\n",
    "#Importing required libaries\n",
    "from sklearn.model_selection import train_test_split\n",
    "import os\n",
    "#Drop the target 'Personal Loan' from data\n",
    "x=Bank.drop('Target',axis=1)\n",
    "y=Bank['Target']\n",
    "# Splitting the dataset into the Training set and Test set\n",
    "x_train,x_test,y_train,y_test=train_test_split(x,y,train_size=0.70,test_size=0.30,random_state=0)\n",
    "x_train,x_test,y_train,y_test"
   ]
  },
  {
   "cell_type": "code",
   "execution_count": 1988,
   "metadata": {},
   "outputs": [],
   "source": [
    "#Do data scaling/Normalization if required\n",
    "#This is needed we have variables in different scale ex: balance, pdays etc\n",
    "from sklearn.preprocessing import StandardScaler\n",
    "sc = StandardScaler()\n",
    "x_train = sc.fit_transform(x_train)\n",
    "x_test = sc.transform(x_test)"
   ]
  },
  {
   "cell_type": "code",
   "execution_count": 1989,
   "metadata": {},
   "outputs": [],
   "source": [
    "#In below steps I will be applying multiple models by fitting train data"
   ]
  },
  {
   "cell_type": "code",
   "execution_count": 1990,
   "metadata": {},
   "outputs": [],
   "source": [
    "#Create the decision tree model using “entropy” method of finding the split columns and fit it to training data.\n",
    "# invoking the decision tree classifier function. Using 'entropy' method of finding the split columns.  \n",
    "#Taking the depth of the tree as 5  randomly\n",
    "model_entropy=DecisionTreeClassifier(criterion='entropy')"
   ]
  },
  {
   "cell_type": "code",
   "execution_count": 1991,
   "metadata": {},
   "outputs": [],
   "source": [
    "entropy=model_entropy.fit(x_train, y_train)"
   ]
  },
  {
   "cell_type": "code",
   "execution_count": 1992,
   "metadata": {},
   "outputs": [
    {
     "data": {
      "text/plain": [
       "1.0"
      ]
     },
     "execution_count": 1992,
     "metadata": {},
     "output_type": "execute_result"
    }
   ],
   "source": [
    "#Print the accuracy of the model & print the confusion matrix.\n",
    "model_entropy.score(x_train, y_train)# performance on train data"
   ]
  },
  {
   "cell_type": "code",
   "execution_count": 1993,
   "metadata": {},
   "outputs": [
    {
     "data": {
      "text/plain": [
       "0.8373636095547037"
      ]
     },
     "execution_count": 1993,
     "metadata": {},
     "output_type": "execute_result"
    }
   ],
   "source": [
    "model_entropy.score(x_test, y_test) # performance on test data indicates the overfitting by ~17%"
   ]
  },
  {
   "cell_type": "code",
   "execution_count": 1994,
   "metadata": {},
   "outputs": [],
   "source": [
    "# Predicting the Test set results\n",
    "y_pred = entropy.predict(x_test)\n",
    "acc_DT = accuracy_score(y_test, y_pred)"
   ]
  },
  {
   "cell_type": "code",
   "execution_count": 1995,
   "metadata": {},
   "outputs": [
    {
     "data": {
      "text/plain": [
       "array([[10824,  1145],\n",
       "       [ 1061,   534]])"
      ]
     },
     "execution_count": 1995,
     "metadata": {},
     "output_type": "execute_result"
    }
   ],
   "source": [
    "#Printing confusion matrix\n",
    "from sklearn.metrics import confusion_matrix\n",
    "cm_entropy= confusion_matrix(y_test, y_pred)\n",
    "cm_entropy"
   ]
  },
  {
   "cell_type": "code",
   "execution_count": 1996,
   "metadata": {},
   "outputs": [
    {
     "name": "stdout",
     "output_type": "stream",
     "text": [
      "              precision    recall  f1-score   support\n",
      "\n",
      "           0       0.91      0.90      0.91     11969\n",
      "           1       0.32      0.33      0.33      1595\n",
      "\n",
      "    accuracy                           0.84     13564\n",
      "   macro avg       0.61      0.62      0.62     13564\n",
      "weighted avg       0.84      0.84      0.84     13564\n",
      "\n"
     ]
    }
   ],
   "source": [
    "#Print Classification Report to evaluate model performance\n",
    "from sklearn.metrics import classification_report\n",
    "print(classification_report(y_test,y_pred))\n",
    "#Inference: Based on below report We could conclude below things:\n",
    "#1. Model is identifying correctly 90% of customers who may reject the Term Deposit if offerred to them. \n",
    "    #Hence model is good in idenifying the customers who may tend to reject the Term Deposit offered as precision and recall is high for value 'O'\n",
    "#2. Model is identifying correctly 33% as potential customers who may opt for Term Deposit if offered. \n",
    "    # Precision and recall value for potential Term Deposit accepters is not that great.\n"
   ]
  },
  {
   "cell_type": "code",
   "execution_count": 1997,
   "metadata": {},
   "outputs": [
    {
     "data": {
      "text/plain": [
       "DecisionTreeClassifier(class_weight=None, criterion='entropy', max_depth=3,\n",
       "                       max_features=None, max_leaf_nodes=None,\n",
       "                       min_impurity_decrease=0.0, min_impurity_split=None,\n",
       "                       min_samples_leaf=5, min_samples_split=2,\n",
       "                       min_weight_fraction_leaf=0.0, presort=False,\n",
       "                       random_state=100, splitter='best')"
      ]
     },
     "execution_count": 1997,
     "metadata": {},
     "output_type": "execute_result"
    }
   ],
   "source": [
    "#There is a slight overfitting in the model due to which the test accuracy drops by ~17%\n",
    "#Regularize/prune the decision tree by limiting the max. depth of trees and print the accuracy\n",
    "clf_pruned = DecisionTreeClassifier(criterion = \"entropy\", random_state = 100,\n",
    "                               max_depth=3, min_samples_leaf=5)\n",
    "clf_pruned.fit(x_train, y_train)"
   ]
  },
  {
   "cell_type": "code",
   "execution_count": 1998,
   "metadata": {},
   "outputs": [],
   "source": [
    "y_pred_pruned = clf_pruned.predict(x_test)\n",
    "preds_pruned_train = clf_pruned.predict(x_train)"
   ]
  },
  {
   "cell_type": "code",
   "execution_count": 1999,
   "metadata": {},
   "outputs": [
    {
     "name": "stdout",
     "output_type": "stream",
     "text": [
      "0.8902978472427012\n",
      "0.8944923689449237\n"
     ]
    }
   ],
   "source": [
    "print(accuracy_score(y_test,preds_pruned))\n",
    "print(accuracy_score(y_train,preds_pruned_train))\n",
    "#Inference: We can observe that at max depth=3, model performance is good and both train and test data \n",
    "#shows consistent accuracy of ~89%"
   ]
  },
  {
   "cell_type": "code",
   "execution_count": 2000,
   "metadata": {},
   "outputs": [
    {
     "data": {
      "text/plain": [
       "array([[11796,   173],\n",
       "       [ 1315,   280]])"
      ]
     },
     "execution_count": 2000,
     "metadata": {},
     "output_type": "execute_result"
    }
   ],
   "source": [
    "#Lets print confusion matrix and check\n",
    "#Printing confusion matrix\n",
    "from sklearn.metrics import confusion_matrix\n",
    "cm_entropy_pruned= confusion_matrix(y_test, y_pred_pruned)\n",
    "cm_entropy_pruned"
   ]
  },
  {
   "cell_type": "code",
   "execution_count": 2001,
   "metadata": {},
   "outputs": [
    {
     "name": "stdout",
     "output_type": "stream",
     "text": [
      "              precision    recall  f1-score   support\n",
      "\n",
      "           0       0.90      0.99      0.94     11969\n",
      "           1       0.62      0.18      0.27      1595\n",
      "\n",
      "    accuracy                           0.89     13564\n",
      "   macro avg       0.76      0.58      0.61     13564\n",
      "weighted avg       0.87      0.89      0.86     13564\n",
      "\n"
     ]
    }
   ],
   "source": [
    "#Print Classification Report to evaluate model performance\n",
    "from sklearn.metrics import classification_report\n",
    "print(classification_report(y_test,y_pred_pruned))\n",
    "#Inference: Based on below report We could conclude below things:\n",
    "#1. Model is identifying correctly 99% of customers who may reject the Term Deposit if offerred to them. \n",
    "    #Hence model is good in idenifying the customers who may tend to reject the Term Deposit offered as precision and recall is high for value 'O'\n",
    "#2. Model is identifying correctly 18% as potential customers who may opt for Term Deposit if offered. \n",
    "    # Precision and recall value for potential Term Deposit accepters is not that great.\n"
   ]
  },
  {
   "cell_type": "code",
   "execution_count": 2020,
   "metadata": {},
   "outputs": [],
   "source": [
    "acc_DT = accuracy_score(y_test, y_pred_pruned)"
   ]
  },
  {
   "cell_type": "code",
   "execution_count": 2003,
   "metadata": {},
   "outputs": [
    {
     "data": {
      "text/html": [
       "<div>\n",
       "<style scoped>\n",
       "    .dataframe tbody tr th:only-of-type {\n",
       "        vertical-align: middle;\n",
       "    }\n",
       "\n",
       "    .dataframe tbody tr th {\n",
       "        vertical-align: top;\n",
       "    }\n",
       "\n",
       "    .dataframe thead th {\n",
       "        text-align: right;\n",
       "    }\n",
       "</style>\n",
       "<table border=\"1\" class=\"dataframe\">\n",
       "  <thead>\n",
       "    <tr style=\"text-align: right;\">\n",
       "      <th></th>\n",
       "      <th>Method</th>\n",
       "      <th>accuracy</th>\n",
       "    </tr>\n",
       "  </thead>\n",
       "  <tbody>\n",
       "    <tr>\n",
       "      <td>0</td>\n",
       "      <td>Decision Tree</td>\n",
       "      <td>0.890298</td>\n",
       "    </tr>\n",
       "  </tbody>\n",
       "</table>\n",
       "</div>"
      ],
      "text/plain": [
       "          Method  accuracy\n",
       "0  Decision Tree  0.890298"
      ]
     },
     "execution_count": 2003,
     "metadata": {},
     "output_type": "execute_result"
    }
   ],
   "source": [
    "#Store the accuracy results for each model in a dataframe for final comparison\n",
    "resultsDf = pd.DataFrame({'Method':['Decision Tree'], 'accuracy': acc_DT})\n",
    "resultsDf = resultsDf[['Method', 'accuracy']]\n",
    "resultsDf"
   ]
  },
  {
   "cell_type": "code",
   "execution_count": 2004,
   "metadata": {},
   "outputs": [],
   "source": [
    "#Apply the Random forest model and print the accuracy of Random forest Model\n",
    "from sklearn.ensemble import RandomForestClassifier\n",
    "rfcl = RandomForestClassifier(n_estimators = 50)\n",
    "rfcl = rfcl.fit(x_train, y_train)"
   ]
  },
  {
   "cell_type": "code",
   "execution_count": 2005,
   "metadata": {},
   "outputs": [
    {
     "data": {
      "text/plain": [
       "(0.9989256485606851, 0.8905927455028015)"
      ]
     },
     "execution_count": 2005,
     "metadata": {},
     "output_type": "execute_result"
    }
   ],
   "source": [
    "rfcl.score(x_train, y_train),rfcl.score(x_test, y_test)\n",
    "#The model is overfitting by ~10%. Lets print confusion matrix"
   ]
  },
  {
   "cell_type": "code",
   "execution_count": 2006,
   "metadata": {},
   "outputs": [
    {
     "data": {
      "text/plain": [
       "array([[11756,   213],\n",
       "       [ 1271,   324]])"
      ]
     },
     "execution_count": 2006,
     "metadata": {},
     "output_type": "execute_result"
    }
   ],
   "source": [
    "#Printing confusion matrix\n",
    "y_pred = rfcl.predict(x_test)\n",
    "acc_RF = accuracy_score(y_test, y_pred)\n",
    "from sklearn.metrics import confusion_matrix\n",
    "cm_RFCL = confusion_matrix(y_test, y_pred)\n",
    "cm_RFCL"
   ]
  },
  {
   "cell_type": "code",
   "execution_count": 2007,
   "metadata": {},
   "outputs": [
    {
     "name": "stdout",
     "output_type": "stream",
     "text": [
      "              precision    recall  f1-score   support\n",
      "\n",
      "           0       0.90      0.98      0.94     11969\n",
      "           1       0.60      0.20      0.30      1595\n",
      "\n",
      "    accuracy                           0.89     13564\n",
      "   macro avg       0.75      0.59      0.62     13564\n",
      "weighted avg       0.87      0.89      0.87     13564\n",
      "\n"
     ]
    }
   ],
   "source": [
    "#Print Classification Report to evaluate model performance\n",
    "from sklearn.metrics import classification_report\n",
    "print(classification_report(y_test,y_pred))\n",
    "#Inference: Based on below report We could conclude below things:\n",
    "#1. Model is identifying correctly 98% of customers who may reject the Term Deposit if offerred to them. \n",
    "    #Hence model is good in idenifying the customers who may tend to reject the Term Deposit offered as precision and recall is high for value 'O'\n",
    "#2. Model is identifying correctly 20%% as potential customers who may opt for Term Deposit if offered. \n",
    "    # Precision and recall value for potential Term Deposit accepters is not that great."
   ]
  },
  {
   "cell_type": "code",
   "execution_count": 2008,
   "metadata": {},
   "outputs": [
    {
     "data": {
      "text/html": [
       "<div>\n",
       "<style scoped>\n",
       "    .dataframe tbody tr th:only-of-type {\n",
       "        vertical-align: middle;\n",
       "    }\n",
       "\n",
       "    .dataframe tbody tr th {\n",
       "        vertical-align: top;\n",
       "    }\n",
       "\n",
       "    .dataframe thead th {\n",
       "        text-align: right;\n",
       "    }\n",
       "</style>\n",
       "<table border=\"1\" class=\"dataframe\">\n",
       "  <thead>\n",
       "    <tr style=\"text-align: right;\">\n",
       "      <th></th>\n",
       "      <th>Method</th>\n",
       "      <th>accuracy</th>\n",
       "    </tr>\n",
       "  </thead>\n",
       "  <tbody>\n",
       "    <tr>\n",
       "      <td>0</td>\n",
       "      <td>Decision Tree</td>\n",
       "      <td>0.890298</td>\n",
       "    </tr>\n",
       "    <tr>\n",
       "      <td>0</td>\n",
       "      <td>Random Forest</td>\n",
       "      <td>0.890593</td>\n",
       "    </tr>\n",
       "  </tbody>\n",
       "</table>\n",
       "</div>"
      ],
      "text/plain": [
       "          Method  accuracy\n",
       "0  Decision Tree  0.890298\n",
       "0  Random Forest  0.890593"
      ]
     },
     "execution_count": 2008,
     "metadata": {},
     "output_type": "execute_result"
    }
   ],
   "source": [
    "#Storing results in table for further comparision\n",
    "tempResultsDf = pd.DataFrame({'Method':['Random Forest'], 'accuracy': [acc_RF]})\n",
    "resultsDf = pd.concat([resultsDf, tempResultsDf])\n",
    "resultsDf = resultsDf[['Method', 'accuracy']]\n",
    "resultsDf\n",
    "resultsDf"
   ]
  },
  {
   "cell_type": "code",
   "execution_count": 2009,
   "metadata": {},
   "outputs": [],
   "source": [
    "#Apply Bagging Classifier Algorithm and print the accuracy."
   ]
  },
  {
   "cell_type": "code",
   "execution_count": 2010,
   "metadata": {},
   "outputs": [],
   "source": [
    "from sklearn.ensemble import BaggingClassifier\n",
    "bgcl = BaggingClassifier(n_estimators=50, max_samples= .7, bootstrap=True, oob_score=True, random_state=22)\n",
    "bgcl = bgcl.fit(x_train, y_train)"
   ]
  },
  {
   "cell_type": "code",
   "execution_count": 2011,
   "metadata": {},
   "outputs": [
    {
     "data": {
      "text/plain": [
       "(0.9824311941100262, 0.8905927455028015)"
      ]
     },
     "execution_count": 2011,
     "metadata": {},
     "output_type": "execute_result"
    }
   ],
   "source": [
    "#Checking if the model is overfitting\n",
    "bgcl.score(x_train, y_train),rfcl.score(x_test, y_test)\n",
    "#The model is overfitting by ~9%. Lets print confusion matrix"
   ]
  },
  {
   "cell_type": "code",
   "execution_count": 2012,
   "metadata": {},
   "outputs": [
    {
     "data": {
      "text/plain": [
       "array([[11675,   294],\n",
       "       [ 1200,   395]])"
      ]
     },
     "execution_count": 2012,
     "metadata": {},
     "output_type": "execute_result"
    }
   ],
   "source": [
    "#Printing confusion matrix\n",
    "y_pred =bgcl.predict(x_test)\n",
    "acc_BG = accuracy_score(y_test, y_pred)\n",
    "from sklearn.metrics import confusion_matrix\n",
    "cm_bgcl = confusion_matrix(y_test, y_pred)\n",
    "cm_bgcl"
   ]
  },
  {
   "cell_type": "code",
   "execution_count": 2013,
   "metadata": {},
   "outputs": [
    {
     "name": "stdout",
     "output_type": "stream",
     "text": [
      "              precision    recall  f1-score   support\n",
      "\n",
      "           0       0.91      0.98      0.94     11969\n",
      "           1       0.57      0.25      0.35      1595\n",
      "\n",
      "    accuracy                           0.89     13564\n",
      "   macro avg       0.74      0.61      0.64     13564\n",
      "weighted avg       0.87      0.89      0.87     13564\n",
      "\n"
     ]
    }
   ],
   "source": [
    "#Print Classification Report to evaluate the model performance\n",
    "from sklearn.metrics import classification_report\n",
    "print(classification_report(y_test,y_pred))\n",
    "#Inference: Based on below report We could conclude below things:\n",
    "#1. Model is identifying correctly 98% of customers who may reject the Term Deposit if offerred to them. \n",
    "    #Hence model is good in idenifying the customers who may tend to reject the Term Deposit offered as precision and recall is high for value 'O'\n",
    "#2. Model is identifying correctly 25% as potential customers who may opt for Term Deposit if offered. \n",
    "    # Precision and recall value for potential Term Deposit accepters is not that great."
   ]
  },
  {
   "cell_type": "code",
   "execution_count": 2014,
   "metadata": {},
   "outputs": [
    {
     "data": {
      "text/html": [
       "<div>\n",
       "<style scoped>\n",
       "    .dataframe tbody tr th:only-of-type {\n",
       "        vertical-align: middle;\n",
       "    }\n",
       "\n",
       "    .dataframe tbody tr th {\n",
       "        vertical-align: top;\n",
       "    }\n",
       "\n",
       "    .dataframe thead th {\n",
       "        text-align: right;\n",
       "    }\n",
       "</style>\n",
       "<table border=\"1\" class=\"dataframe\">\n",
       "  <thead>\n",
       "    <tr style=\"text-align: right;\">\n",
       "      <th></th>\n",
       "      <th>Method</th>\n",
       "      <th>accuracy</th>\n",
       "    </tr>\n",
       "  </thead>\n",
       "  <tbody>\n",
       "    <tr>\n",
       "      <td>0</td>\n",
       "      <td>Decision Tree</td>\n",
       "      <td>0.890298</td>\n",
       "    </tr>\n",
       "    <tr>\n",
       "      <td>0</td>\n",
       "      <td>Random Forest</td>\n",
       "      <td>0.890593</td>\n",
       "    </tr>\n",
       "    <tr>\n",
       "      <td>0</td>\n",
       "      <td>Bagging</td>\n",
       "      <td>0.889855</td>\n",
       "    </tr>\n",
       "  </tbody>\n",
       "</table>\n",
       "</div>"
      ],
      "text/plain": [
       "          Method  accuracy\n",
       "0  Decision Tree  0.890298\n",
       "0  Random Forest  0.890593\n",
       "0        Bagging  0.889855"
      ]
     },
     "execution_count": 2014,
     "metadata": {},
     "output_type": "execute_result"
    }
   ],
   "source": [
    "tempResultsDf = pd.DataFrame({'Method':['Bagging'], 'accuracy': [acc_BG]})\n",
    "resultsDf = pd.concat([resultsDf, tempResultsDf])\n",
    "resultsDf = resultsDf[['Method', 'accuracy']]\n",
    "resultsDf\n",
    "resultsDf"
   ]
  },
  {
   "cell_type": "code",
   "execution_count": 2015,
   "metadata": {},
   "outputs": [],
   "source": [
    "# Apply GradientBoost Classifier Algorithm for the same data and print the accuracy\n",
    "from sklearn.ensemble import GradientBoostingClassifier\n",
    "gbcl = GradientBoostingClassifier(n_estimators = 50, learning_rate = 0.1, random_state=22)\n",
    "gbcl = gbcl.fit(x_train, y_train)"
   ]
  },
  {
   "cell_type": "code",
   "execution_count": 2016,
   "metadata": {},
   "outputs": [
    {
     "data": {
      "text/plain": [
       "(0.8963566846778526, 0.8921409613683279)"
      ]
     },
     "execution_count": 2016,
     "metadata": {},
     "output_type": "execute_result"
    }
   ],
   "source": [
    "#Checking if the model is overfitting\n",
    "gbcl.score(x_train, y_train),gbcl.score(x_test, y_test)\n",
    "#From below score we can conclude that model is not overfitting"
   ]
  },
  {
   "cell_type": "code",
   "execution_count": 2017,
   "metadata": {},
   "outputs": [
    {
     "data": {
      "text/plain": [
       "array([[11816,   153],\n",
       "       [ 1310,   285]])"
      ]
     },
     "execution_count": 2017,
     "metadata": {},
     "output_type": "execute_result"
    }
   ],
   "source": [
    "#Printing confusion matrix\n",
    "y_pred =gbcl.predict(x_test)\n",
    "acc_GB = accuracy_score(y_test, y_pred)\n",
    "from sklearn.metrics import confusion_matrix\n",
    "cm_gbcl = confusion_matrix(y_test, y_pred)\n",
    "cm_gbcl"
   ]
  },
  {
   "cell_type": "code",
   "execution_count": 2018,
   "metadata": {},
   "outputs": [
    {
     "name": "stdout",
     "output_type": "stream",
     "text": [
      "              precision    recall  f1-score   support\n",
      "\n",
      "           0       0.90      0.99      0.94     11969\n",
      "           1       0.65      0.18      0.28      1595\n",
      "\n",
      "    accuracy                           0.89     13564\n",
      "   macro avg       0.78      0.58      0.61     13564\n",
      "weighted avg       0.87      0.89      0.86     13564\n",
      "\n"
     ]
    }
   ],
   "source": [
    "from sklearn.metrics import classification_report\n",
    "print(classification_report(y_test,y_pred))\n",
    "#Inference: Based on below report We could conclude below things:\n",
    "#1. Model is identifying correctly 99% of customers who may reject the Term Deposit if offerred to them. \n",
    "    #Hence model is good in idenifying the customers who may tend to reject the Term Deposit offered as precision and recall is high for value 'O'\n",
    "#2. Model is identifying correctly 18%% as potential customers who may opt for Term Deposit if offered. \n",
    "    # Precision and recall value for potential Term Deposit accepters is not that great."
   ]
  },
  {
   "cell_type": "code",
   "execution_count": 2019,
   "metadata": {},
   "outputs": [
    {
     "data": {
      "text/html": [
       "<div>\n",
       "<style scoped>\n",
       "    .dataframe tbody tr th:only-of-type {\n",
       "        vertical-align: middle;\n",
       "    }\n",
       "\n",
       "    .dataframe tbody tr th {\n",
       "        vertical-align: top;\n",
       "    }\n",
       "\n",
       "    .dataframe thead th {\n",
       "        text-align: right;\n",
       "    }\n",
       "</style>\n",
       "<table border=\"1\" class=\"dataframe\">\n",
       "  <thead>\n",
       "    <tr style=\"text-align: right;\">\n",
       "      <th></th>\n",
       "      <th>Method</th>\n",
       "      <th>accuracy</th>\n",
       "    </tr>\n",
       "  </thead>\n",
       "  <tbody>\n",
       "    <tr>\n",
       "      <td>0</td>\n",
       "      <td>Decision Tree</td>\n",
       "      <td>0.890298</td>\n",
       "    </tr>\n",
       "    <tr>\n",
       "      <td>0</td>\n",
       "      <td>Random Forest</td>\n",
       "      <td>0.890593</td>\n",
       "    </tr>\n",
       "    <tr>\n",
       "      <td>0</td>\n",
       "      <td>Bagging</td>\n",
       "      <td>0.889855</td>\n",
       "    </tr>\n",
       "    <tr>\n",
       "      <td>0</td>\n",
       "      <td>Gradient Boost</td>\n",
       "      <td>0.892141</td>\n",
       "    </tr>\n",
       "  </tbody>\n",
       "</table>\n",
       "</div>"
      ],
      "text/plain": [
       "           Method  accuracy\n",
       "0   Decision Tree  0.890298\n",
       "0   Random Forest  0.890593\n",
       "0         Bagging  0.889855\n",
       "0  Gradient Boost  0.892141"
      ]
     },
     "execution_count": 2019,
     "metadata": {},
     "output_type": "execute_result"
    }
   ],
   "source": [
    "tempResultsDf = pd.DataFrame({'Method':['Gradient Boost'], 'accuracy': [acc_GB]})\n",
    "resultsDf = pd.concat([resultsDf, tempResultsDf])\n",
    "resultsDf = resultsDf[['Method', 'accuracy']]\n",
    "resultsDf\n",
    "resultsDf"
   ]
  },
  {
   "cell_type": "code",
   "execution_count": 1911,
   "metadata": {},
   "outputs": [],
   "source": [
    "#Overall Conclusion:\n",
    "#From the above analysis, I feel that Gradient Booster seems to be comparatively good model for below reasons:\n",
    "# 1. It has 0% overfitting/underfitting as ~0% bias/variance  is observed across train data and test data and accuracy is also same (ie., 89%)\n",
    "# 2. Overall model accuracy is 89.21% which is compartively more than any other model:Decision Tree, Random Forest, Bagger present above\n",
    "# 3. Eventhough recall in identifying customers who may opt for Term Deposit is slightly less (18%), precision  is more 65% for it\n",
    "# compared to any other model\n",
    "#4. This model is consistent and accurate in identifying the customers who may not opt for Term Deposit (precision 90%, recall 99%)\n",
    "# compared to any other model\n"
   ]
  }
 ],
 "metadata": {
  "kernelspec": {
   "display_name": "Python 3",
   "language": "python",
   "name": "python3"
  },
  "language_info": {
   "codemirror_mode": {
    "name": "ipython",
    "version": 3
   },
   "file_extension": ".py",
   "mimetype": "text/x-python",
   "name": "python",
   "nbconvert_exporter": "python",
   "pygments_lexer": "ipython3",
   "version": "3.7.7"
  }
 },
 "nbformat": 4,
 "nbformat_minor": 2
}
